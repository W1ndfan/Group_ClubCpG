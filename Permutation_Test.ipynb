{
 "cells": [
  {
   "cell_type": "code",
   "execution_count": 1,
   "metadata": {},
   "outputs": [
    {
     "data": {
      "text/html": [
       "<table>\n",
       "<thead><tr><th></th><th scope=col>binID</th><th scope=col>start</th><th scope=col>high</th><th scope=col>medium</th><th scope=col>low</th></tr></thead>\n",
       "<tbody>\n",
       "\t<tr><th scope=row>13719</th><td>chr19_3079000</td><td>3078900      </td><td> 72          </td><td>27           </td><td> 5           </td></tr>\n",
       "\t<tr><th scope=row>13722</th><td>chr19_3079600</td><td>3079500      </td><td> 58          </td><td>10           </td><td> 5           </td></tr>\n",
       "\t<tr><th scope=row>13725</th><td>chr19_3079800</td><td>3079700      </td><td> 77          </td><td>62           </td><td> 5           </td></tr>\n",
       "\t<tr><th scope=row>13746</th><td>chr19_3083900</td><td>3083800      </td><td>  6          </td><td> 0           </td><td> 0           </td></tr>\n",
       "\t<tr><th scope=row>13751</th><td>chr19_3084300</td><td>3084200      </td><td> 17          </td><td>19           </td><td>47           </td></tr>\n",
       "\t<tr><th scope=row>13759</th><td>chr19_3085800</td><td>3085700      </td><td> 16          </td><td>18           </td><td> 0           </td></tr>\n",
       "\t<tr><th scope=row>13770</th><td>chr19_3087800</td><td>3087700      </td><td> 10          </td><td> 0           </td><td> 0           </td></tr>\n",
       "\t<tr><th scope=row>13814</th><td>chr19_3094600</td><td>3094500      </td><td>127          </td><td>27           </td><td> 7           </td></tr>\n",
       "\t<tr><th scope=row>13815</th><td>chr19_3095100</td><td>3095000      </td><td>  9          </td><td> 0           </td><td> 0           </td></tr>\n",
       "\t<tr><th scope=row>13818</th><td>chr19_3095300</td><td>3095200      </td><td> 36          </td><td>16           </td><td> 1           </td></tr>\n",
       "</tbody>\n",
       "</table>\n"
      ],
      "text/latex": [
       "\\begin{tabular}{r|lllll}\n",
       "  & binID & start & high & medium & low\\\\\n",
       "\\hline\n",
       "\t13719 & chr19\\_3079000 & 3078900         &  72             & 27              &  5             \\\\\n",
       "\t13722 & chr19\\_3079600 & 3079500         &  58             & 10              &  5             \\\\\n",
       "\t13725 & chr19\\_3079800 & 3079700         &  77             & 62              &  5             \\\\\n",
       "\t13746 & chr19\\_3083900 & 3083800         &   6             &  0              &  0             \\\\\n",
       "\t13751 & chr19\\_3084300 & 3084200         &  17             & 19              & 47             \\\\\n",
       "\t13759 & chr19\\_3085800 & 3085700         &  16             & 18              &  0             \\\\\n",
       "\t13770 & chr19\\_3087800 & 3087700         &  10             &  0              &  0             \\\\\n",
       "\t13814 & chr19\\_3094600 & 3094500         & 127             & 27              &  7             \\\\\n",
       "\t13815 & chr19\\_3095100 & 3095000         &   9             &  0              &  0             \\\\\n",
       "\t13818 & chr19\\_3095300 & 3095200         &  36             & 16              &  1             \\\\\n",
       "\\end{tabular}\n"
      ],
      "text/markdown": [
       "\n",
       "| <!--/--> | binID | start | high | medium | low | \n",
       "|---|---|---|---|---|---|---|---|---|---|\n",
       "| 13719 | chr19_3079000 | 3078900       |  72           | 27            |  5            | \n",
       "| 13722 | chr19_3079600 | 3079500       |  58           | 10            |  5            | \n",
       "| 13725 | chr19_3079800 | 3079700       |  77           | 62            |  5            | \n",
       "| 13746 | chr19_3083900 | 3083800       |   6           |  0            |  0            | \n",
       "| 13751 | chr19_3084300 | 3084200       |  17           | 19            | 47            | \n",
       "| 13759 | chr19_3085800 | 3085700       |  16           | 18            |  0            | \n",
       "| 13770 | chr19_3087800 | 3087700       |  10           |  0            |  0            | \n",
       "| 13814 | chr19_3094600 | 3094500       | 127           | 27            |  7            | \n",
       "| 13815 | chr19_3095100 | 3095000       |   9           |  0            |  0            | \n",
       "| 13818 | chr19_3095300 | 3095200       |  36           | 16            |  1            | \n",
       "\n",
       "\n"
      ],
      "text/plain": [
       "      binID         start   high medium low\n",
       "13719 chr19_3079000 3078900  72  27      5 \n",
       "13722 chr19_3079600 3079500  58  10      5 \n",
       "13725 chr19_3079800 3079700  77  62      5 \n",
       "13746 chr19_3083900 3083800   6   0      0 \n",
       "13751 chr19_3084300 3084200  17  19     47 \n",
       "13759 chr19_3085800 3085700  16  18      0 \n",
       "13770 chr19_3087800 3087700  10   0      0 \n",
       "13814 chr19_3094600 3094500 127  27      7 \n",
       "13815 chr19_3095100 3095000   9   0      0 \n",
       "13818 chr19_3095300 3095200  36  16      1 "
      ]
     },
     "metadata": {},
     "output_type": "display_data"
    }
   ],
   "source": [
    "data <- read.csv(\"new_chr19_static_classified.csv\")\n",
    "\n",
    "high_sub <- data[data$cata == 3, c(\"binID\", \"start\", \"aRead\")]\n",
    "names(high_sub) <- c(\"binID\", \"start\", \"high\")\n",
    "# head(high_sub)\n",
    "medium_sub <- data[data$cata == 2, c(\"binID\", \"start\", \"aRead\")]\n",
    "names(medium_sub) <- c(\"binID\", \"start\", \"medium\")\n",
    "# head(medium_sub)\n",
    "low_sub <- data[data$cata == 1, c(\"binID\", \"start\", \"aRead\")]\n",
    "names(low_sub) <- c(\"binID\", \"start\", \"low\")\n",
    "# head(low_sub)\n",
    "\n",
    "# merge\n",
    "clusterdf <- merge(high_sub, medium_sub, all = TRUE)\n",
    "clusterdf <- merge(clusterdf, low_sub, all = TRUE)\n",
    "clusterdf <- clusterdf[order(as.numeric(clusterdf$start)),]\n",
    "clusterdf[is.na(clusterdf)] <- 0\n",
    "head(clusterdf,10)"
   ]
  },
  {
   "cell_type": "code",
   "execution_count": 2,
   "metadata": {},
   "outputs": [],
   "source": [
    "true.clusterdf = clusterdf"
   ]
  },
  {
   "cell_type": "code",
   "execution_count": 3,
   "metadata": {},
   "outputs": [
    {
     "data": {
      "text/html": [
       "41135"
      ],
      "text/latex": [
       "41135"
      ],
      "text/markdown": [
       "41135"
      ],
      "text/plain": [
       "[1] 41135"
      ]
     },
     "metadata": {},
     "output_type": "display_data"
    }
   ],
   "source": [
    "bin.number = nrow(true.clusterdf)\n",
    "bin.number"
   ]
  },
  {
   "cell_type": "code",
   "execution_count": 4,
   "metadata": {},
   "outputs": [],
   "source": [
    "dist_tolerance <- 100\n",
    "alpha <- 0.05"
   ]
  },
  {
   "cell_type": "code",
   "execution_count": 5,
   "metadata": {},
   "outputs": [],
   "source": [
    "dist.fun <- function(row) {\n",
    "        dist <- as.numeric(as.character(row[\"start\"])) - as.numeric(as.character(pre.row[\"start\"]))\n",
    "        pre.row <<- row\n",
    "        return(c(row[\"binID\"], row[\"start\"], row[\"high\"], row[\"medium\"], row[\"low\"], dist = dist)) \n",
    "    }"
   ]
  },
  {
   "cell_type": "code",
   "execution_count": 6,
   "metadata": {},
   "outputs": [],
   "source": [
    "test.fun <- function(row) {\n",
    "        if (as.numeric(as.character(row[\"start\"])) - as.numeric(as.character(pre.row[\"start\"])) > 100) {\n",
    "            pre.row <<- row\n",
    "            return(c(row[\"binID\"], start = as.character(row[\"start\"]), p.value = \"0\"))\n",
    "        } else {\n",
    "            test.matrix <- cbind(c(as.numeric(as.character(pre.row[\"high\"])),\n",
    "                                   as.numeric(as.character(pre.row[\"medium\"])),\n",
    "                                   as.numeric(as.character(pre.row[\"low\"]))),\n",
    "                                 c(as.numeric(as.character(row[\"high\"])), \n",
    "                                   as.numeric(as.character(row[\"medium\"])),\n",
    "                                   as.numeric(as.character(row[\"low\"]))))\n",
    "            test.matrix <- test.matrix[rowSums(test.matrix) > 0, ]\n",
    "            value <- suppressWarnings(chisq.test(test.matrix)$p.value)\n",
    "            pre.row <<- row\n",
    "            return(c(row[\"binID\"], start = as.character(row[\"start\"]), p.value = as.character(value)))\n",
    "        }\n",
    "    }"
   ]
  },
  {
   "cell_type": "code",
   "execution_count": 7,
   "metadata": {},
   "outputs": [],
   "source": [
    "group.count <- function(row) {\n",
    "    if ((as.numeric(as.character(row[\"start\"])) - as.numeric(as.character(pre.row[\"start\"]))) > 100) {\n",
    "        count <<- count + 1\n",
    "    }\n",
    "    pre.row <<- row\n",
    "}"
   ]
  },
  {
   "cell_type": "code",
   "execution_count": 9,
   "metadata": {},
   "outputs": [],
   "source": [
    "result = c()\n",
    "pre.row = 1\n",
    "count = 0\n",
    "\n",
    "group.func <- function(clusterdf) {   \n",
    "    count <<- 0\n",
    "    \n",
    "    pre.row <<- clusterdf[1,]\n",
    "\n",
    "    dist.result <- t(apply(clusterdf, 1, dist.fun))\n",
    "    dist.result <- as.data.frame(dist.result)\n",
    "#     head(dist.result, 30)\n",
    "    \n",
    "    dist.result <- dist.result[as.numeric(as.character(dist.result$dist)) <= dist_tolerance, ]\n",
    "#     head(dist.result)\n",
    "\n",
    "    dist.result <- dist.result[-1,]\n",
    "#     head(dist.result)\n",
    "#     nrow(dist.result)\n",
    "    \n",
    "    start.pos <- dist.result$start\n",
    "    complete <- lapply(start.pos, function(x) c(as.numeric(as.character(x))-100, as.numeric(as.character(x))))\n",
    "    complete <- Reduce(c, complete)\n",
    "    complete <- unique(complete)\n",
    "#     head(complete,10)\n",
    "                       \n",
    "    grouping <- clusterdf[as.numeric(as.character(clusterdf$start)) %in% complete, ]\n",
    "    dist.result <- as.data.frame(grouping)\n",
    "#     head(grouping,10)\n",
    "    \n",
    "    pre.row <<- dist.result[1,]\n",
    "\n",
    "    test.result <- apply(dist.result[-1,], MARGIN = 1, FUN = test.fun)\n",
    "    test.result <- t(test.result)\n",
    "    test.result <- as.data.frame(test.result)\n",
    "#     head(test.result)\n",
    "                       \n",
    "    good.result <- test.result[as.numeric(as.character(test.result$p.value)) > alpha,]\n",
    "#     head(good.result)\n",
    "    \n",
    "    start.pos <- good.result$start\n",
    "    complete <- lapply(start.pos, function(x) c(as.numeric(as.character(x))-100, as.numeric(as.character(x))))\n",
    "    complete <- Reduce(c, complete)\n",
    "    complete <- unique(complete)\n",
    "#     head(complete,10)\n",
    "                       \n",
    "    grouping <- clusterdf[as.numeric(as.character(clusterdf$start)) %in% complete, ]\n",
    "    grouping <- as.data.frame(grouping)\n",
    "#     head(grouping,10)\n",
    "                       \n",
    "    pre.row <<- grouping[1,]\n",
    "                       \n",
    "#     head(part)\n",
    "#     tail(part)\n",
    "    \n",
    "    invisible(apply(grouping[-1,], 1, group.count)) \n",
    "    \n",
    "    result <<- c(result, count)\n",
    "    \n",
    "}         "
   ]
  },
  {
   "cell_type": "code",
   "execution_count": 11,
   "metadata": {},
   "outputs": [
    {
     "data": {
      "text/html": [
       "<table>\n",
       "<thead><tr><th></th><th scope=col>binID</th><th scope=col>start</th><th scope=col>high</th><th scope=col>medium</th><th scope=col>low</th></tr></thead>\n",
       "<tbody>\n",
       "\t<tr><th scope=row>5216</th><td>chr19_3079000</td><td>3078900      </td><td> 59          </td><td>34           </td><td>12           </td></tr>\n",
       "\t<tr><th scope=row>39872</th><td>chr19_3079600</td><td>3079500      </td><td> 64          </td><td>12           </td><td> 0           </td></tr>\n",
       "\t<tr><th scope=row>18855</th><td>chr19_3079800</td><td>3079700      </td><td>  0          </td><td> 0           </td><td>79           </td></tr>\n",
       "\t<tr><th scope=row>4350</th><td>chr19_3083900</td><td>3083800      </td><td>141          </td><td>15           </td><td> 7           </td></tr>\n",
       "\t<tr><th scope=row>31545</th><td>chr19_3084300</td><td>3084200      </td><td>263          </td><td>48           </td><td> 7           </td></tr>\n",
       "\t<tr><th scope=row>8079</th><td>chr19_3085800</td><td>3085700      </td><td> 73          </td><td>24           </td><td> 9           </td></tr>\n",
       "</tbody>\n",
       "</table>\n"
      ],
      "text/latex": [
       "\\begin{tabular}{r|lllll}\n",
       "  & binID & start & high & medium & low\\\\\n",
       "\\hline\n",
       "\t5216 & chr19\\_3079000 & 3078900         &  59             & 34              & 12             \\\\\n",
       "\t39872 & chr19\\_3079600 & 3079500         &  64             & 12              &  0             \\\\\n",
       "\t18855 & chr19\\_3079800 & 3079700         &   0             &  0              & 79             \\\\\n",
       "\t4350 & chr19\\_3083900 & 3083800         & 141             & 15              &  7             \\\\\n",
       "\t31545 & chr19\\_3084300 & 3084200         & 263             & 48              &  7             \\\\\n",
       "\t8079 & chr19\\_3085800 & 3085700         &  73             & 24              &  9             \\\\\n",
       "\\end{tabular}\n"
      ],
      "text/markdown": [
       "\n",
       "| <!--/--> | binID | start | high | medium | low | \n",
       "|---|---|---|---|---|---|\n",
       "| 5216 | chr19_3079000 | 3078900       |  59           | 34            | 12            | \n",
       "| 39872 | chr19_3079600 | 3079500       |  64           | 12            |  0            | \n",
       "| 18855 | chr19_3079800 | 3079700       |   0           |  0            | 79            | \n",
       "| 4350 | chr19_3083900 | 3083800       | 141           | 15            |  7            | \n",
       "| 31545 | chr19_3084300 | 3084200       | 263           | 48            |  7            | \n",
       "| 8079 | chr19_3085800 | 3085700       |  73           | 24            |  9            | \n",
       "\n",
       "\n"
      ],
      "text/plain": [
       "      binID         start   high medium low\n",
       "5216  chr19_3079000 3078900  59  34     12 \n",
       "39872 chr19_3079600 3079500  64  12      0 \n",
       "18855 chr19_3079800 3079700   0   0     79 \n",
       "4350  chr19_3083900 3083800 141  15      7 \n",
       "31545 chr19_3084300 3084200 263  48      7 \n",
       "8079  chr19_3085800 3085700  73  24      9 "
      ]
     },
     "metadata": {},
     "output_type": "display_data"
    }
   ],
   "source": [
    "cand = list()\n",
    "for (i in 1:100) {\n",
    "    clusterdf = true.clusterdf\n",
    "    new.label = sample(1 : bin.number, bin.number)\n",
    "\n",
    "    new.binID = true.clusterdf[new.label, \"binID\"]\n",
    "    new.start = true.clusterdf[new.label, \"start\"]\n",
    "    clusterdf[,\"binID\"] = new.binID\n",
    "    clusterdf[,\"start\"] = new.start\n",
    "    \n",
    "    clusterdf = clusterdf[order(as.numeric(as.character(clusterdf$start))),]\n",
    "#     print(\"sorted\")\n",
    "#     head(df,10)\n",
    "    cand[[i]] = clusterdf\n",
    "}"
   ]
  },
  {
   "cell_type": "code",
   "execution_count": null,
   "metadata": {},
   "outputs": [],
   "source": [
    "invisible(lapply(cand, group.func))\n",
    "\n",
    "result"
   ]
  }
 ],
 "metadata": {
  "kernelspec": {
   "display_name": "R",
   "language": "R",
   "name": "ir"
  },
  "language_info": {
   "codemirror_mode": "r",
   "file_extension": ".r",
   "mimetype": "text/x-r-source",
   "name": "R",
   "pygments_lexer": "r",
   "version": "3.5.1"
  }
 },
 "nbformat": 4,
 "nbformat_minor": 2
}
