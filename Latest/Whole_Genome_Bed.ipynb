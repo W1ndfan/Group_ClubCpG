{
 "cells": [
  {
   "cell_type": "code",
   "execution_count": 1,
   "metadata": {},
   "outputs": [
    {
     "data": {
      "text/html": [
       "<table>\n",
       "<thead><tr><th scope=col>V1</th><th scope=col>V2</th><th scope=col>V3</th><th scope=col>V4</th></tr></thead>\n",
       "<tbody>\n",
       "\t<tr><td>chr1        </td><td>3037900     </td><td>3038099     </td><td>chr1_3038000</td></tr>\n",
       "\t<tr><td>chr1        </td><td>3053400     </td><td>3053599     </td><td>chr1_3053500</td></tr>\n",
       "\t<tr><td>chr1        </td><td>3147500     </td><td>3147699     </td><td>chr1_3147600</td></tr>\n",
       "\t<tr><td>chr1        </td><td>3151500     </td><td>3151699     </td><td>chr1_3151600</td></tr>\n",
       "\t<tr><td>chr1        </td><td>3154500     </td><td>3154699     </td><td>chr1_3154600</td></tr>\n",
       "\t<tr><td>chr1        </td><td>3274400     </td><td>3274699     </td><td>chr1_3274500</td></tr>\n",
       "</tbody>\n",
       "</table>\n"
      ],
      "text/latex": [
       "\\begin{tabular}{r|llll}\n",
       " V1 & V2 & V3 & V4\\\\\n",
       "\\hline\n",
       "\t chr1           & 3037900        & 3038099        & chr1\\_3038000\\\\\n",
       "\t chr1           & 3053400        & 3053599        & chr1\\_3053500\\\\\n",
       "\t chr1           & 3147500        & 3147699        & chr1\\_3147600\\\\\n",
       "\t chr1           & 3151500        & 3151699        & chr1\\_3151600\\\\\n",
       "\t chr1           & 3154500        & 3154699        & chr1\\_3154600\\\\\n",
       "\t chr1           & 3274400        & 3274699        & chr1\\_3274500\\\\\n",
       "\\end{tabular}\n"
      ],
      "text/markdown": [
       "\n",
       "V1 | V2 | V3 | V4 | \n",
       "|---|---|---|---|---|---|\n",
       "| chr1         | 3037900      | 3038099      | chr1_3038000 | \n",
       "| chr1         | 3053400      | 3053599      | chr1_3053500 | \n",
       "| chr1         | 3147500      | 3147699      | chr1_3147600 | \n",
       "| chr1         | 3151500      | 3151699      | chr1_3151600 | \n",
       "| chr1         | 3154500      | 3154699      | chr1_3154600 | \n",
       "| chr1         | 3274400      | 3274699      | chr1_3274500 | \n",
       "\n",
       "\n"
      ],
      "text/plain": [
       "  V1   V2      V3      V4          \n",
       "1 chr1 3037900 3038099 chr1_3038000\n",
       "2 chr1 3053400 3053599 chr1_3053500\n",
       "3 chr1 3147500 3147699 chr1_3147600\n",
       "4 chr1 3151500 3151699 chr1_3151600\n",
       "5 chr1 3154500 3154699 chr1_3154600\n",
       "6 chr1 3274400 3274699 chr1_3274500"
      ]
     },
     "metadata": {},
     "output_type": "display_data"
    }
   ],
   "source": [
    "whole_genome = read.table(\"chr1 _B_GO.bed\", sep = \"\\t\")\n",
    "whole_genome[,1] = substr(whole_genome[,1],1,4)\n",
    "head(whole_genome)"
   ]
  },
  {
   "cell_type": "code",
   "execution_count": 2,
   "metadata": {},
   "outputs": [],
   "source": [
    "for (i in 2:9) {\n",
    "    filename = paste(\"chr\", as.character(i), \" _B_GO.bed\", sep = \"\")\n",
    "    chr = read.table(filename, sep = \"\\t\")\n",
    "    chr[,1] = substr(chr[,1], 1, 4)\n",
    "    whole_genome <- rbind(whole_genome, chr)\n",
    "}\n",
    "\n",
    "for (i in 10:19) {\n",
    "    filename = paste(\"chr\", as.character(i), \" _B_GO.bed\", sep = \"\")\n",
    "    chr = read.table(filename, sep = \"\\t\")\n",
    "    whole_genome <- rbind(whole_genome, chr)\n",
    "}\n",
    "\n",
    "chrX = read.table(\"chrX _B_GO.bed\", sep = \"\\t\")\n",
    "chrX[,1] = substr(chrX[,1], 1, 4)\n",
    "whole_genome <- rbind(whole_genome, chrX)\n",
    "chrY = read.table(\"chrY _B_GO.bed\", sep = \"\\t\")\n",
    "chrY[,1] = substr(chrY[,1], 1, 4)\n",
    "whole_genome <- rbind(whole_genome, chrY)"
   ]
  },
  {
   "cell_type": "code",
   "execution_count": 3,
   "metadata": {},
   "outputs": [],
   "source": [
    "whole_genome[,2] = as.integer(whole_genome[,2])\n",
    "whole_genome[,3] = as.integer(whole_genome[,3])"
   ]
  },
  {
   "cell_type": "code",
   "execution_count": 4,
   "metadata": {},
   "outputs": [],
   "source": [
    "write.table(whole_genome, file = \"B_GO.bed\", quote = FALSE, sep = \"\\t\", col.names = FALSE, row.names = FALSE)"
   ]
  }
 ],
 "metadata": {
  "kernelspec": {
   "display_name": "R",
   "language": "R",
   "name": "ir"
  },
  "language_info": {
   "codemirror_mode": "r",
   "file_extension": ".r",
   "mimetype": "text/x-r-source",
   "name": "R",
   "pygments_lexer": "r",
   "version": "3.5.1"
  }
 },
 "nbformat": 4,
 "nbformat_minor": 2
}
