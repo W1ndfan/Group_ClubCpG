{
 "cells": [
  {
   "cell_type": "code",
   "execution_count": 1,
   "metadata": {},
   "outputs": [
    {
     "data": {
      "text/html": [
       "<table>\n",
       "<thead><tr><th scope=col>X</th><th scope=col>binID</th><th scope=col>start</th><th scope=col>high</th><th scope=col>medium</th><th scope=col>low</th></tr></thead>\n",
       "<tbody>\n",
       "\t<tr><td>40036       </td><td>chrX_3050400</td><td>3050300     </td><td> 58         </td><td>  0         </td><td>  0         </td></tr>\n",
       "\t<tr><td>    2       </td><td>chrX_3050500</td><td>3050400     </td><td> 86         </td><td>  6         </td><td>  0         </td></tr>\n",
       "\t<tr><td>    1       </td><td>gap 1       </td><td>      0     </td><td>100         </td><td>100         </td><td>100         </td></tr>\n",
       "\t<tr><td>    4       </td><td>chrX_3054300</td><td>3054200     </td><td>108         </td><td> 37         </td><td>  4         </td></tr>\n",
       "\t<tr><td>    5       </td><td>chrX_3054400</td><td>3054300     </td><td> 68         </td><td> 16         </td><td>  0         </td></tr>\n",
       "\t<tr><td>   11       </td><td>gap 2       </td><td>      0     </td><td>100         </td><td>100         </td><td>100         </td></tr>\n",
       "</tbody>\n",
       "</table>\n"
      ],
      "text/latex": [
       "\\begin{tabular}{r|llllll}\n",
       " X & binID & start & high & medium & low\\\\\n",
       "\\hline\n",
       "\t 40036          & chrX\\_3050400 & 3050300        &  58            &   0            &   0           \\\\\n",
       "\t     2          & chrX\\_3050500 & 3050400        &  86            &   6            &   0           \\\\\n",
       "\t     1        & gap 1        &       0      & 100          & 100          & 100         \\\\\n",
       "\t     4          & chrX\\_3054300 & 3054200        & 108            &  37            &   4           \\\\\n",
       "\t     5          & chrX\\_3054400 & 3054300        &  68            &  16            &   0           \\\\\n",
       "\t    11        & gap 2        &       0      & 100          & 100          & 100         \\\\\n",
       "\\end{tabular}\n"
      ],
      "text/markdown": [
       "\n",
       "X | binID | start | high | medium | low | \n",
       "|---|---|---|---|---|---|\n",
       "| 40036        | chrX_3050400 | 3050300      |  58          |   0          |   0          | \n",
       "|     2        | chrX_3050500 | 3050400      |  86          |   6          |   0          | \n",
       "|     1        | gap 1        |       0      | 100          | 100          | 100          | \n",
       "|     4        | chrX_3054300 | 3054200      | 108          |  37          |   4          | \n",
       "|     5        | chrX_3054400 | 3054300      |  68          |  16          |   0          | \n",
       "|    11        | gap 2        |       0      | 100          | 100          | 100          | \n",
       "\n",
       "\n"
      ],
      "text/plain": [
       "  X     binID        start   high medium low\n",
       "1 40036 chrX_3050400 3050300  58    0      0\n",
       "2     2 chrX_3050500 3050400  86    6      0\n",
       "3     1 gap 1              0 100  100    100\n",
       "4     4 chrX_3054300 3054200 108   37      4\n",
       "5     5 chrX_3054400 3054300  68   16      0\n",
       "6    11 gap 2              0 100  100    100"
      ]
     },
     "metadata": {},
     "output_type": "display_data"
    }
   ],
   "source": [
    "chrNum = \"chrX\"\n",
    "data <- read.csv(paste(chrNum, \"_B_group.csv\", sep = \"\"))\n",
    "head(data)"
   ]
  },
  {
   "cell_type": "code",
   "execution_count": 2,
   "metadata": {},
   "outputs": [
    {
     "data": {
      "text/html": [
       "<table>\n",
       "<thead><tr><th></th><th scope=col>X</th><th scope=col>binID</th><th scope=col>start</th><th scope=col>high</th><th scope=col>medium</th><th scope=col>low</th></tr></thead>\n",
       "<tbody>\n",
       "\t<tr><th scope=row>9997</th><td>13738         </td><td>gap 3191      </td><td>        0     </td><td>100           </td><td>100           </td><td>100           </td></tr>\n",
       "\t<tr><th scope=row>9998</th><td> 9998         </td><td>chrX_170013500</td><td>170013400     </td><td> 35           </td><td>  0           </td><td>  0           </td></tr>\n",
       "\t<tr><th scope=row>9999</th><td> 9999         </td><td>chrX_170013600</td><td>170013500     </td><td> 86           </td><td>  2           </td><td>  0           </td></tr>\n",
       "\t<tr><th scope=row>10000</th><td>13739         </td><td>gap 3192      </td><td>        0     </td><td>100           </td><td>100           </td><td>100           </td></tr>\n",
       "\t<tr><th scope=row>10001</th><td>10001         </td><td>chrX_170674300</td><td>170674200     </td><td>192           </td><td> 26           </td><td>  3           </td></tr>\n",
       "\t<tr><th scope=row>10002</th><td>10002         </td><td>chrX_170674400</td><td>170674300     </td><td> 47           </td><td>  3           </td><td>  0           </td></tr>\n",
       "</tbody>\n",
       "</table>\n"
      ],
      "text/latex": [
       "\\begin{tabular}{r|llllll}\n",
       "  & X & binID & start & high & medium & low\\\\\n",
       "\\hline\n",
       "\t9997 & 13738          & gap 3191       &         0      & 100            & 100            & 100           \\\\\n",
       "\t9998 &  9998            & chrX\\_170013500 & 170013400        &  35              &   0              &   0             \\\\\n",
       "\t9999 &  9999            & chrX\\_170013600 & 170013500        &  86              &   2              &   0             \\\\\n",
       "\t10000 & 13739          & gap 3192       &         0      & 100            & 100            & 100           \\\\\n",
       "\t10001 & 10001            & chrX\\_170674300 & 170674200        & 192              &  26              &   3             \\\\\n",
       "\t10002 & 10002            & chrX\\_170674400 & 170674300        &  47              &   3              &   0             \\\\\n",
       "\\end{tabular}\n"
      ],
      "text/markdown": [
       "\n",
       "| <!--/--> | X | binID | start | high | medium | low | \n",
       "|---|---|---|---|---|---|\n",
       "| 9997 | 13738          | gap 3191       |         0      | 100            | 100            | 100            | \n",
       "| 9998 |  9998          | chrX_170013500 | 170013400      |  35            |   0            |   0            | \n",
       "| 9999 |  9999          | chrX_170013600 | 170013500      |  86            |   2            |   0            | \n",
       "| 10000 | 13739          | gap 3192       |         0      | 100            | 100            | 100            | \n",
       "| 10001 | 10001          | chrX_170674300 | 170674200      | 192            |  26            |   3            | \n",
       "| 10002 | 10002          | chrX_170674400 | 170674300      |  47            |   3            |   0            | \n",
       "\n",
       "\n"
      ],
      "text/plain": [
       "      X     binID          start     high medium low\n",
       "9997  13738 gap 3191               0 100  100    100\n",
       "9998   9998 chrX_170013500 170013400  35    0      0\n",
       "9999   9999 chrX_170013600 170013500  86    2      0\n",
       "10000 13739 gap 3192               0 100  100    100\n",
       "10001 10001 chrX_170674300 170674200 192   26      3\n",
       "10002 10002 chrX_170674400 170674300  47    3      0"
      ]
     },
     "metadata": {},
     "output_type": "display_data"
    }
   ],
   "source": [
    "tail(data)"
   ]
  },
  {
   "cell_type": "code",
   "execution_count": 3,
   "metadata": {},
   "outputs": [
    {
     "data": {
      "text/html": [
       "<table>\n",
       "<thead><tr><th></th><th scope=col>binID</th><th scope=col>start</th><th scope=col>high</th><th scope=col>medium</th><th scope=col>low</th></tr></thead>\n",
       "<tbody>\n",
       "\t<tr><th scope=row>9998</th><td>chrX_170013500</td><td>170013400     </td><td> 35           </td><td>  0           </td><td>  0           </td></tr>\n",
       "\t<tr><th scope=row>9999</th><td>chrX_170013600</td><td>170013500     </td><td> 86           </td><td>  2           </td><td>  0           </td></tr>\n",
       "\t<tr><th scope=row>10000</th><td>gap 3192      </td><td>        0     </td><td>100           </td><td>100           </td><td>100           </td></tr>\n",
       "\t<tr><th scope=row>10001</th><td>chrX_170674300</td><td>170674200     </td><td>192           </td><td> 26           </td><td>  3           </td></tr>\n",
       "\t<tr><th scope=row>10002</th><td>chrX_170674400</td><td>170674300     </td><td> 47           </td><td>  3           </td><td>  0           </td></tr>\n",
       "\t<tr><th scope=row>10003</th><td>gap2132       </td><td>        0     </td><td>100           </td><td>100           </td><td>100           </td></tr>\n",
       "</tbody>\n",
       "</table>\n"
      ],
      "text/latex": [
       "\\begin{tabular}{r|lllll}\n",
       "  & binID & start & high & medium & low\\\\\n",
       "\\hline\n",
       "\t9998 & chrX\\_170013500 & 170013400        &  35              &   0              &   0             \\\\\n",
       "\t9999 & chrX\\_170013600 & 170013500        &  86              &   2              &   0             \\\\\n",
       "\t10000 & gap 3192       &         0      & 100            & 100            & 100           \\\\\n",
       "\t10001 & chrX\\_170674300 & 170674200        & 192              &  26              &   3             \\\\\n",
       "\t10002 & chrX\\_170674400 & 170674300        &  47              &   3              &   0             \\\\\n",
       "\t10003 & gap2132        &         0      & 100            & 100            & 100           \\\\\n",
       "\\end{tabular}\n"
      ],
      "text/markdown": [
       "\n",
       "| <!--/--> | binID | start | high | medium | low | \n",
       "|---|---|---|---|---|---|\n",
       "| 9998 | chrX_170013500 | 170013400      |  35            |   0            |   0            | \n",
       "| 9999 | chrX_170013600 | 170013500      |  86            |   2            |   0            | \n",
       "| 10000 | gap 3192       |         0      | 100            | 100            | 100            | \n",
       "| 10001 | chrX_170674300 | 170674200      | 192            |  26            |   3            | \n",
       "| 10002 | chrX_170674400 | 170674300      |  47            |   3            |   0            | \n",
       "| 10003 | gap2132        |         0      | 100            | 100            | 100            | \n",
       "\n",
       "\n"
      ],
      "text/plain": [
       "      binID          start     high medium low\n",
       "9998  chrX_170013500 170013400  35    0      0\n",
       "9999  chrX_170013600 170013500  86    2      0\n",
       "10000 gap 3192               0 100  100    100\n",
       "10001 chrX_170674300 170674200 192   26      3\n",
       "10002 chrX_170674400 170674300  47    3      0\n",
       "10003 gap2132                0 100  100    100"
      ]
     },
     "metadata": {},
     "output_type": "display_data"
    }
   ],
   "source": [
    "data <- rbind(data[,-1], data.frame(binID = \"gap2132\", start = 0, high = 100, medium = 100, low = 100))\n",
    "tail(data)"
   ]
  },
  {
   "cell_type": "code",
   "execution_count": 4,
   "metadata": {},
   "outputs": [
    {
     "data": {
      "text/html": [
       "<table>\n",
       "<thead><tr><th scope=col>binID</th><th scope=col>start</th><th scope=col>high</th><th scope=col>medium</th><th scope=col>low</th></tr></thead>\n",
       "<tbody>\n",
       "\t<tr><td>chrX_3050400</td><td>3050300     </td><td> 58         </td><td>  0         </td><td>  0         </td></tr>\n",
       "\t<tr><td>chrX_3050500</td><td>3050400     </td><td> 86         </td><td>  6         </td><td>  0         </td></tr>\n",
       "\t<tr><td>gap 1       </td><td>      0     </td><td>100         </td><td>100         </td><td>100         </td></tr>\n",
       "\t<tr><td>chrX_3054300</td><td>3054200     </td><td>108         </td><td> 37         </td><td>  4         </td></tr>\n",
       "\t<tr><td>chrX_3054400</td><td>3054300     </td><td> 68         </td><td> 16         </td><td>  0         </td></tr>\n",
       "\t<tr><td>gap 2       </td><td>      0     </td><td>100         </td><td>100         </td><td>100         </td></tr>\n",
       "\t<tr><td>chrX_3055200</td><td>3055100     </td><td> 34         </td><td>  0         </td><td>  0         </td></tr>\n",
       "\t<tr><td>chrX_3055300</td><td>3055200     </td><td> 73         </td><td>  6         </td><td>  0         </td></tr>\n",
       "\t<tr><td>gap 3       </td><td>      0     </td><td>100         </td><td>100         </td><td>100         </td></tr>\n",
       "\t<tr><td>chrX_3194500</td><td>3194400     </td><td> 18         </td><td> 12         </td><td>  0         </td></tr>\n",
       "</tbody>\n",
       "</table>\n"
      ],
      "text/latex": [
       "\\begin{tabular}{r|lllll}\n",
       " binID & start & high & medium & low\\\\\n",
       "\\hline\n",
       "\t chrX\\_3050400 & 3050300        &  58            &   0            &   0           \\\\\n",
       "\t chrX\\_3050500 & 3050400        &  86            &   6            &   0           \\\\\n",
       "\t gap 1        &       0      & 100          & 100          & 100         \\\\\n",
       "\t chrX\\_3054300 & 3054200        & 108            &  37            &   4           \\\\\n",
       "\t chrX\\_3054400 & 3054300        &  68            &  16            &   0           \\\\\n",
       "\t gap 2        &       0      & 100          & 100          & 100         \\\\\n",
       "\t chrX\\_3055200 & 3055100        &  34            &   0            &   0           \\\\\n",
       "\t chrX\\_3055300 & 3055200        &  73            &   6            &   0           \\\\\n",
       "\t gap 3        &       0      & 100          & 100          & 100         \\\\\n",
       "\t chrX\\_3194500 & 3194400        &  18            &  12            &   0           \\\\\n",
       "\\end{tabular}\n"
      ],
      "text/markdown": [
       "\n",
       "binID | start | high | medium | low | \n",
       "|---|---|---|---|---|---|---|---|---|---|\n",
       "| chrX_3050400 | 3050300      |  58          |   0          |   0          | \n",
       "| chrX_3050500 | 3050400      |  86          |   6          |   0          | \n",
       "| gap 1        |       0      | 100          | 100          | 100          | \n",
       "| chrX_3054300 | 3054200      | 108          |  37          |   4          | \n",
       "| chrX_3054400 | 3054300      |  68          |  16          |   0          | \n",
       "| gap 2        |       0      | 100          | 100          | 100          | \n",
       "| chrX_3055200 | 3055100      |  34          |   0          |   0          | \n",
       "| chrX_3055300 | 3055200      |  73          |   6          |   0          | \n",
       "| gap 3        |       0      | 100          | 100          | 100          | \n",
       "| chrX_3194500 | 3194400      |  18          |  12          |   0          | \n",
       "\n",
       "\n"
      ],
      "text/plain": [
       "   binID        start   high medium low\n",
       "1  chrX_3050400 3050300  58    0      0\n",
       "2  chrX_3050500 3050400  86    6      0\n",
       "3  gap 1              0 100  100    100\n",
       "4  chrX_3054300 3054200 108   37      4\n",
       "5  chrX_3054400 3054300  68   16      0\n",
       "6  gap 2              0 100  100    100\n",
       "7  chrX_3055200 3055100  34    0      0\n",
       "8  chrX_3055300 3055200  73    6      0\n",
       "9  gap 3              0 100  100    100\n",
       "10 chrX_3194500 3194400  18   12      0"
      ]
     },
     "metadata": {},
     "output_type": "display_data"
    }
   ],
   "source": [
    "head(data, 10)"
   ]
  },
  {
   "cell_type": "code",
   "execution_count": 5,
   "metadata": {},
   "outputs": [],
   "source": [
    "startID <- data[1, \"binID\"]\n",
    "start <- data[1, \"start\"]\n",
    "start.flag <- FALSE\n",
    "\n",
    "result <- data.frame(chr = c(), start = c(), end = c(), ID = c())\n",
    "temp <- data.frame(chr = substring(startID, 1, 4), start = start, end = c(0), ID = startID)\n",
    "\n",
    "\n",
    "bed.func <- function(row) {\n",
    "    if (as.numeric(as.character(row[2])) != 0) {\n",
    "        start <<- row[2]\n",
    "        startID <<- row[1]\n",
    "        if (start.flag == TRUE) {\n",
    "            temp <<- data.frame(chr = substring(startID, 1, 4), start = start, end = c(0), ID = startID)\n",
    "            start.flag <<- FALSE\n",
    "        }\n",
    "    } else {\n",
    "        temp$end = as.character(as.numeric(as.character(start)) + 100 - 1)\n",
    "        result <<- rbind(result, temp)\n",
    "        start.flag <<- TRUE\n",
    "    }\n",
    "}"
   ]
  },
  {
   "cell_type": "code",
   "execution_count": 6,
   "metadata": {},
   "outputs": [
    {
     "data": {
      "text/html": [
       "<table>\n",
       "<thead><tr><th></th><th scope=col>chr</th><th scope=col>start</th><th scope=col>end</th><th scope=col>ID</th></tr></thead>\n",
       "<tbody>\n",
       "\t<tr><th scope=row>1</th><td>chrX        </td><td>3050300     </td><td>3050499     </td><td>chrX_3050400</td></tr>\n",
       "\t<tr><th scope=row>binID</th><td>chrX        </td><td>  3054200   </td><td>3054399     </td><td>chrX_3054300</td></tr>\n",
       "\t<tr><th scope=row>binID1</th><td>chrX        </td><td>  3055100   </td><td>3055299     </td><td>chrX_3055200</td></tr>\n",
       "\t<tr><th scope=row>binID2</th><td>chrX        </td><td>  3194400   </td><td>3194599     </td><td>chrX_3194500</td></tr>\n",
       "\t<tr><th scope=row>binID3</th><td>chrX        </td><td>  3210900   </td><td>3211199     </td><td>chrX_3211000</td></tr>\n",
       "\t<tr><th scope=row>binID4</th><td>chrX        </td><td>  3217600   </td><td>3217799     </td><td>chrX_3217700</td></tr>\n",
       "</tbody>\n",
       "</table>\n"
      ],
      "text/latex": [
       "\\begin{tabular}{r|llll}\n",
       "  & chr & start & end & ID\\\\\n",
       "\\hline\n",
       "\t1 & chrX           & 3050300        & 3050499        & chrX\\_3050400\\\\\n",
       "\tbinID & chrX           &   3054200      & 3054399        & chrX\\_3054300\\\\\n",
       "\tbinID1 & chrX           &   3055100      & 3055299        & chrX\\_3055200\\\\\n",
       "\tbinID2 & chrX           &   3194400      & 3194599        & chrX\\_3194500\\\\\n",
       "\tbinID3 & chrX           &   3210900      & 3211199        & chrX\\_3211000\\\\\n",
       "\tbinID4 & chrX           &   3217600      & 3217799        & chrX\\_3217700\\\\\n",
       "\\end{tabular}\n"
      ],
      "text/markdown": [
       "\n",
       "| <!--/--> | chr | start | end | ID | \n",
       "|---|---|---|---|---|---|\n",
       "| 1 | chrX         | 3050300      | 3050499      | chrX_3050400 | \n",
       "| binID | chrX         |   3054200    | 3054399      | chrX_3054300 | \n",
       "| binID1 | chrX         |   3055100    | 3055299      | chrX_3055200 | \n",
       "| binID2 | chrX         |   3194400    | 3194599      | chrX_3194500 | \n",
       "| binID3 | chrX         |   3210900    | 3211199      | chrX_3211000 | \n",
       "| binID4 | chrX         |   3217600    | 3217799      | chrX_3217700 | \n",
       "\n",
       "\n"
      ],
      "text/plain": [
       "       chr  start     end     ID          \n",
       "1      chrX 3050300   3050499 chrX_3050400\n",
       "binID  chrX   3054200 3054399 chrX_3054300\n",
       "binID1 chrX   3055100 3055299 chrX_3055200\n",
       "binID2 chrX   3194400 3194599 chrX_3194500\n",
       "binID3 chrX   3210900 3211199 chrX_3211000\n",
       "binID4 chrX   3217600 3217799 chrX_3217700"
      ]
     },
     "metadata": {},
     "output_type": "display_data"
    },
    {
     "data": {
      "text/html": [
       "<table>\n",
       "<thead><tr><th></th><th scope=col>chr</th><th scope=col>start</th><th scope=col>end</th><th scope=col>ID</th></tr></thead>\n",
       "<tbody>\n",
       "\t<tr><th scope=row>binID3186</th><td>chrX          </td><td>169799000     </td><td>169799199     </td><td>chrX_169799100</td></tr>\n",
       "\t<tr><th scope=row>binID3187</th><td>chrX          </td><td>169833300     </td><td>169833499     </td><td>chrX_169833400</td></tr>\n",
       "\t<tr><th scope=row>binID3188</th><td>chrX          </td><td>169865200     </td><td>169865399     </td><td>chrX_169865300</td></tr>\n",
       "\t<tr><th scope=row>binID3189</th><td>chrX          </td><td>169948700     </td><td>169948999     </td><td>chrX_169948800</td></tr>\n",
       "\t<tr><th scope=row>binID3190</th><td>chrX          </td><td>170013400     </td><td>170013599     </td><td>chrX_170013500</td></tr>\n",
       "\t<tr><th scope=row>binID3191</th><td>chrX          </td><td>170674200     </td><td>170674399     </td><td>chrX_170674300</td></tr>\n",
       "</tbody>\n",
       "</table>\n"
      ],
      "text/latex": [
       "\\begin{tabular}{r|llll}\n",
       "  & chr & start & end & ID\\\\\n",
       "\\hline\n",
       "\tbinID3186 & chrX             & 169799000        & 169799199        & chrX\\_169799100\\\\\n",
       "\tbinID3187 & chrX             & 169833300        & 169833499        & chrX\\_169833400\\\\\n",
       "\tbinID3188 & chrX             & 169865200        & 169865399        & chrX\\_169865300\\\\\n",
       "\tbinID3189 & chrX             & 169948700        & 169948999        & chrX\\_169948800\\\\\n",
       "\tbinID3190 & chrX             & 170013400        & 170013599        & chrX\\_170013500\\\\\n",
       "\tbinID3191 & chrX             & 170674200        & 170674399        & chrX\\_170674300\\\\\n",
       "\\end{tabular}\n"
      ],
      "text/markdown": [
       "\n",
       "| <!--/--> | chr | start | end | ID | \n",
       "|---|---|---|---|---|---|\n",
       "| binID3186 | chrX           | 169799000      | 169799199      | chrX_169799100 | \n",
       "| binID3187 | chrX           | 169833300      | 169833499      | chrX_169833400 | \n",
       "| binID3188 | chrX           | 169865200      | 169865399      | chrX_169865300 | \n",
       "| binID3189 | chrX           | 169948700      | 169948999      | chrX_169948800 | \n",
       "| binID3190 | chrX           | 170013400      | 170013599      | chrX_170013500 | \n",
       "| binID3191 | chrX           | 170674200      | 170674399      | chrX_170674300 | \n",
       "\n",
       "\n"
      ],
      "text/plain": [
       "          chr  start     end       ID            \n",
       "binID3186 chrX 169799000 169799199 chrX_169799100\n",
       "binID3187 chrX 169833300 169833499 chrX_169833400\n",
       "binID3188 chrX 169865200 169865399 chrX_169865300\n",
       "binID3189 chrX 169948700 169948999 chrX_169948800\n",
       "binID3190 chrX 170013400 170013599 chrX_170013500\n",
       "binID3191 chrX 170674200 170674399 chrX_170674300"
      ]
     },
     "metadata": {},
     "output_type": "display_data"
    }
   ],
   "source": [
    "invisible(apply(data, 1, bed.func))\n",
    "\n",
    "head(result)\n",
    "\n",
    "tail(result)"
   ]
  },
  {
   "cell_type": "code",
   "execution_count": 7,
   "metadata": {},
   "outputs": [],
   "source": [
    "write.table(result, file = paste(chrNum, \"_B_GO.bed\"), quote = FALSE, sep = \"\\t\", col.names = FALSE, row.names = FALSE)"
   ]
  }
 ],
 "metadata": {
  "kernelspec": {
   "display_name": "R",
   "language": "R",
   "name": "ir"
  },
  "language_info": {
   "codemirror_mode": "r",
   "file_extension": ".r",
   "mimetype": "text/x-r-source",
   "name": "R",
   "pygments_lexer": "r",
   "version": "3.5.1"
  }
 },
 "nbformat": 4,
 "nbformat_minor": 2
}
