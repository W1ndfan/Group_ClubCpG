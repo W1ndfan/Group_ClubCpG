{
 "cells": [
  {
   "cell_type": "code",
   "execution_count": 1,
   "metadata": {},
   "outputs": [
    {
     "data": {
      "text/html": [
       "<table>\n",
       "<thead><tr><th scope=col>X</th><th scope=col>binID</th><th scope=col>start</th><th scope=col>high</th><th scope=col>medium</th><th scope=col>low</th></tr></thead>\n",
       "<tbody>\n",
       "\t<tr><td>5455       </td><td>chrY_694100</td><td>694000     </td><td> 49        </td><td>  0        </td><td>  1        </td></tr>\n",
       "\t<tr><td>   2       </td><td>chrY_694200</td><td>694100     </td><td>  8        </td><td>  0        </td><td>  0        </td></tr>\n",
       "\t<tr><td>   1       </td><td>gap 1      </td><td>     0     </td><td>100        </td><td>100        </td><td>100        </td></tr>\n",
       "\t<tr><td>   4       </td><td>chrY_694400</td><td>694300     </td><td> 11        </td><td>  0        </td><td>  0        </td></tr>\n",
       "\t<tr><td>   5       </td><td>chrY_694500</td><td>694400     </td><td> 12        </td><td>  0        </td><td>  0        </td></tr>\n",
       "\t<tr><td>  11       </td><td>gap 2      </td><td>     0     </td><td>100        </td><td>100        </td><td>100        </td></tr>\n",
       "</tbody>\n",
       "</table>\n"
      ],
      "text/latex": [
       "\\begin{tabular}{r|llllll}\n",
       " X & binID & start & high & medium & low\\\\\n",
       "\\hline\n",
       "\t 5455          & chrY\\_694100 & 694000        &  49           &   0           &   1          \\\\\n",
       "\t    2          & chrY\\_694200 & 694100        &   8           &   0           &   0          \\\\\n",
       "\t    1        & gap 1       &      0      & 100         & 100         & 100        \\\\\n",
       "\t    4          & chrY\\_694400 & 694300        &  11           &   0           &   0          \\\\\n",
       "\t    5          & chrY\\_694500 & 694400        &  12           &   0           &   0          \\\\\n",
       "\t   11        & gap 2       &      0      & 100         & 100         & 100        \\\\\n",
       "\\end{tabular}\n"
      ],
      "text/markdown": [
       "\n",
       "X | binID | start | high | medium | low | \n",
       "|---|---|---|---|---|---|\n",
       "| 5455        | chrY_694100 | 694000      |  49         |   0         |   1         | \n",
       "|    2        | chrY_694200 | 694100      |   8         |   0         |   0         | \n",
       "|    1        | gap 1       |      0      | 100         | 100         | 100         | \n",
       "|    4        | chrY_694400 | 694300      |  11         |   0         |   0         | \n",
       "|    5        | chrY_694500 | 694400      |  12         |   0         |   0         | \n",
       "|   11        | gap 2       |      0      | 100         | 100         | 100         | \n",
       "\n",
       "\n"
      ],
      "text/plain": [
       "  X    binID       start  high medium low\n",
       "1 5455 chrY_694100 694000  49    0      1\n",
       "2    2 chrY_694200 694100   8    0      0\n",
       "3    1 gap 1            0 100  100    100\n",
       "4    4 chrY_694400 694300  11    0      0\n",
       "5    5 chrY_694500 694400  12    0      0\n",
       "6   11 gap 2            0 100  100    100"
      ]
     },
     "metadata": {},
     "output_type": "display_data"
    }
   ],
   "source": [
    "data <- read.csv(\"chrY_A_group.csv\")\n",
    "head(data)"
   ]
  },
  {
   "cell_type": "code",
   "execution_count": 2,
   "metadata": {},
   "outputs": [
    {
     "data": {
      "text/html": [
       "<table>\n",
       "<thead><tr><th></th><th scope=col>X</th><th scope=col>binID</th><th scope=col>start</th><th scope=col>high</th><th scope=col>medium</th><th scope=col>low</th></tr></thead>\n",
       "<tbody>\n",
       "\t<tr><th scope=row>1861</th><td>1861         </td><td>chrY_90828600</td><td>90828500     </td><td>  8          </td><td>  0          </td><td>  0          </td></tr>\n",
       "\t<tr><th scope=row>1862</th><td>1862         </td><td>chrY_90828700</td><td>90828600     </td><td> 13          </td><td>  0          </td><td>  0          </td></tr>\n",
       "\t<tr><th scope=row>1863</th><td>1863         </td><td>gap 585      </td><td>       0     </td><td>100          </td><td>100          </td><td>100          </td></tr>\n",
       "\t<tr><th scope=row>1864</th><td>1864         </td><td>chrY_90829800</td><td>90829700     </td><td>369          </td><td> 48          </td><td>  3          </td></tr>\n",
       "\t<tr><th scope=row>1865</th><td>1865         </td><td>chrY_90829900</td><td>90829800     </td><td> 68          </td><td> 10          </td><td>  0          </td></tr>\n",
       "\t<tr><th scope=row>1866</th><td>1866         </td><td>chrY_90830000</td><td>90829900     </td><td> 55          </td><td>  4          </td><td>  1          </td></tr>\n",
       "</tbody>\n",
       "</table>\n"
      ],
      "text/latex": [
       "\\begin{tabular}{r|llllll}\n",
       "  & X & binID & start & high & medium & low\\\\\n",
       "\\hline\n",
       "\t1861 & 1861            & chrY\\_90828600 & 90828500        &   8             &   0             &   0            \\\\\n",
       "\t1862 & 1862            & chrY\\_90828700 & 90828600        &  13             &   0             &   0            \\\\\n",
       "\t1863 & 1863          & gap 585       &        0      & 100           & 100           & 100          \\\\\n",
       "\t1864 & 1864            & chrY\\_90829800 & 90829700        & 369             &  48             &   3            \\\\\n",
       "\t1865 & 1865            & chrY\\_90829900 & 90829800        &  68             &  10             &   0            \\\\\n",
       "\t1866 & 1866            & chrY\\_90830000 & 90829900        &  55             &   4             &   1            \\\\\n",
       "\\end{tabular}\n"
      ],
      "text/markdown": [
       "\n",
       "| <!--/--> | X | binID | start | high | medium | low | \n",
       "|---|---|---|---|---|---|\n",
       "| 1861 | 1861          | chrY_90828600 | 90828500      |   8           |   0           |   0           | \n",
       "| 1862 | 1862          | chrY_90828700 | 90828600      |  13           |   0           |   0           | \n",
       "| 1863 | 1863          | gap 585       |        0      | 100           | 100           | 100           | \n",
       "| 1864 | 1864          | chrY_90829800 | 90829700      | 369           |  48           |   3           | \n",
       "| 1865 | 1865          | chrY_90829900 | 90829800      |  68           |  10           |   0           | \n",
       "| 1866 | 1866          | chrY_90830000 | 90829900      |  55           |   4           |   1           | \n",
       "\n",
       "\n"
      ],
      "text/plain": [
       "     X    binID         start    high medium low\n",
       "1861 1861 chrY_90828600 90828500   8    0      0\n",
       "1862 1862 chrY_90828700 90828600  13    0      0\n",
       "1863 1863 gap 585              0 100  100    100\n",
       "1864 1864 chrY_90829800 90829700 369   48      3\n",
       "1865 1865 chrY_90829900 90829800  68   10      0\n",
       "1866 1866 chrY_90830000 90829900  55    4      1"
      ]
     },
     "metadata": {},
     "output_type": "display_data"
    }
   ],
   "source": [
    "tail(data)"
   ]
  },
  {
   "cell_type": "code",
   "execution_count": 3,
   "metadata": {},
   "outputs": [
    {
     "data": {
      "text/html": [
       "<table>\n",
       "<thead><tr><th></th><th scope=col>binID</th><th scope=col>start</th><th scope=col>high</th><th scope=col>medium</th><th scope=col>low</th></tr></thead>\n",
       "<tbody>\n",
       "\t<tr><th scope=row>1862</th><td>chrY_90828700</td><td>90828600     </td><td> 13          </td><td>  0          </td><td>  0          </td></tr>\n",
       "\t<tr><th scope=row>1863</th><td>gap 585      </td><td>       0     </td><td>100          </td><td>100          </td><td>100          </td></tr>\n",
       "\t<tr><th scope=row>1864</th><td>chrY_90829800</td><td>90829700     </td><td>369          </td><td> 48          </td><td>  3          </td></tr>\n",
       "\t<tr><th scope=row>1865</th><td>chrY_90829900</td><td>90829800     </td><td> 68          </td><td> 10          </td><td>  0          </td></tr>\n",
       "\t<tr><th scope=row>1866</th><td>chrY_90830000</td><td>90829900     </td><td> 55          </td><td>  4          </td><td>  1          </td></tr>\n",
       "\t<tr><th scope=row>1867</th><td>gap2132      </td><td>       0     </td><td>100          </td><td>100          </td><td>100          </td></tr>\n",
       "</tbody>\n",
       "</table>\n"
      ],
      "text/latex": [
       "\\begin{tabular}{r|lllll}\n",
       "  & binID & start & high & medium & low\\\\\n",
       "\\hline\n",
       "\t1862 & chrY\\_90828700 & 90828600        &  13             &   0             &   0            \\\\\n",
       "\t1863 & gap 585       &        0      & 100           & 100           & 100          \\\\\n",
       "\t1864 & chrY\\_90829800 & 90829700        & 369             &  48             &   3            \\\\\n",
       "\t1865 & chrY\\_90829900 & 90829800        &  68             &  10             &   0            \\\\\n",
       "\t1866 & chrY\\_90830000 & 90829900        &  55             &   4             &   1            \\\\\n",
       "\t1867 & gap2132       &        0      & 100           & 100           & 100          \\\\\n",
       "\\end{tabular}\n"
      ],
      "text/markdown": [
       "\n",
       "| <!--/--> | binID | start | high | medium | low | \n",
       "|---|---|---|---|---|---|\n",
       "| 1862 | chrY_90828700 | 90828600      |  13           |   0           |   0           | \n",
       "| 1863 | gap 585       |        0      | 100           | 100           | 100           | \n",
       "| 1864 | chrY_90829800 | 90829700      | 369           |  48           |   3           | \n",
       "| 1865 | chrY_90829900 | 90829800      |  68           |  10           |   0           | \n",
       "| 1866 | chrY_90830000 | 90829900      |  55           |   4           |   1           | \n",
       "| 1867 | gap2132       |        0      | 100           | 100           | 100           | \n",
       "\n",
       "\n"
      ],
      "text/plain": [
       "     binID         start    high medium low\n",
       "1862 chrY_90828700 90828600  13    0      0\n",
       "1863 gap 585              0 100  100    100\n",
       "1864 chrY_90829800 90829700 369   48      3\n",
       "1865 chrY_90829900 90829800  68   10      0\n",
       "1866 chrY_90830000 90829900  55    4      1\n",
       "1867 gap2132              0 100  100    100"
      ]
     },
     "metadata": {},
     "output_type": "display_data"
    }
   ],
   "source": [
    "data <- rbind(data[,-1], data.frame(binID = \"gap2132\", start = 0, high = 100, medium = 100, low = 100))\n",
    "tail(data)"
   ]
  },
  {
   "cell_type": "code",
   "execution_count": 4,
   "metadata": {},
   "outputs": [
    {
     "data": {
      "text/html": [
       "<table>\n",
       "<thead><tr><th scope=col>binID</th><th scope=col>start</th><th scope=col>high</th><th scope=col>medium</th><th scope=col>low</th></tr></thead>\n",
       "<tbody>\n",
       "\t<tr><td>chrY_694100</td><td>694000     </td><td> 49        </td><td>  0        </td><td>  1        </td></tr>\n",
       "\t<tr><td>chrY_694200</td><td>694100     </td><td>  8        </td><td>  0        </td><td>  0        </td></tr>\n",
       "\t<tr><td>gap 1      </td><td>     0     </td><td>100        </td><td>100        </td><td>100        </td></tr>\n",
       "\t<tr><td>chrY_694400</td><td>694300     </td><td> 11        </td><td>  0        </td><td>  0        </td></tr>\n",
       "\t<tr><td>chrY_694500</td><td>694400     </td><td> 12        </td><td>  0        </td><td>  0        </td></tr>\n",
       "\t<tr><td>gap 2      </td><td>     0     </td><td>100        </td><td>100        </td><td>100        </td></tr>\n",
       "\t<tr><td>chrY_695100</td><td>695000     </td><td> 16        </td><td>  7        </td><td>  0        </td></tr>\n",
       "\t<tr><td>chrY_695200</td><td>695100     </td><td> 29        </td><td>  4        </td><td>  0        </td></tr>\n",
       "\t<tr><td>gap 3      </td><td>     0     </td><td>100        </td><td>100        </td><td>100        </td></tr>\n",
       "\t<tr><td>chrY_703100</td><td>703000     </td><td> 20        </td><td>  9        </td><td>  0        </td></tr>\n",
       "</tbody>\n",
       "</table>\n"
      ],
      "text/latex": [
       "\\begin{tabular}{r|lllll}\n",
       " binID & start & high & medium & low\\\\\n",
       "\\hline\n",
       "\t chrY\\_694100 & 694000        &  49           &   0           &   1          \\\\\n",
       "\t chrY\\_694200 & 694100        &   8           &   0           &   0          \\\\\n",
       "\t gap 1       &      0      & 100         & 100         & 100        \\\\\n",
       "\t chrY\\_694400 & 694300        &  11           &   0           &   0          \\\\\n",
       "\t chrY\\_694500 & 694400        &  12           &   0           &   0          \\\\\n",
       "\t gap 2       &      0      & 100         & 100         & 100        \\\\\n",
       "\t chrY\\_695100 & 695000        &  16           &   7           &   0          \\\\\n",
       "\t chrY\\_695200 & 695100        &  29           &   4           &   0          \\\\\n",
       "\t gap 3       &      0      & 100         & 100         & 100        \\\\\n",
       "\t chrY\\_703100 & 703000        &  20           &   9           &   0          \\\\\n",
       "\\end{tabular}\n"
      ],
      "text/markdown": [
       "\n",
       "binID | start | high | medium | low | \n",
       "|---|---|---|---|---|---|---|---|---|---|\n",
       "| chrY_694100 | 694000      |  49         |   0         |   1         | \n",
       "| chrY_694200 | 694100      |   8         |   0         |   0         | \n",
       "| gap 1       |      0      | 100         | 100         | 100         | \n",
       "| chrY_694400 | 694300      |  11         |   0         |   0         | \n",
       "| chrY_694500 | 694400      |  12         |   0         |   0         | \n",
       "| gap 2       |      0      | 100         | 100         | 100         | \n",
       "| chrY_695100 | 695000      |  16         |   7         |   0         | \n",
       "| chrY_695200 | 695100      |  29         |   4         |   0         | \n",
       "| gap 3       |      0      | 100         | 100         | 100         | \n",
       "| chrY_703100 | 703000      |  20         |   9         |   0         | \n",
       "\n",
       "\n"
      ],
      "text/plain": [
       "   binID       start  high medium low\n",
       "1  chrY_694100 694000  49    0      1\n",
       "2  chrY_694200 694100   8    0      0\n",
       "3  gap 1            0 100  100    100\n",
       "4  chrY_694400 694300  11    0      0\n",
       "5  chrY_694500 694400  12    0      0\n",
       "6  gap 2            0 100  100    100\n",
       "7  chrY_695100 695000  16    7      0\n",
       "8  chrY_695200 695100  29    4      0\n",
       "9  gap 3            0 100  100    100\n",
       "10 chrY_703100 703000  20    9      0"
      ]
     },
     "metadata": {},
     "output_type": "display_data"
    }
   ],
   "source": [
    "head(data, 10)"
   ]
  },
  {
   "cell_type": "code",
   "execution_count": 5,
   "metadata": {},
   "outputs": [],
   "source": [
    "startID <- data[1, \"binID\"]\n",
    "start <- data[1, \"start\"]\n",
    "start.flag <- FALSE\n",
    "\n",
    "result <- data.frame(chr = c(), start = c(), end = c(), ID = c())\n",
    "temp <- data.frame(chr = substring(startID, 1, 5), start = start, end = c(0), ID = startID)\n",
    "\n",
    "\n",
    "bed.func <- function(row) {\n",
    "    if (as.numeric(as.character(row[2])) != 0) {\n",
    "        start <<- row[2]\n",
    "        startID <<- row[1]\n",
    "        if (start.flag == TRUE) {\n",
    "            temp <<- data.frame(chr = substring(startID, 1, 5), start = start, end = c(0), ID = startID)\n",
    "            start.flag <<- FALSE\n",
    "        }\n",
    "    } else {\n",
    "        temp$end = as.character(as.numeric(as.character(start)) + 100 - 1)\n",
    "        result <<- rbind(result, temp)\n",
    "        start.flag <<- TRUE\n",
    "    }\n",
    "}"
   ]
  },
  {
   "cell_type": "code",
   "execution_count": 6,
   "metadata": {},
   "outputs": [
    {
     "data": {
      "text/html": [
       "<table>\n",
       "<thead><tr><th></th><th scope=col>chr</th><th scope=col>start</th><th scope=col>end</th><th scope=col>ID</th></tr></thead>\n",
       "<tbody>\n",
       "\t<tr><th scope=row>1</th><td>chrY_      </td><td>694000     </td><td>694199     </td><td>chrY_694100</td></tr>\n",
       "\t<tr><th scope=row>binID</th><td>chrY_      </td><td>  694300   </td><td>694499     </td><td>chrY_694400</td></tr>\n",
       "\t<tr><th scope=row>binID1</th><td>chrY_      </td><td>  695000   </td><td>695199     </td><td>chrY_695100</td></tr>\n",
       "\t<tr><th scope=row>binID2</th><td>chrY_      </td><td>  703000   </td><td>703199     </td><td>chrY_703100</td></tr>\n",
       "\t<tr><th scope=row>binID3</th><td>chrY_      </td><td>  703600   </td><td>703799     </td><td>chrY_703700</td></tr>\n",
       "\t<tr><th scope=row>binID4</th><td>chrY_      </td><td>  704500   </td><td>704699     </td><td>chrY_704600</td></tr>\n",
       "</tbody>\n",
       "</table>\n"
      ],
      "text/latex": [
       "\\begin{tabular}{r|llll}\n",
       "  & chr & start & end & ID\\\\\n",
       "\\hline\n",
       "\t1 & chrY\\_       & 694000        & 694199        & chrY\\_694100\\\\\n",
       "\tbinID & chrY\\_       &   694300      & 694499        & chrY\\_694400\\\\\n",
       "\tbinID1 & chrY\\_       &   695000      & 695199        & chrY\\_695100\\\\\n",
       "\tbinID2 & chrY\\_       &   703000      & 703199        & chrY\\_703100\\\\\n",
       "\tbinID3 & chrY\\_       &   703600      & 703799        & chrY\\_703700\\\\\n",
       "\tbinID4 & chrY\\_       &   704500      & 704699        & chrY\\_704600\\\\\n",
       "\\end{tabular}\n"
      ],
      "text/markdown": [
       "\n",
       "| <!--/--> | chr | start | end | ID | \n",
       "|---|---|---|---|---|---|\n",
       "| 1 | chrY_       | 694000      | 694199      | chrY_694100 | \n",
       "| binID | chrY_       |   694300    | 694499      | chrY_694400 | \n",
       "| binID1 | chrY_       |   695000    | 695199      | chrY_695100 | \n",
       "| binID2 | chrY_       |   703000    | 703199      | chrY_703100 | \n",
       "| binID3 | chrY_       |   703600    | 703799      | chrY_703700 | \n",
       "| binID4 | chrY_       |   704500    | 704699      | chrY_704600 | \n",
       "\n",
       "\n"
      ],
      "text/plain": [
       "       chr   start    end    ID         \n",
       "1      chrY_ 694000   694199 chrY_694100\n",
       "binID  chrY_   694300 694499 chrY_694400\n",
       "binID1 chrY_   695000 695199 chrY_695100\n",
       "binID2 chrY_   703000 703199 chrY_703100\n",
       "binID3 chrY_   703600 703799 chrY_703700\n",
       "binID4 chrY_   704500 704699 chrY_704600"
      ]
     },
     "metadata": {},
     "output_type": "display_data"
    },
    {
     "data": {
      "text/html": [
       "<table>\n",
       "<thead><tr><th></th><th scope=col>chr</th><th scope=col>start</th><th scope=col>end</th><th scope=col>ID</th></tr></thead>\n",
       "<tbody>\n",
       "\t<tr><th scope=row>binID579</th><td>chrY_        </td><td>90786600     </td><td>90786999     </td><td>chrY_90786700</td></tr>\n",
       "\t<tr><th scope=row>binID580</th><td>chrY_        </td><td>90788100     </td><td>90788299     </td><td>chrY_90788200</td></tr>\n",
       "\t<tr><th scope=row>binID581</th><td>chrY_        </td><td>90788600     </td><td>90788999     </td><td>chrY_90788700</td></tr>\n",
       "\t<tr><th scope=row>binID582</th><td>chrY_        </td><td>90825500     </td><td>90825699     </td><td>chrY_90825600</td></tr>\n",
       "\t<tr><th scope=row>binID583</th><td>chrY_        </td><td>90828500     </td><td>90828699     </td><td>chrY_90828600</td></tr>\n",
       "\t<tr><th scope=row>binID584</th><td>chrY_        </td><td>90829700     </td><td>90829999     </td><td>chrY_90829800</td></tr>\n",
       "</tbody>\n",
       "</table>\n"
      ],
      "text/latex": [
       "\\begin{tabular}{r|llll}\n",
       "  & chr & start & end & ID\\\\\n",
       "\\hline\n",
       "\tbinID579 & chrY\\_         & 90786600        & 90786999        & chrY\\_90786700\\\\\n",
       "\tbinID580 & chrY\\_         & 90788100        & 90788299        & chrY\\_90788200\\\\\n",
       "\tbinID581 & chrY\\_         & 90788600        & 90788999        & chrY\\_90788700\\\\\n",
       "\tbinID582 & chrY\\_         & 90825500        & 90825699        & chrY\\_90825600\\\\\n",
       "\tbinID583 & chrY\\_         & 90828500        & 90828699        & chrY\\_90828600\\\\\n",
       "\tbinID584 & chrY\\_         & 90829700        & 90829999        & chrY\\_90829800\\\\\n",
       "\\end{tabular}\n"
      ],
      "text/markdown": [
       "\n",
       "| <!--/--> | chr | start | end | ID | \n",
       "|---|---|---|---|---|---|\n",
       "| binID579 | chrY_         | 90786600      | 90786999      | chrY_90786700 | \n",
       "| binID580 | chrY_         | 90788100      | 90788299      | chrY_90788200 | \n",
       "| binID581 | chrY_         | 90788600      | 90788999      | chrY_90788700 | \n",
       "| binID582 | chrY_         | 90825500      | 90825699      | chrY_90825600 | \n",
       "| binID583 | chrY_         | 90828500      | 90828699      | chrY_90828600 | \n",
       "| binID584 | chrY_         | 90829700      | 90829999      | chrY_90829800 | \n",
       "\n",
       "\n"
      ],
      "text/plain": [
       "         chr   start    end      ID           \n",
       "binID579 chrY_ 90786600 90786999 chrY_90786700\n",
       "binID580 chrY_ 90788100 90788299 chrY_90788200\n",
       "binID581 chrY_ 90788600 90788999 chrY_90788700\n",
       "binID582 chrY_ 90825500 90825699 chrY_90825600\n",
       "binID583 chrY_ 90828500 90828699 chrY_90828600\n",
       "binID584 chrY_ 90829700 90829999 chrY_90829800"
      ]
     },
     "metadata": {},
     "output_type": "display_data"
    }
   ],
   "source": [
    "invisible(apply(data, 1, bed.func))\n",
    "\n",
    "head(result)\n",
    "\n",
    "tail(result)"
   ]
  },
  {
   "cell_type": "code",
   "execution_count": 7,
   "metadata": {},
   "outputs": [],
   "source": [
    "write.table(result, file = \"chrY_A_GO.bed\", quote = FALSE, sep = \"\\t\", col.names = FALSE, row.names = FALSE)"
   ]
  }
 ],
 "metadata": {
  "kernelspec": {
   "display_name": "R",
   "language": "R",
   "name": "ir"
  },
  "language_info": {
   "codemirror_mode": "r",
   "file_extension": ".r",
   "mimetype": "text/x-r-source",
   "name": "R",
   "pygments_lexer": "r",
   "version": "3.5.1"
  }
 },
 "nbformat": 4,
 "nbformat_minor": 2
}
