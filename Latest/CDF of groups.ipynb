{
 "cells": [
  {
   "cell_type": "code",
   "execution_count": 1,
   "metadata": {},
   "outputs": [],
   "source": [
    "for (i in 1:19) {\n",
    "    chrNum = paste(\"chr\", i, sep = \"\")\n",
    "    type = \" _B\"\n",
    "    filename = paste(chrNum, type, \"_GO.bed\", sep = \"\")\n",
    "    data = read.table(filename, sep = \"\\t\")\n",
    "\n",
    "    start = data[,2]\n",
    "    \n",
    "    png(file = paste(chrNum, \"_B.png\", sep = \"\"))\n",
    "    plot(ecdf(start), main = chrNum)\n",
    "    dev.off()\n",
    "}"
   ]
  },
  {
   "cell_type": "code",
   "execution_count": 2,
   "metadata": {},
   "outputs": [],
   "source": [
    "for (i in c(\"X\", \"Y\")) {\n",
    "    chrNum = paste(\"chr\", i, sep = \"\")\n",
    "    type = \" _B\"\n",
    "    filename = paste(chrNum, type, \"_GO.bed\", sep = \"\")\n",
    "    data = read.table(filename, sep = \"\\t\")\n",
    "\n",
    "    start = data[,2]\n",
    "    \n",
    "    png(file = paste(chrNum, \"_B.png\", sep = \"\"))\n",
    "    plot(ecdf(start), main = chrNum)\n",
    "    dev.off()\n",
    "}"
   ]
  }
 ],
 "metadata": {
  "kernelspec": {
   "display_name": "R",
   "language": "R",
   "name": "ir"
  },
  "language_info": {
   "codemirror_mode": "r",
   "file_extension": ".r",
   "mimetype": "text/x-r-source",
   "name": "R",
   "pygments_lexer": "r",
   "version": "3.5.1"
  }
 },
 "nbformat": 4,
 "nbformat_minor": 2
}
