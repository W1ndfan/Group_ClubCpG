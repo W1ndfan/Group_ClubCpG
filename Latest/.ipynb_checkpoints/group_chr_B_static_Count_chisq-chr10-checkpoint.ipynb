{
 "cells": [
  {
   "cell_type": "code",
   "execution_count": 1,
   "metadata": {},
   "outputs": [
    {
     "data": {
      "text/html": [
       "<table>\n",
       "<thead><tr><th scope=col>X</th><th scope=col>binID</th><th scope=col>start</th><th scope=col>cata</th><th scope=col>aRead</th><th scope=col>bRead</th><th scope=col>aNorm</th><th scope=col>bNorm</th></tr></thead>\n",
       "<tbody>\n",
       "\t<tr><td>137337      </td><td>chr9_3000100</td><td>3000000     </td><td>3           </td><td>778         </td><td>1247        </td><td> 63.510204  </td><td> 63.719980  </td></tr>\n",
       "\t<tr><td> 62344      </td><td>chr9_3000100</td><td>3000000     </td><td>2           </td><td>388         </td><td> 618        </td><td> 31.673469  </td><td> 31.578947  </td></tr>\n",
       "\t<tr><td>     1      </td><td>chr9_3000100</td><td>3000000     </td><td>1           </td><td> 59         </td><td>  92        </td><td>  4.816326  </td><td>  4.701073  </td></tr>\n",
       "\t<tr><td>137338      </td><td>chr9_3000300</td><td>3000200     </td><td>3           </td><td>728         </td><td>1251        </td><td> 50.731707  </td><td> 53.121019  </td></tr>\n",
       "\t<tr><td> 62345      </td><td>chr9_3000300</td><td>3000200     </td><td>2           </td><td>546         </td><td> 790        </td><td> 38.048780  </td><td> 33.545648  </td></tr>\n",
       "\t<tr><td>     2      </td><td>chr9_3000300</td><td>3000200     </td><td>1           </td><td>161         </td><td> 314        </td><td> 11.219512  </td><td> 13.333333  </td></tr>\n",
       "\t<tr><td>137339      </td><td>chr9_3001700</td><td>3001600     </td><td>3           </td><td> 88         </td><td> 142        </td><td> 81.481482  </td><td> 81.142857  </td></tr>\n",
       "\t<tr><td> 62346      </td><td>chr9_3001700</td><td>3001600     </td><td>2           </td><td> 17         </td><td>  21        </td><td> 15.740741  </td><td> 12.000000  </td></tr>\n",
       "\t<tr><td>     3      </td><td>chr9_3001700</td><td>3001600     </td><td>1           </td><td>  3         </td><td>  12        </td><td>  2.777778  </td><td>  6.857143  </td></tr>\n",
       "\t<tr><td>137340      </td><td>chr9_3002800</td><td>3002700     </td><td>3           </td><td> 13         </td><td>  20        </td><td>100.000000  </td><td>100.000000  </td></tr>\n",
       "</tbody>\n",
       "</table>\n"
      ],
      "text/latex": [
       "\\begin{tabular}{r|llllllll}\n",
       " X & binID & start & cata & aRead & bRead & aNorm & bNorm\\\\\n",
       "\\hline\n",
       "\t 137337         & chr9\\_3000100 & 3000000        & 3              & 778            & 1247           &  63.510204     &  63.719980    \\\\\n",
       "\t  62344         & chr9\\_3000100 & 3000000        & 2              & 388            &  618           &  31.673469     &  31.578947    \\\\\n",
       "\t      1         & chr9\\_3000100 & 3000000        & 1              &  59            &   92           &   4.816326     &   4.701073    \\\\\n",
       "\t 137338         & chr9\\_3000300 & 3000200        & 3              & 728            & 1251           &  50.731707     &  53.121019    \\\\\n",
       "\t  62345         & chr9\\_3000300 & 3000200        & 2              & 546            &  790           &  38.048780     &  33.545648    \\\\\n",
       "\t      2         & chr9\\_3000300 & 3000200        & 1              & 161            &  314           &  11.219512     &  13.333333    \\\\\n",
       "\t 137339         & chr9\\_3001700 & 3001600        & 3              &  88            &  142           &  81.481482     &  81.142857    \\\\\n",
       "\t  62346         & chr9\\_3001700 & 3001600        & 2              &  17            &   21           &  15.740741     &  12.000000    \\\\\n",
       "\t      3         & chr9\\_3001700 & 3001600        & 1              &   3            &   12           &   2.777778     &   6.857143    \\\\\n",
       "\t 137340         & chr9\\_3002800 & 3002700        & 3              &  13            &   20           & 100.000000     & 100.000000    \\\\\n",
       "\\end{tabular}\n"
      ],
      "text/markdown": [
       "\n",
       "X | binID | start | cata | aRead | bRead | aNorm | bNorm | \n",
       "|---|---|---|---|---|---|---|---|---|---|\n",
       "| 137337       | chr9_3000100 | 3000000      | 3            | 778          | 1247         |  63.510204   |  63.719980   | \n",
       "|  62344       | chr9_3000100 | 3000000      | 2            | 388          |  618         |  31.673469   |  31.578947   | \n",
       "|      1       | chr9_3000100 | 3000000      | 1            |  59          |   92         |   4.816326   |   4.701073   | \n",
       "| 137338       | chr9_3000300 | 3000200      | 3            | 728          | 1251         |  50.731707   |  53.121019   | \n",
       "|  62345       | chr9_3000300 | 3000200      | 2            | 546          |  790         |  38.048780   |  33.545648   | \n",
       "|      2       | chr9_3000300 | 3000200      | 1            | 161          |  314         |  11.219512   |  13.333333   | \n",
       "| 137339       | chr9_3001700 | 3001600      | 3            |  88          |  142         |  81.481482   |  81.142857   | \n",
       "|  62346       | chr9_3001700 | 3001600      | 2            |  17          |   21         |  15.740741   |  12.000000   | \n",
       "|      3       | chr9_3001700 | 3001600      | 1            |   3          |   12         |   2.777778   |   6.857143   | \n",
       "| 137340       | chr9_3002800 | 3002700      | 3            |  13          |   20         | 100.000000   | 100.000000   | \n",
       "\n",
       "\n"
      ],
      "text/plain": [
       "   X      binID        start   cata aRead bRead aNorm      bNorm     \n",
       "1  137337 chr9_3000100 3000000 3    778   1247   63.510204  63.719980\n",
       "2   62344 chr9_3000100 3000000 2    388    618   31.673469  31.578947\n",
       "3       1 chr9_3000100 3000000 1     59     92    4.816326   4.701073\n",
       "4  137338 chr9_3000300 3000200 3    728   1251   50.731707  53.121019\n",
       "5   62345 chr9_3000300 3000200 2    546    790   38.048780  33.545648\n",
       "6       2 chr9_3000300 3000200 1    161    314   11.219512  13.333333\n",
       "7  137339 chr9_3001700 3001600 3     88    142   81.481482  81.142857\n",
       "8   62346 chr9_3001700 3001600 2     17     21   15.740741  12.000000\n",
       "9       3 chr9_3001700 3001600 1      3     12    2.777778   6.857143\n",
       "10 137340 chr9_3002800 3002700 3     13     20  100.000000 100.000000"
      ]
     },
     "metadata": {},
     "output_type": "display_data"
    }
   ],
   "source": [
    "data <- read.csv(\"new_chr9_static_classified.csv\")\n",
    "head(data,10)\n",
    "# tail(data,10)\n",
    "# head(read.csv(\"new_chr19_static_classified.csv\"))"
   ]
  },
  {
   "cell_type": "code",
   "execution_count": null,
   "metadata": {},
   "outputs": [],
   "source": [
    "high_sub <- data[data$cata == 3, c(\"binID\", \"start\", \"bRead\")]\n",
    "names(high_sub) <- c(\"binID\", \"start\", \"high\")\n",
    "# head(high_sub)\n",
    "medium_sub <- data[data$cata == 2, c(\"binID\", \"start\", \"bRead\")]\n",
    "names(medium_sub) <- c(\"binID\", \"start\", \"medium\")\n",
    "# head(medium_sub)\n",
    "low_sub <- data[data$cata == 1, c(\"binID\", \"start\", \"bRead\")]\n",
    "names(low_sub) <- c(\"binID\", \"start\", \"low\")\n",
    "# head(low_sub)\n",
    "\n",
    "# merge\n",
    "clusterdf <- merge(high_sub, medium_sub, all = TRUE)\n",
    "clusterdf <- merge(clusterdf, low_sub, all = TRUE)\n",
    "clusterdf <- clusterdf[order(as.numeric(clusterdf$start)),]\n",
    "clusterdf[is.na(clusterdf)] <- 0\n",
    "head(clusterdf,10)"
   ]
  },
  {
   "cell_type": "code",
   "execution_count": null,
   "metadata": {},
   "outputs": [],
   "source": [
    "paste(\"Total number of Bins:\", nrow(clusterdf))"
   ]
  },
  {
   "cell_type": "code",
   "execution_count": null,
   "metadata": {},
   "outputs": [],
   "source": [
    "# write.csv(clusterdf, \"A_clusterdf_count.csv\")"
   ]
  },
  {
   "cell_type": "code",
   "execution_count": null,
   "metadata": {},
   "outputs": [],
   "source": [
    "dist_tolerance <- 100\n",
    "# meth_tolerance <- 40 \n",
    "# cor_2_cutoff <- 0.9\n",
    "alpha <- 0.05"
   ]
  },
  {
   "cell_type": "code",
   "execution_count": null,
   "metadata": {},
   "outputs": [],
   "source": [
    "pre.row <- clusterdf[1,]\n",
    "\n",
    "dist.fun <- function(row) {\n",
    "    dist <- as.numeric(as.character(row[\"start\"])) - as.numeric(as.character(pre.row[\"start\"]))\n",
    "    pre.row <<- row\n",
    "    return(c(row[\"binID\"], row[\"start\"], row[\"high\"], row[\"medium\"], row[\"low\"], dist = dist)) \n",
    "}\n",
    "\n",
    "dist.result <- t(apply(clusterdf, 1, dist.fun))\n",
    "dist.result <- as.data.frame(dist.result)\n",
    "head(dist.result, 30)"
   ]
  },
  {
   "cell_type": "code",
   "execution_count": null,
   "metadata": {},
   "outputs": [],
   "source": [
    "dist.result <- dist.result[as.numeric(as.character(dist.result$dist)) <= dist_tolerance, ]\n",
    "head(dist.result)\n",
    "\n",
    "dist.result <- dist.result[-1,]\n",
    "head(dist.result)\n",
    "nrow(dist.result)"
   ]
  },
  {
   "cell_type": "code",
   "execution_count": null,
   "metadata": {},
   "outputs": [],
   "source": [
    "start.pos <- dist.result$start\n",
    "complete <- lapply(start.pos, function(x) c(as.numeric(as.character(x))-100, as.numeric(as.character(x))))\n",
    "complete <- Reduce(c, complete)\n",
    "complete <- unique(complete)\n",
    "complete"
   ]
  },
  {
   "cell_type": "code",
   "execution_count": null,
   "metadata": {},
   "outputs": [],
   "source": [
    "grouping <- clusterdf[as.numeric(as.character(clusterdf$start)) %in% complete, ]\n",
    "dist.result <- as.data.frame(grouping)\n",
    "head(grouping,10)"
   ]
  },
  {
   "cell_type": "code",
   "execution_count": null,
   "metadata": {},
   "outputs": [],
   "source": [
    "pre.row <- dist.result[1,]\n",
    "\n",
    "test.fun <- function(row) {\n",
    "    if (as.numeric(as.character(row[\"start\"])) - as.numeric(as.character(pre.row[\"start\"])) > 100) {\n",
    "        pre.row <<- row\n",
    "        return(c(row[\"binID\"], start = as.character(row[\"start\"]), p.value = \"0\"))\n",
    "    } else {\n",
    "        test.matrix <- cbind(c(as.numeric(as.character(pre.row[\"high\"])),\n",
    "                               as.numeric(as.character(pre.row[\"medium\"])),\n",
    "                               as.numeric(as.character(pre.row[\"low\"]))),\n",
    "                             c(as.numeric(as.character(row[\"high\"])), \n",
    "                               as.numeric(as.character(row[\"medium\"])),\n",
    "                               as.numeric(as.character(row[\"low\"]))))\n",
    "        test.matrix <- test.matrix[rowSums(test.matrix) > 0, ]\n",
    "        value <- suppressWarnings(chisq.test(test.matrix)$p.value)\n",
    "        pre.row <<- row\n",
    "        return(c(row[\"binID\"], start = as.character(row[\"start\"]), p.value = as.character(value)))\n",
    "    }\n",
    "}\n",
    "\n",
    "test.result <- apply(dist.result[-1,], MARGIN = 1, FUN = test.fun)\n",
    "test.result <- t(test.result)\n",
    "test.result <- as.data.frame(test.result)\n",
    "head(test.result)"
   ]
  },
  {
   "cell_type": "code",
   "execution_count": null,
   "metadata": {},
   "outputs": [],
   "source": [
    "good.result <- test.result[as.numeric(as.character(test.result$p.value)) > alpha,]\n",
    "head(good.result)"
   ]
  },
  {
   "cell_type": "code",
   "execution_count": null,
   "metadata": {},
   "outputs": [],
   "source": [
    "start.pos <- good.result$start\n",
    "complete <- lapply(start.pos, function(x) c(as.numeric(as.character(x))-100, as.numeric(as.character(x))))\n",
    "complete <- Reduce(c, complete)\n",
    "complete <- unique(complete)\n",
    "complete"
   ]
  },
  {
   "cell_type": "code",
   "execution_count": null,
   "metadata": {},
   "outputs": [],
   "source": [
    "hist(complete, main = \"Location of Groups along Chr1\")"
   ]
  },
  {
   "cell_type": "code",
   "execution_count": null,
   "metadata": {},
   "outputs": [],
   "source": [
    "grouping <- clusterdf[as.numeric(as.character(clusterdf$start)) %in% complete, ]\n",
    "grouping <- as.data.frame(grouping)\n",
    "head(grouping,10)"
   ]
  },
  {
   "cell_type": "code",
   "execution_count": null,
   "metadata": {},
   "outputs": [],
   "source": [
    "paste(\"Total number of bins grouped:\", nrow(grouping))"
   ]
  },
  {
   "cell_type": "code",
   "execution_count": null,
   "metadata": {},
   "outputs": [],
   "source": [
    "library(ggplot2)"
   ]
  },
  {
   "cell_type": "code",
   "execution_count": null,
   "metadata": {},
   "outputs": [],
   "source": [
    "pre.row <- grouping[1,]\n",
    "\n",
    "part <- data.frame()\n",
    "part <- rbind(part, pre.row)\n",
    "\n",
    "counter = 1\n",
    "sep.fun <- function(row) {\n",
    "    if (as.numeric(as.character(row[\"start\"])) - as.numeric(as.character(pre.row[\"start\"])) > 100) {\n",
    "        part <<- rbind(part, data.frame(binID = c(paste(\"gap\", counter)), \n",
    "                                        start = c(0), high = c(100), medium = c(100), low = c(100)))\n",
    "        counter <<- counter + 1\n",
    "    }\n",
    "    part <<- rbind(part, row)\n",
    "    pre.row <<- row\n",
    "}\n",
    "\n",
    "invisible(apply(grouping[-1,], 1, sep.fun))"
   ]
  },
  {
   "cell_type": "code",
   "execution_count": null,
   "metadata": {},
   "outputs": [],
   "source": [
    "part[20:60,]"
   ]
  },
  {
   "cell_type": "code",
   "execution_count": null,
   "metadata": {},
   "outputs": [],
   "source": [
    "head(part)\n",
    "tail(part)"
   ]
  },
  {
   "cell_type": "code",
   "execution_count": null,
   "metadata": {},
   "outputs": [],
   "source": [
    "write.csv(part, \"chr9_B_group.csv\")"
   ]
  },
  {
   "cell_type": "code",
   "execution_count": null,
   "metadata": {},
   "outputs": [],
   "source": [
    "count = 0\n",
    "result = c()\n",
    "for (row in 1:nrow(part)) {\n",
    "    if (substr(as.character(part[row, \"binID\"]), 1, 3) != \"gap\") {\n",
    "        count = count + 1\n",
    "    } else {\n",
    "        result = c(result, count)\n",
    "        count = 0\n",
    "    }\n",
    "}\n",
    "\n",
    "result = c(result, count)\n",
    "\n",
    "paste(\"Total Number of groups:\", length(result))\n",
    "hist(result, main = \"Distribution of Bin Numbers in each group\")\n",
    "hist(result, ylim = c(0, 200), main = \"Distribution of Bin Numbers in each group\")"
   ]
  },
  {
   "cell_type": "code",
   "execution_count": null,
   "metadata": {},
   "outputs": [],
   "source": [
    "# plotdf <- data.frame(bin_ID = part[1,1], per = as.numeric(as.character(part[1,3])), cata = c(3))\n",
    "# plotdf <- rbind(plotdf, data.frame(bin_ID = part[1,1], per = as.numeric(as.character(part[1,4])), cata = c(4)))\n",
    "# plotdf <- rbind(plotdf, data.frame(bin_ID = part[1,1], per = as.numeric(as.character(part[1,5])), cata = c(5)))\n",
    "\n",
    "\n",
    "# plotdf"
   ]
  },
  {
   "cell_type": "code",
   "execution_count": null,
   "metadata": {},
   "outputs": [],
   "source": [
    "# for (i in 2:nrow(part)){\n",
    "#     if (substr(as.character(part[i,1]),1,3) == \"gap\"){\n",
    "#         plotdf <- rbind(plotdf, data.frame(bin_ID = c(as.character(part[i,1])), per = c(100), cata = c(1)))\n",
    "#     } else {\n",
    "#         for (j in 3:5){\n",
    "#             plotdf <- rbind(plotdf, data.frame(bin_ID = c(as.character(part[i,1])), per = c(as.numeric(as.character(part[i,j]))), cata = c(j)))\n",
    "#         }\n",
    "#     }\n",
    "    \n",
    "# }\n",
    "\n",
    "# head(plotdf, 10)"
   ]
  },
  {
   "cell_type": "code",
   "execution_count": null,
   "metadata": {},
   "outputs": [],
   "source": [
    "# plotdf$cata <- factor(plotdf$cata, levels = c(3,4,5,1), labels = c(\"high\", \"medium\", \"low\", \"gap\"))\n",
    "\n",
    "# head(plotdf,100)"
   ]
  },
  {
   "cell_type": "code",
   "execution_count": null,
   "metadata": {},
   "outputs": [],
   "source": [
    "# plotdf$bin_ID <- factor(plotdf$bin_ID, levels = unique(plotdf$bin_ID))"
   ]
  },
  {
   "cell_type": "code",
   "execution_count": null,
   "metadata": {},
   "outputs": [],
   "source": [
    "# plotdf$per <- as.numeric(as.character(plotdf$per))"
   ]
  },
  {
   "cell_type": "code",
   "execution_count": null,
   "metadata": {},
   "outputs": [],
   "source": [
    "# names(plotdf) <- c(\"bin_ID\", \"count\", \"cata\")"
   ]
  },
  {
   "cell_type": "code",
   "execution_count": null,
   "metadata": {},
   "outputs": [],
   "source": [
    "# ggplot(data = plotdf, aes(x = bin_ID, y = count, fill = factor(cata))) + coord_flip() + \n",
    "#   geom_bar(stat = \"identity\", width = 2) + ylim(0, 300) + scale_fill_brewer(palette=\"Spectral\")"
   ]
  },
  {
   "cell_type": "code",
   "execution_count": null,
   "metadata": {},
   "outputs": [],
   "source": [
    "# zoomindf <- head(plotdf, 200)\n",
    "# ggplot(data = zoomindf, aes(x = bin_ID, y = count, fill = factor(cata))) + \n",
    "#   geom_bar(stat = \"identity\") + ylim(0, 500) + scale_fill_brewer(palette=\"Spectral\")"
   ]
  }
 ],
 "metadata": {
  "kernelspec": {
   "display_name": "R",
   "language": "R",
   "name": "ir"
  },
  "language_info": {
   "codemirror_mode": "r",
   "file_extension": ".r",
   "mimetype": "text/x-r-source",
   "name": "R",
   "pygments_lexer": "r",
   "version": "3.5.1"
  }
 },
 "nbformat": 4,
 "nbformat_minor": 2
}
