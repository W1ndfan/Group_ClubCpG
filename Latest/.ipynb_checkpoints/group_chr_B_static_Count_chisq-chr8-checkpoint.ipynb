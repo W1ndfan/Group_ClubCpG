{
 "cells": [
  {
   "cell_type": "code",
   "execution_count": 1,
   "metadata": {},
   "outputs": [
    {
     "data": {
      "text/html": [
       "<table>\n",
       "<thead><tr><th scope=col>X</th><th scope=col>binID</th><th scope=col>start</th><th scope=col>cata</th><th scope=col>aRead</th><th scope=col>bRead</th><th scope=col>aNorm</th><th scope=col>bNorm</th></tr></thead>\n",
       "<tbody>\n",
       "\t<tr><td>151760      </td><td>chr7_3475700</td><td>3475600     </td><td>3           </td><td>169         </td><td>194         </td><td>80.861244   </td><td>76.078431   </td></tr>\n",
       "\t<tr><td> 69289      </td><td>chr7_3475700</td><td>3475600     </td><td>2           </td><td> 35         </td><td> 53         </td><td>16.746412   </td><td>20.784314   </td></tr>\n",
       "\t<tr><td>     1      </td><td>chr7_3475700</td><td>3475600     </td><td>1           </td><td>  5         </td><td>  8         </td><td> 2.392345   </td><td> 3.137255   </td></tr>\n",
       "\t<tr><td>151761      </td><td>chr7_3478400</td><td>3478300     </td><td>3           </td><td>224         </td><td>254         </td><td>79.151944   </td><td>73.410405   </td></tr>\n",
       "\t<tr><td> 69290      </td><td>chr7_3478400</td><td>3478300     </td><td>2           </td><td> 53         </td><td> 75         </td><td>18.727915   </td><td>21.676300   </td></tr>\n",
       "\t<tr><td>     2      </td><td>chr7_3478400</td><td>3478300     </td><td>1           </td><td>  6         </td><td> 17         </td><td> 2.120141   </td><td> 4.913295   </td></tr>\n",
       "\t<tr><td>151762      </td><td>chr7_3478500</td><td>3478400     </td><td>3           </td><td> 75         </td><td> 85         </td><td>50.335571   </td><td>40.284360   </td></tr>\n",
       "\t<tr><td> 69291      </td><td>chr7_3478500</td><td>3478400     </td><td>2           </td><td> 60         </td><td> 86         </td><td>40.268456   </td><td>40.758294   </td></tr>\n",
       "\t<tr><td>     3      </td><td>chr7_3478500</td><td>3478400     </td><td>1           </td><td> 14         </td><td> 40         </td><td> 9.395973   </td><td>18.957346   </td></tr>\n",
       "\t<tr><td>151763      </td><td>chr7_3478800</td><td>3478700     </td><td>3           </td><td>238         </td><td>286         </td><td>84.397163   </td><td>81.948424   </td></tr>\n",
       "</tbody>\n",
       "</table>\n"
      ],
      "text/latex": [
       "\\begin{tabular}{r|llllllll}\n",
       " X & binID & start & cata & aRead & bRead & aNorm & bNorm\\\\\n",
       "\\hline\n",
       "\t 151760         & chr7\\_3475700 & 3475600        & 3              & 169            & 194            & 80.861244      & 76.078431     \\\\\n",
       "\t  69289         & chr7\\_3475700 & 3475600        & 2              &  35            &  53            & 16.746412      & 20.784314     \\\\\n",
       "\t      1         & chr7\\_3475700 & 3475600        & 1              &   5            &   8            &  2.392345      &  3.137255     \\\\\n",
       "\t 151761         & chr7\\_3478400 & 3478300        & 3              & 224            & 254            & 79.151944      & 73.410405     \\\\\n",
       "\t  69290         & chr7\\_3478400 & 3478300        & 2              &  53            &  75            & 18.727915      & 21.676300     \\\\\n",
       "\t      2         & chr7\\_3478400 & 3478300        & 1              &   6            &  17            &  2.120141      &  4.913295     \\\\\n",
       "\t 151762         & chr7\\_3478500 & 3478400        & 3              &  75            &  85            & 50.335571      & 40.284360     \\\\\n",
       "\t  69291         & chr7\\_3478500 & 3478400        & 2              &  60            &  86            & 40.268456      & 40.758294     \\\\\n",
       "\t      3         & chr7\\_3478500 & 3478400        & 1              &  14            &  40            &  9.395973      & 18.957346     \\\\\n",
       "\t 151763         & chr7\\_3478800 & 3478700        & 3              & 238            & 286            & 84.397163      & 81.948424     \\\\\n",
       "\\end{tabular}\n"
      ],
      "text/markdown": [
       "\n",
       "X | binID | start | cata | aRead | bRead | aNorm | bNorm | \n",
       "|---|---|---|---|---|---|---|---|---|---|\n",
       "| 151760       | chr7_3475700 | 3475600      | 3            | 169          | 194          | 80.861244    | 76.078431    | \n",
       "|  69289       | chr7_3475700 | 3475600      | 2            |  35          |  53          | 16.746412    | 20.784314    | \n",
       "|      1       | chr7_3475700 | 3475600      | 1            |   5          |   8          |  2.392345    |  3.137255    | \n",
       "| 151761       | chr7_3478400 | 3478300      | 3            | 224          | 254          | 79.151944    | 73.410405    | \n",
       "|  69290       | chr7_3478400 | 3478300      | 2            |  53          |  75          | 18.727915    | 21.676300    | \n",
       "|      2       | chr7_3478400 | 3478300      | 1            |   6          |  17          |  2.120141    |  4.913295    | \n",
       "| 151762       | chr7_3478500 | 3478400      | 3            |  75          |  85          | 50.335571    | 40.284360    | \n",
       "|  69291       | chr7_3478500 | 3478400      | 2            |  60          |  86          | 40.268456    | 40.758294    | \n",
       "|      3       | chr7_3478500 | 3478400      | 1            |  14          |  40          |  9.395973    | 18.957346    | \n",
       "| 151763       | chr7_3478800 | 3478700      | 3            | 238          | 286          | 84.397163    | 81.948424    | \n",
       "\n",
       "\n"
      ],
      "text/plain": [
       "   X      binID        start   cata aRead bRead aNorm     bNorm    \n",
       "1  151760 chr7_3475700 3475600 3    169   194   80.861244 76.078431\n",
       "2   69289 chr7_3475700 3475600 2     35    53   16.746412 20.784314\n",
       "3       1 chr7_3475700 3475600 1      5     8    2.392345  3.137255\n",
       "4  151761 chr7_3478400 3478300 3    224   254   79.151944 73.410405\n",
       "5   69290 chr7_3478400 3478300 2     53    75   18.727915 21.676300\n",
       "6       2 chr7_3478400 3478300 1      6    17    2.120141  4.913295\n",
       "7  151762 chr7_3478500 3478400 3     75    85   50.335571 40.284360\n",
       "8   69291 chr7_3478500 3478400 2     60    86   40.268456 40.758294\n",
       "9       3 chr7_3478500 3478400 1     14    40    9.395973 18.957346\n",
       "10 151763 chr7_3478800 3478700 3    238   286   84.397163 81.948424"
      ]
     },
     "metadata": {},
     "output_type": "display_data"
    }
   ],
   "source": [
    "data <- read.csv(\"new_chr7_static_classified.csv\")\n",
    "head(data,10)\n",
    "# tail(data,10)\n",
    "# head(read.csv(\"new_chr19_static_classified.csv\"))"
   ]
  },
  {
   "cell_type": "code",
   "execution_count": 2,
   "metadata": {},
   "outputs": [
    {
     "data": {
      "text/html": [
       "<table>\n",
       "<thead><tr><th></th><th scope=col>binID</th><th scope=col>start</th><th scope=col>high</th><th scope=col>medium</th><th scope=col>low</th></tr></thead>\n",
       "<tbody>\n",
       "\t<tr><th scope=row>46413</th><td>chr7_3475700</td><td>3475600     </td><td>194         </td><td>53          </td><td> 8          </td></tr>\n",
       "\t<tr><th scope=row>46440</th><td>chr7_3478400</td><td>3478300     </td><td>254         </td><td>75          </td><td>17          </td></tr>\n",
       "\t<tr><th scope=row>46442</th><td>chr7_3478500</td><td>3478400     </td><td> 85         </td><td>86          </td><td>40          </td></tr>\n",
       "\t<tr><th scope=row>46446</th><td>chr7_3478800</td><td>3478700     </td><td>286         </td><td>58          </td><td> 5          </td></tr>\n",
       "\t<tr><th scope=row>46461</th><td>chr7_3480400</td><td>3480300     </td><td>276         </td><td>19          </td><td> 9          </td></tr>\n",
       "\t<tr><th scope=row>46463</th><td>chr7_3480900</td><td>3480800     </td><td> 82         </td><td>27          </td><td> 0          </td></tr>\n",
       "\t<tr><th scope=row>46468</th><td>chr7_3481200</td><td>3481100     </td><td>128         </td><td> 0          </td><td> 0          </td></tr>\n",
       "\t<tr><th scope=row>46490</th><td>chr7_3484500</td><td>3484400     </td><td>183         </td><td>23          </td><td>12          </td></tr>\n",
       "\t<tr><th scope=row>46493</th><td>chr7_3484600</td><td>3484500     </td><td>190         </td><td> 5          </td><td> 0          </td></tr>\n",
       "\t<tr><th scope=row>46494</th><td>chr7_3484900</td><td>3484800     </td><td>296         </td><td>39          </td><td>11          </td></tr>\n",
       "</tbody>\n",
       "</table>\n"
      ],
      "text/latex": [
       "\\begin{tabular}{r|lllll}\n",
       "  & binID & start & high & medium & low\\\\\n",
       "\\hline\n",
       "\t46413 & chr7\\_3475700 & 3475600        & 194            & 53             &  8            \\\\\n",
       "\t46440 & chr7\\_3478400 & 3478300        & 254            & 75             & 17            \\\\\n",
       "\t46442 & chr7\\_3478500 & 3478400        &  85            & 86             & 40            \\\\\n",
       "\t46446 & chr7\\_3478800 & 3478700        & 286            & 58             &  5            \\\\\n",
       "\t46461 & chr7\\_3480400 & 3480300        & 276            & 19             &  9            \\\\\n",
       "\t46463 & chr7\\_3480900 & 3480800        &  82            & 27             &  0            \\\\\n",
       "\t46468 & chr7\\_3481200 & 3481100        & 128            &  0             &  0            \\\\\n",
       "\t46490 & chr7\\_3484500 & 3484400        & 183            & 23             & 12            \\\\\n",
       "\t46493 & chr7\\_3484600 & 3484500        & 190            &  5             &  0            \\\\\n",
       "\t46494 & chr7\\_3484900 & 3484800        & 296            & 39             & 11            \\\\\n",
       "\\end{tabular}\n"
      ],
      "text/markdown": [
       "\n",
       "| <!--/--> | binID | start | high | medium | low | \n",
       "|---|---|---|---|---|---|---|---|---|---|\n",
       "| 46413 | chr7_3475700 | 3475600      | 194          | 53           |  8           | \n",
       "| 46440 | chr7_3478400 | 3478300      | 254          | 75           | 17           | \n",
       "| 46442 | chr7_3478500 | 3478400      |  85          | 86           | 40           | \n",
       "| 46446 | chr7_3478800 | 3478700      | 286          | 58           |  5           | \n",
       "| 46461 | chr7_3480400 | 3480300      | 276          | 19           |  9           | \n",
       "| 46463 | chr7_3480900 | 3480800      |  82          | 27           |  0           | \n",
       "| 46468 | chr7_3481200 | 3481100      | 128          |  0           |  0           | \n",
       "| 46490 | chr7_3484500 | 3484400      | 183          | 23           | 12           | \n",
       "| 46493 | chr7_3484600 | 3484500      | 190          |  5           |  0           | \n",
       "| 46494 | chr7_3484900 | 3484800      | 296          | 39           | 11           | \n",
       "\n",
       "\n"
      ],
      "text/plain": [
       "      binID        start   high medium low\n",
       "46413 chr7_3475700 3475600 194  53      8 \n",
       "46440 chr7_3478400 3478300 254  75     17 \n",
       "46442 chr7_3478500 3478400  85  86     40 \n",
       "46446 chr7_3478800 3478700 286  58      5 \n",
       "46461 chr7_3480400 3480300 276  19      9 \n",
       "46463 chr7_3480900 3480800  82  27      0 \n",
       "46468 chr7_3481200 3481100 128   0      0 \n",
       "46490 chr7_3484500 3484400 183  23     12 \n",
       "46493 chr7_3484600 3484500 190   5      0 \n",
       "46494 chr7_3484900 3484800 296  39     11 "
      ]
     },
     "metadata": {},
     "output_type": "display_data"
    }
   ],
   "source": [
    "high_sub <- data[data$cata == 3, c(\"binID\", \"start\", \"bRead\")]\n",
    "names(high_sub) <- c(\"binID\", \"start\", \"high\")\n",
    "# head(high_sub)\n",
    "medium_sub <- data[data$cata == 2, c(\"binID\", \"start\", \"bRead\")]\n",
    "names(medium_sub) <- c(\"binID\", \"start\", \"medium\")\n",
    "# head(medium_sub)\n",
    "low_sub <- data[data$cata == 1, c(\"binID\", \"start\", \"bRead\")]\n",
    "names(low_sub) <- c(\"binID\", \"start\", \"low\")\n",
    "# head(low_sub)\n",
    "\n",
    "# merge\n",
    "clusterdf <- merge(high_sub, medium_sub, all = TRUE)\n",
    "clusterdf <- merge(clusterdf, low_sub, all = TRUE)\n",
    "clusterdf <- clusterdf[order(as.numeric(clusterdf$start)),]\n",
    "clusterdf[is.na(clusterdf)] <- 0\n",
    "head(clusterdf,10)"
   ]
  },
  {
   "cell_type": "code",
   "execution_count": 3,
   "metadata": {},
   "outputs": [
    {
     "data": {
      "text/html": [
       "'Total number of Bins: 88512'"
      ],
      "text/latex": [
       "'Total number of Bins: 88512'"
      ],
      "text/markdown": [
       "'Total number of Bins: 88512'"
      ],
      "text/plain": [
       "[1] \"Total number of Bins: 88512\""
      ]
     },
     "metadata": {},
     "output_type": "display_data"
    }
   ],
   "source": [
    "paste(\"Total number of Bins:\", nrow(clusterdf))"
   ]
  },
  {
   "cell_type": "code",
   "execution_count": 4,
   "metadata": {},
   "outputs": [],
   "source": [
    "# write.csv(clusterdf, \"A_clusterdf_count.csv\")"
   ]
  },
  {
   "cell_type": "code",
   "execution_count": 5,
   "metadata": {},
   "outputs": [],
   "source": [
    "dist_tolerance <- 100\n",
    "# meth_tolerance <- 40 \n",
    "# cor_2_cutoff <- 0.9\n",
    "alpha <- 0.05"
   ]
  },
  {
   "cell_type": "code",
   "execution_count": null,
   "metadata": {},
   "outputs": [],
   "source": [
    "pre.row <- clusterdf[1,]\n",
    "\n",
    "dist.fun <- function(row) {\n",
    "    dist <- as.numeric(as.character(row[\"start\"])) - as.numeric(as.character(pre.row[\"start\"]))\n",
    "    pre.row <<- row\n",
    "    return(c(row[\"binID\"], row[\"start\"], row[\"high\"], row[\"medium\"], row[\"low\"], dist = dist)) \n",
    "}\n",
    "\n",
    "dist.result <- t(apply(clusterdf, 1, dist.fun))\n",
    "dist.result <- as.data.frame(dist.result)\n",
    "head(dist.result, 30)"
   ]
  },
  {
   "cell_type": "code",
   "execution_count": null,
   "metadata": {},
   "outputs": [],
   "source": [
    "dist.result <- dist.result[as.numeric(as.character(dist.result$dist)) <= dist_tolerance, ]\n",
    "head(dist.result)\n",
    "\n",
    "dist.result <- dist.result[-1,]\n",
    "head(dist.result)\n",
    "nrow(dist.result)"
   ]
  },
  {
   "cell_type": "code",
   "execution_count": null,
   "metadata": {},
   "outputs": [],
   "source": [
    "start.pos <- dist.result$start\n",
    "complete <- lapply(start.pos, function(x) c(as.numeric(as.character(x))-100, as.numeric(as.character(x))))\n",
    "complete <- Reduce(c, complete)\n",
    "complete <- unique(complete)\n",
    "complete"
   ]
  },
  {
   "cell_type": "code",
   "execution_count": null,
   "metadata": {},
   "outputs": [],
   "source": [
    "grouping <- clusterdf[as.numeric(as.character(clusterdf$start)) %in% complete, ]\n",
    "dist.result <- as.data.frame(grouping)\n",
    "head(grouping,10)"
   ]
  },
  {
   "cell_type": "code",
   "execution_count": null,
   "metadata": {},
   "outputs": [],
   "source": [
    "pre.row <- dist.result[1,]\n",
    "\n",
    "test.fun <- function(row) {\n",
    "    if (as.numeric(as.character(row[\"start\"])) - as.numeric(as.character(pre.row[\"start\"])) > 100) {\n",
    "        pre.row <<- row\n",
    "        return(c(row[\"binID\"], start = as.character(row[\"start\"]), p.value = \"0\"))\n",
    "    } else {\n",
    "        test.matrix <- cbind(c(as.numeric(as.character(pre.row[\"high\"])),\n",
    "                               as.numeric(as.character(pre.row[\"medium\"])),\n",
    "                               as.numeric(as.character(pre.row[\"low\"]))),\n",
    "                             c(as.numeric(as.character(row[\"high\"])), \n",
    "                               as.numeric(as.character(row[\"medium\"])),\n",
    "                               as.numeric(as.character(row[\"low\"]))))\n",
    "        test.matrix <- test.matrix[rowSums(test.matrix) > 0, ]\n",
    "        value <- suppressWarnings(chisq.test(test.matrix)$p.value)\n",
    "        pre.row <<- row\n",
    "        return(c(row[\"binID\"], start = as.character(row[\"start\"]), p.value = as.character(value)))\n",
    "    }\n",
    "}\n",
    "\n",
    "test.result <- apply(dist.result[-1,], MARGIN = 1, FUN = test.fun)\n",
    "test.result <- t(test.result)\n",
    "test.result <- as.data.frame(test.result)\n",
    "head(test.result)"
   ]
  },
  {
   "cell_type": "code",
   "execution_count": null,
   "metadata": {},
   "outputs": [],
   "source": [
    "good.result <- test.result[as.numeric(as.character(test.result$p.value)) > alpha,]\n",
    "head(good.result)"
   ]
  },
  {
   "cell_type": "code",
   "execution_count": null,
   "metadata": {},
   "outputs": [],
   "source": [
    "start.pos <- good.result$start\n",
    "complete <- lapply(start.pos, function(x) c(as.numeric(as.character(x))-100, as.numeric(as.character(x))))\n",
    "complete <- Reduce(c, complete)\n",
    "complete <- unique(complete)\n",
    "complete"
   ]
  },
  {
   "cell_type": "code",
   "execution_count": null,
   "metadata": {},
   "outputs": [],
   "source": [
    "hist(complete, main = \"Location of Groups along Chr1\")"
   ]
  },
  {
   "cell_type": "code",
   "execution_count": null,
   "metadata": {},
   "outputs": [],
   "source": [
    "grouping <- clusterdf[as.numeric(as.character(clusterdf$start)) %in% complete, ]\n",
    "grouping <- as.data.frame(grouping)\n",
    "head(grouping,10)"
   ]
  },
  {
   "cell_type": "code",
   "execution_count": null,
   "metadata": {},
   "outputs": [],
   "source": [
    "paste(\"Total number of bins grouped:\", nrow(grouping))"
   ]
  },
  {
   "cell_type": "code",
   "execution_count": null,
   "metadata": {},
   "outputs": [],
   "source": [
    "library(ggplot2)"
   ]
  },
  {
   "cell_type": "code",
   "execution_count": null,
   "metadata": {},
   "outputs": [],
   "source": [
    "pre.row <- grouping[1,]\n",
    "\n",
    "part <- data.frame()\n",
    "part <- rbind(part, pre.row)\n",
    "\n",
    "counter = 1\n",
    "sep.fun <- function(row) {\n",
    "    if (as.numeric(as.character(row[\"start\"])) - as.numeric(as.character(pre.row[\"start\"])) > 100) {\n",
    "        part <<- rbind(part, data.frame(binID = c(paste(\"gap\", counter)), \n",
    "                                        start = c(0), high = c(100), medium = c(100), low = c(100)))\n",
    "        counter <<- counter + 1\n",
    "    }\n",
    "    part <<- rbind(part, row)\n",
    "    pre.row <<- row\n",
    "}\n",
    "\n",
    "invisible(apply(grouping[-1,], 1, sep.fun))"
   ]
  },
  {
   "cell_type": "code",
   "execution_count": null,
   "metadata": {},
   "outputs": [],
   "source": [
    "part[20:60,]"
   ]
  },
  {
   "cell_type": "code",
   "execution_count": null,
   "metadata": {},
   "outputs": [],
   "source": [
    "head(part)\n",
    "tail(part)"
   ]
  },
  {
   "cell_type": "code",
   "execution_count": null,
   "metadata": {},
   "outputs": [],
   "source": [
    "write.csv(part, \"chr7_B_group.csv\")"
   ]
  },
  {
   "cell_type": "code",
   "execution_count": null,
   "metadata": {},
   "outputs": [],
   "source": [
    "count = 0\n",
    "result = c()\n",
    "for (row in 1:nrow(part)) {\n",
    "    if (substr(as.character(part[row, \"binID\"]), 1, 3) != \"gap\") {\n",
    "        count = count + 1\n",
    "    } else {\n",
    "        result = c(result, count)\n",
    "        count = 0\n",
    "    }\n",
    "}\n",
    "\n",
    "result = c(result, count)\n",
    "\n",
    "paste(\"Total Number of groups:\", length(result))\n",
    "hist(result, main = \"Distribution of Bin Numbers in each group\")\n",
    "hist(result, ylim = c(0, 200), main = \"Distribution of Bin Numbers in each group\")"
   ]
  },
  {
   "cell_type": "code",
   "execution_count": null,
   "metadata": {},
   "outputs": [],
   "source": [
    "# plotdf <- data.frame(bin_ID = part[1,1], per = as.numeric(as.character(part[1,3])), cata = c(3))\n",
    "# plotdf <- rbind(plotdf, data.frame(bin_ID = part[1,1], per = as.numeric(as.character(part[1,4])), cata = c(4)))\n",
    "# plotdf <- rbind(plotdf, data.frame(bin_ID = part[1,1], per = as.numeric(as.character(part[1,5])), cata = c(5)))\n",
    "\n",
    "\n",
    "# plotdf"
   ]
  },
  {
   "cell_type": "code",
   "execution_count": null,
   "metadata": {},
   "outputs": [],
   "source": [
    "# for (i in 2:nrow(part)){\n",
    "#     if (substr(as.character(part[i,1]),1,3) == \"gap\"){\n",
    "#         plotdf <- rbind(plotdf, data.frame(bin_ID = c(as.character(part[i,1])), per = c(100), cata = c(1)))\n",
    "#     } else {\n",
    "#         for (j in 3:5){\n",
    "#             plotdf <- rbind(plotdf, data.frame(bin_ID = c(as.character(part[i,1])), per = c(as.numeric(as.character(part[i,j]))), cata = c(j)))\n",
    "#         }\n",
    "#     }\n",
    "    \n",
    "# }\n",
    "\n",
    "# head(plotdf, 10)"
   ]
  },
  {
   "cell_type": "code",
   "execution_count": null,
   "metadata": {},
   "outputs": [],
   "source": [
    "# plotdf$cata <- factor(plotdf$cata, levels = c(3,4,5,1), labels = c(\"high\", \"medium\", \"low\", \"gap\"))\n",
    "\n",
    "# head(plotdf,100)"
   ]
  },
  {
   "cell_type": "code",
   "execution_count": null,
   "metadata": {},
   "outputs": [],
   "source": [
    "# plotdf$bin_ID <- factor(plotdf$bin_ID, levels = unique(plotdf$bin_ID))"
   ]
  },
  {
   "cell_type": "code",
   "execution_count": null,
   "metadata": {},
   "outputs": [],
   "source": [
    "# plotdf$per <- as.numeric(as.character(plotdf$per))"
   ]
  },
  {
   "cell_type": "code",
   "execution_count": null,
   "metadata": {},
   "outputs": [],
   "source": [
    "# names(plotdf) <- c(\"bin_ID\", \"count\", \"cata\")"
   ]
  },
  {
   "cell_type": "code",
   "execution_count": null,
   "metadata": {},
   "outputs": [],
   "source": [
    "# ggplot(data = plotdf, aes(x = bin_ID, y = count, fill = factor(cata))) + coord_flip() + \n",
    "#   geom_bar(stat = \"identity\", width = 2) + ylim(0, 300) + scale_fill_brewer(palette=\"Spectral\")"
   ]
  },
  {
   "cell_type": "code",
   "execution_count": null,
   "metadata": {},
   "outputs": [],
   "source": [
    "# zoomindf <- head(plotdf, 200)\n",
    "# ggplot(data = zoomindf, aes(x = bin_ID, y = count, fill = factor(cata))) + \n",
    "#   geom_bar(stat = \"identity\") + ylim(0, 500) + scale_fill_brewer(palette=\"Spectral\")"
   ]
  }
 ],
 "metadata": {
  "kernelspec": {
   "display_name": "R",
   "language": "R",
   "name": "ir"
  },
  "language_info": {
   "codemirror_mode": "r",
   "file_extension": ".r",
   "mimetype": "text/x-r-source",
   "name": "R",
   "pygments_lexer": "r",
   "version": "3.5.1"
  }
 },
 "nbformat": 4,
 "nbformat_minor": 2
}
