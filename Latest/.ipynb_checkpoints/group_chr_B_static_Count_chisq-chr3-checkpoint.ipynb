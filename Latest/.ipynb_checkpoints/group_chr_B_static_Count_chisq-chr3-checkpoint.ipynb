{
 "cells": [
  {
   "cell_type": "code",
   "execution_count": 1,
   "metadata": {},
   "outputs": [
    {
     "data": {
      "text/html": [
       "<table>\n",
       "<thead><tr><th scope=col>X</th><th scope=col>binID</th><th scope=col>start</th><th scope=col>cata</th><th scope=col>aRead</th><th scope=col>bRead</th><th scope=col>aNorm</th><th scope=col>bNorm</th></tr></thead>\n",
       "<tbody>\n",
       "\t<tr><td>189181      </td><td>chr1_3003900</td><td>3003800     </td><td>3           </td><td>239         </td><td>367         </td><td>85.663082   </td><td>87.5894988  </td></tr>\n",
       "\t<tr><td> 84912      </td><td>chr1_3003900</td><td>3003800     </td><td>2           </td><td> 33         </td><td> 48         </td><td>11.827957   </td><td>11.4558472  </td></tr>\n",
       "\t<tr><td>     1      </td><td>chr1_3003900</td><td>3003800     </td><td>1           </td><td>  7         </td><td>  4         </td><td> 2.508961   </td><td> 0.9546539  </td></tr>\n",
       "\t<tr><td>189182      </td><td>chr1_3007600</td><td>3007500     </td><td>3           </td><td>113         </td><td>123         </td><td>75.838926   </td><td>64.3979058  </td></tr>\n",
       "\t<tr><td> 84913      </td><td>chr1_3007600</td><td>3007500     </td><td>2           </td><td> 31         </td><td> 55         </td><td>20.805369   </td><td>28.7958115  </td></tr>\n",
       "\t<tr><td>     2      </td><td>chr1_3007600</td><td>3007500     </td><td>1           </td><td>  5         </td><td> 13         </td><td> 3.355705   </td><td> 6.8062827  </td></tr>\n",
       "\t<tr><td>189183      </td><td>chr1_3014600</td><td>3014500     </td><td>3           </td><td> 86         </td><td>124         </td><td>68.800000   </td><td>69.2737430  </td></tr>\n",
       "\t<tr><td> 84914      </td><td>chr1_3014600</td><td>3014500     </td><td>2           </td><td> 29         </td><td> 44         </td><td>23.200000   </td><td>24.5810056  </td></tr>\n",
       "\t<tr><td>     3      </td><td>chr1_3014600</td><td>3014500     </td><td>1           </td><td> 10         </td><td> 11         </td><td> 8.000000   </td><td> 6.1452514  </td></tr>\n",
       "\t<tr><td>189184      </td><td>chr1_3015000</td><td>3014900     </td><td>3           </td><td> 61         </td><td>105         </td><td>67.777778   </td><td>72.4137931  </td></tr>\n",
       "</tbody>\n",
       "</table>\n"
      ],
      "text/latex": [
       "\\begin{tabular}{r|llllllll}\n",
       " X & binID & start & cata & aRead & bRead & aNorm & bNorm\\\\\n",
       "\\hline\n",
       "\t 189181         & chr1\\_3003900 & 3003800        & 3              & 239            & 367            & 85.663082      & 87.5894988    \\\\\n",
       "\t  84912         & chr1\\_3003900 & 3003800        & 2              &  33            &  48            & 11.827957      & 11.4558472    \\\\\n",
       "\t      1         & chr1\\_3003900 & 3003800        & 1              &   7            &   4            &  2.508961      &  0.9546539    \\\\\n",
       "\t 189182         & chr1\\_3007600 & 3007500        & 3              & 113            & 123            & 75.838926      & 64.3979058    \\\\\n",
       "\t  84913         & chr1\\_3007600 & 3007500        & 2              &  31            &  55            & 20.805369      & 28.7958115    \\\\\n",
       "\t      2         & chr1\\_3007600 & 3007500        & 1              &   5            &  13            &  3.355705      &  6.8062827    \\\\\n",
       "\t 189183         & chr1\\_3014600 & 3014500        & 3              &  86            & 124            & 68.800000      & 69.2737430    \\\\\n",
       "\t  84914         & chr1\\_3014600 & 3014500        & 2              &  29            &  44            & 23.200000      & 24.5810056    \\\\\n",
       "\t      3         & chr1\\_3014600 & 3014500        & 1              &  10            &  11            &  8.000000      &  6.1452514    \\\\\n",
       "\t 189184         & chr1\\_3015000 & 3014900        & 3              &  61            & 105            & 67.777778      & 72.4137931    \\\\\n",
       "\\end{tabular}\n"
      ],
      "text/markdown": [
       "\n",
       "X | binID | start | cata | aRead | bRead | aNorm | bNorm | \n",
       "|---|---|---|---|---|---|---|---|---|---|\n",
       "| 189181       | chr1_3003900 | 3003800      | 3            | 239          | 367          | 85.663082    | 87.5894988   | \n",
       "|  84912       | chr1_3003900 | 3003800      | 2            |  33          |  48          | 11.827957    | 11.4558472   | \n",
       "|      1       | chr1_3003900 | 3003800      | 1            |   7          |   4          |  2.508961    |  0.9546539   | \n",
       "| 189182       | chr1_3007600 | 3007500      | 3            | 113          | 123          | 75.838926    | 64.3979058   | \n",
       "|  84913       | chr1_3007600 | 3007500      | 2            |  31          |  55          | 20.805369    | 28.7958115   | \n",
       "|      2       | chr1_3007600 | 3007500      | 1            |   5          |  13          |  3.355705    |  6.8062827   | \n",
       "| 189183       | chr1_3014600 | 3014500      | 3            |  86          | 124          | 68.800000    | 69.2737430   | \n",
       "|  84914       | chr1_3014600 | 3014500      | 2            |  29          |  44          | 23.200000    | 24.5810056   | \n",
       "|      3       | chr1_3014600 | 3014500      | 1            |  10          |  11          |  8.000000    |  6.1452514   | \n",
       "| 189184       | chr1_3015000 | 3014900      | 3            |  61          | 105          | 67.777778    | 72.4137931   | \n",
       "\n",
       "\n"
      ],
      "text/plain": [
       "   X      binID        start   cata aRead bRead aNorm     bNorm     \n",
       "1  189181 chr1_3003900 3003800 3    239   367   85.663082 87.5894988\n",
       "2   84912 chr1_3003900 3003800 2     33    48   11.827957 11.4558472\n",
       "3       1 chr1_3003900 3003800 1      7     4    2.508961  0.9546539\n",
       "4  189182 chr1_3007600 3007500 3    113   123   75.838926 64.3979058\n",
       "5   84913 chr1_3007600 3007500 2     31    55   20.805369 28.7958115\n",
       "6       2 chr1_3007600 3007500 1      5    13    3.355705  6.8062827\n",
       "7  189183 chr1_3014600 3014500 3     86   124   68.800000 69.2737430\n",
       "8   84914 chr1_3014600 3014500 2     29    44   23.200000 24.5810056\n",
       "9       3 chr1_3014600 3014500 1     10    11    8.000000  6.1452514\n",
       "10 189184 chr1_3015000 3014900 3     61   105   67.777778 72.4137931"
      ]
     },
     "metadata": {},
     "output_type": "display_data"
    }
   ],
   "source": [
    "data <- read.csv(\"new_chr1_static_classified.csv\")\n",
    "head(data,10)\n",
    "# tail(data,10)\n",
    "# head(read.csv(\"new_chr19_static_classified.csv\"))"
   ]
  },
  {
   "cell_type": "code",
   "execution_count": 2,
   "metadata": {},
   "outputs": [
    {
     "data": {
      "text/html": [
       "<table>\n",
       "<thead><tr><th></th><th scope=col>binID</th><th scope=col>start</th><th scope=col>high</th><th scope=col>medium</th><th scope=col>low</th></tr></thead>\n",
       "<tbody>\n",
       "\t<tr><th scope=row>65564</th><td>chr1_3003900</td><td>3003800     </td><td>367         </td><td>48          </td><td> 4          </td></tr>\n",
       "\t<tr><th scope=row>65576</th><td>chr1_3007600</td><td>3007500     </td><td>123         </td><td>55          </td><td>13          </td></tr>\n",
       "\t<tr><th scope=row>65610</th><td>chr1_3014600</td><td>3014500     </td><td>124         </td><td>44          </td><td>11          </td></tr>\n",
       "\t<tr><th scope=row>65613</th><td>chr1_3015000</td><td>3014900     </td><td>105         </td><td>36          </td><td> 4          </td></tr>\n",
       "\t<tr><th scope=row>65620</th><td>chr1_3016700</td><td>3016600     </td><td> 44         </td><td>35          </td><td> 3          </td></tr>\n",
       "\t<tr><th scope=row>65621</th><td>chr1_3016800</td><td>3016700     </td><td>120         </td><td>21          </td><td> 4          </td></tr>\n",
       "\t<tr><th scope=row>65672</th><td>chr1_3030100</td><td>3030000     </td><td>195         </td><td>51          </td><td> 4          </td></tr>\n",
       "\t<tr><th scope=row>65704</th><td>chr1_3036300</td><td>3036200     </td><td>210         </td><td>26          </td><td> 1          </td></tr>\n",
       "\t<tr><th scope=row>65721</th><td>chr1_3038000</td><td>3037900     </td><td> 60         </td><td> 0          </td><td> 0          </td></tr>\n",
       "\t<tr><th scope=row>65723</th><td>chr1_3038100</td><td>3038000     </td><td>128         </td><td> 6          </td><td> 0          </td></tr>\n",
       "</tbody>\n",
       "</table>\n"
      ],
      "text/latex": [
       "\\begin{tabular}{r|lllll}\n",
       "  & binID & start & high & medium & low\\\\\n",
       "\\hline\n",
       "\t65564 & chr1\\_3003900 & 3003800        & 367            & 48             &  4            \\\\\n",
       "\t65576 & chr1\\_3007600 & 3007500        & 123            & 55             & 13            \\\\\n",
       "\t65610 & chr1\\_3014600 & 3014500        & 124            & 44             & 11            \\\\\n",
       "\t65613 & chr1\\_3015000 & 3014900        & 105            & 36             &  4            \\\\\n",
       "\t65620 & chr1\\_3016700 & 3016600        &  44            & 35             &  3            \\\\\n",
       "\t65621 & chr1\\_3016800 & 3016700        & 120            & 21             &  4            \\\\\n",
       "\t65672 & chr1\\_3030100 & 3030000        & 195            & 51             &  4            \\\\\n",
       "\t65704 & chr1\\_3036300 & 3036200        & 210            & 26             &  1            \\\\\n",
       "\t65721 & chr1\\_3038000 & 3037900        &  60            &  0             &  0            \\\\\n",
       "\t65723 & chr1\\_3038100 & 3038000        & 128            &  6             &  0            \\\\\n",
       "\\end{tabular}\n"
      ],
      "text/markdown": [
       "\n",
       "| <!--/--> | binID | start | high | medium | low | \n",
       "|---|---|---|---|---|---|---|---|---|---|\n",
       "| 65564 | chr1_3003900 | 3003800      | 367          | 48           |  4           | \n",
       "| 65576 | chr1_3007600 | 3007500      | 123          | 55           | 13           | \n",
       "| 65610 | chr1_3014600 | 3014500      | 124          | 44           | 11           | \n",
       "| 65613 | chr1_3015000 | 3014900      | 105          | 36           |  4           | \n",
       "| 65620 | chr1_3016700 | 3016600      |  44          | 35           |  3           | \n",
       "| 65621 | chr1_3016800 | 3016700      | 120          | 21           |  4           | \n",
       "| 65672 | chr1_3030100 | 3030000      | 195          | 51           |  4           | \n",
       "| 65704 | chr1_3036300 | 3036200      | 210          | 26           |  1           | \n",
       "| 65721 | chr1_3038000 | 3037900      |  60          |  0           |  0           | \n",
       "| 65723 | chr1_3038100 | 3038000      | 128          |  6           |  0           | \n",
       "\n",
       "\n"
      ],
      "text/plain": [
       "      binID        start   high medium low\n",
       "65564 chr1_3003900 3003800 367  48      4 \n",
       "65576 chr1_3007600 3007500 123  55     13 \n",
       "65610 chr1_3014600 3014500 124  44     11 \n",
       "65613 chr1_3015000 3014900 105  36      4 \n",
       "65620 chr1_3016700 3016600  44  35      3 \n",
       "65621 chr1_3016800 3016700 120  21      4 \n",
       "65672 chr1_3030100 3030000 195  51      4 \n",
       "65704 chr1_3036300 3036200 210  26      1 \n",
       "65721 chr1_3038000 3037900  60   0      0 \n",
       "65723 chr1_3038100 3038000 128   6      0 "
      ]
     },
     "metadata": {},
     "output_type": "display_data"
    }
   ],
   "source": [
    "high_sub <- data[data$cata == 3, c(\"binID\", \"start\", \"bRead\")]\n",
    "names(high_sub) <- c(\"binID\", \"start\", \"high\")\n",
    "# head(high_sub)\n",
    "medium_sub <- data[data$cata == 2, c(\"binID\", \"start\", \"bRead\")]\n",
    "names(medium_sub) <- c(\"binID\", \"start\", \"medium\")\n",
    "# head(medium_sub)\n",
    "low_sub <- data[data$cata == 1, c(\"binID\", \"start\", \"bRead\")]\n",
    "names(low_sub) <- c(\"binID\", \"start\", \"low\")\n",
    "# head(low_sub)\n",
    "\n",
    "# merge\n",
    "clusterdf <- merge(high_sub, medium_sub, all = TRUE)\n",
    "clusterdf <- merge(clusterdf, low_sub, all = TRUE)\n",
    "clusterdf <- clusterdf[order(as.numeric(clusterdf$start)),]\n",
    "clusterdf[is.na(clusterdf)] <- 0\n",
    "head(clusterdf,10)"
   ]
  },
  {
   "cell_type": "code",
   "execution_count": null,
   "metadata": {},
   "outputs": [
    {
     "data": {
      "text/html": [
       "'Total number of Bins: 111554'"
      ],
      "text/latex": [
       "'Total number of Bins: 111554'"
      ],
      "text/markdown": [
       "'Total number of Bins: 111554'"
      ],
      "text/plain": [
       "[1] \"Total number of Bins: 111554\""
      ]
     },
     "metadata": {},
     "output_type": "display_data"
    }
   ],
   "source": [
    "paste(\"Total number of Bins:\", nrow(clusterdf))"
   ]
  },
  {
   "cell_type": "code",
   "execution_count": null,
   "metadata": {},
   "outputs": [],
   "source": [
    "# write.csv(clusterdf, \"A_clusterdf_count.csv\")"
   ]
  },
  {
   "cell_type": "code",
   "execution_count": null,
   "metadata": {},
   "outputs": [],
   "source": [
    "dist_tolerance <- 100\n",
    "# meth_tolerance <- 40 \n",
    "# cor_2_cutoff <- 0.9\n",
    "alpha <- 0.05"
   ]
  },
  {
   "cell_type": "code",
   "execution_count": null,
   "metadata": {},
   "outputs": [],
   "source": [
    "pre.row <- clusterdf[1,]\n",
    "\n",
    "dist.fun <- function(row) {\n",
    "    dist <- as.numeric(as.character(row[\"start\"])) - as.numeric(as.character(pre.row[\"start\"]))\n",
    "    pre.row <<- row\n",
    "    return(c(row[\"binID\"], row[\"start\"], row[\"high\"], row[\"medium\"], row[\"low\"], dist = dist)) \n",
    "}\n",
    "\n",
    "dist.result <- t(apply(clusterdf, 1, dist.fun))\n",
    "dist.result <- as.data.frame(dist.result)\n",
    "head(dist.result, 30)"
   ]
  },
  {
   "cell_type": "code",
   "execution_count": null,
   "metadata": {},
   "outputs": [],
   "source": [
    "dist.result <- dist.result[as.numeric(as.character(dist.result$dist)) <= dist_tolerance, ]\n",
    "head(dist.result)\n",
    "\n",
    "dist.result <- dist.result[-1,]\n",
    "head(dist.result)\n",
    "nrow(dist.result)"
   ]
  },
  {
   "cell_type": "code",
   "execution_count": null,
   "metadata": {},
   "outputs": [],
   "source": [
    "start.pos <- dist.result$start\n",
    "complete <- lapply(start.pos, function(x) c(as.numeric(as.character(x))-100, as.numeric(as.character(x))))\n",
    "complete <- Reduce(c, complete)\n",
    "complete <- unique(complete)\n",
    "complete"
   ]
  },
  {
   "cell_type": "code",
   "execution_count": null,
   "metadata": {},
   "outputs": [],
   "source": [
    "grouping <- clusterdf[as.numeric(as.character(clusterdf$start)) %in% complete, ]\n",
    "dist.result <- as.data.frame(grouping)\n",
    "head(grouping,10)"
   ]
  },
  {
   "cell_type": "code",
   "execution_count": null,
   "metadata": {},
   "outputs": [],
   "source": [
    "pre.row <- dist.result[1,]\n",
    "\n",
    "test.fun <- function(row) {\n",
    "    if (as.numeric(as.character(row[\"start\"])) - as.numeric(as.character(pre.row[\"start\"])) > 100) {\n",
    "        pre.row <<- row\n",
    "        return(c(row[\"binID\"], start = as.character(row[\"start\"]), p.value = \"0\"))\n",
    "    } else {\n",
    "        test.matrix <- cbind(c(as.numeric(as.character(pre.row[\"high\"])),\n",
    "                               as.numeric(as.character(pre.row[\"medium\"])),\n",
    "                               as.numeric(as.character(pre.row[\"low\"]))),\n",
    "                             c(as.numeric(as.character(row[\"high\"])), \n",
    "                               as.numeric(as.character(row[\"medium\"])),\n",
    "                               as.numeric(as.character(row[\"low\"]))))\n",
    "        test.matrix <- test.matrix[rowSums(test.matrix) > 0, ]\n",
    "        value <- suppressWarnings(chisq.test(test.matrix)$p.value)\n",
    "        pre.row <<- row\n",
    "        return(c(row[\"binID\"], start = as.character(row[\"start\"]), p.value = as.character(value)))\n",
    "    }\n",
    "}\n",
    "\n",
    "test.result <- apply(dist.result[-1,], MARGIN = 1, FUN = test.fun)\n",
    "test.result <- t(test.result)\n",
    "test.result <- as.data.frame(test.result)\n",
    "head(test.result)"
   ]
  },
  {
   "cell_type": "code",
   "execution_count": null,
   "metadata": {},
   "outputs": [],
   "source": [
    "good.result <- test.result[as.numeric(as.character(test.result$p.value)) > alpha,]\n",
    "head(good.result)"
   ]
  },
  {
   "cell_type": "code",
   "execution_count": null,
   "metadata": {},
   "outputs": [],
   "source": [
    "start.pos <- good.result$start\n",
    "complete <- lapply(start.pos, function(x) c(as.numeric(as.character(x))-100, as.numeric(as.character(x))))\n",
    "complete <- Reduce(c, complete)\n",
    "complete <- unique(complete)\n",
    "complete"
   ]
  },
  {
   "cell_type": "code",
   "execution_count": null,
   "metadata": {},
   "outputs": [],
   "source": [
    "hist(complete, main = \"Location of Groups along Chr1\")"
   ]
  },
  {
   "cell_type": "code",
   "execution_count": null,
   "metadata": {},
   "outputs": [],
   "source": [
    "grouping <- clusterdf[as.numeric(as.character(clusterdf$start)) %in% complete, ]\n",
    "grouping <- as.data.frame(grouping)\n",
    "head(grouping,10)"
   ]
  },
  {
   "cell_type": "code",
   "execution_count": null,
   "metadata": {},
   "outputs": [],
   "source": [
    "paste(\"Total number of bins grouped:\", nrow(grouping))"
   ]
  },
  {
   "cell_type": "code",
   "execution_count": null,
   "metadata": {},
   "outputs": [],
   "source": [
    "library(ggplot2)"
   ]
  },
  {
   "cell_type": "code",
   "execution_count": null,
   "metadata": {},
   "outputs": [],
   "source": [
    "pre.row <- grouping[1,]\n",
    "\n",
    "part <- data.frame()\n",
    "part <- rbind(part, pre.row)\n",
    "\n",
    "counter = 1\n",
    "sep.fun <- function(row) {\n",
    "    if (as.numeric(as.character(row[\"start\"])) - as.numeric(as.character(pre.row[\"start\"])) > 100) {\n",
    "        part <<- rbind(part, data.frame(binID = c(paste(\"gap\", counter)), \n",
    "                                        start = c(0), high = c(100), medium = c(100), low = c(100)))\n",
    "        counter <<- counter + 1\n",
    "    }\n",
    "    part <<- rbind(part, row)\n",
    "    pre.row <<- row\n",
    "}\n",
    "\n",
    "invisible(apply(grouping[-1,], 1, sep.fun))"
   ]
  },
  {
   "cell_type": "code",
   "execution_count": null,
   "metadata": {},
   "outputs": [],
   "source": [
    "part[20:60,]"
   ]
  },
  {
   "cell_type": "code",
   "execution_count": null,
   "metadata": {},
   "outputs": [],
   "source": [
    "head(part)\n",
    "tail(part)"
   ]
  },
  {
   "cell_type": "code",
   "execution_count": null,
   "metadata": {},
   "outputs": [],
   "source": [
    "write.csv(part, \"chr1_B_group.csv\")"
   ]
  },
  {
   "cell_type": "code",
   "execution_count": null,
   "metadata": {},
   "outputs": [],
   "source": [
    "count = 0\n",
    "result = c()\n",
    "for (row in 1:nrow(part)) {\n",
    "    if (substr(as.character(part[row, \"binID\"]), 1, 3) != \"gap\") {\n",
    "        count = count + 1\n",
    "    } else {\n",
    "        result = c(result, count)\n",
    "        count = 0\n",
    "    }\n",
    "}\n",
    "\n",
    "result = c(result, count)\n",
    "\n",
    "paste(\"Total Number of groups:\", length(result))\n",
    "hist(result, main = \"Distribution of Bin Numbers in each group\")\n",
    "hist(result, ylim = c(0, 200), main = \"Distribution of Bin Numbers in each group\")"
   ]
  },
  {
   "cell_type": "code",
   "execution_count": null,
   "metadata": {},
   "outputs": [],
   "source": [
    "# plotdf <- data.frame(bin_ID = part[1,1], per = as.numeric(as.character(part[1,3])), cata = c(3))\n",
    "# plotdf <- rbind(plotdf, data.frame(bin_ID = part[1,1], per = as.numeric(as.character(part[1,4])), cata = c(4)))\n",
    "# plotdf <- rbind(plotdf, data.frame(bin_ID = part[1,1], per = as.numeric(as.character(part[1,5])), cata = c(5)))\n",
    "\n",
    "\n",
    "# plotdf"
   ]
  },
  {
   "cell_type": "code",
   "execution_count": null,
   "metadata": {},
   "outputs": [],
   "source": [
    "# for (i in 2:nrow(part)){\n",
    "#     if (substr(as.character(part[i,1]),1,3) == \"gap\"){\n",
    "#         plotdf <- rbind(plotdf, data.frame(bin_ID = c(as.character(part[i,1])), per = c(100), cata = c(1)))\n",
    "#     } else {\n",
    "#         for (j in 3:5){\n",
    "#             plotdf <- rbind(plotdf, data.frame(bin_ID = c(as.character(part[i,1])), per = c(as.numeric(as.character(part[i,j]))), cata = c(j)))\n",
    "#         }\n",
    "#     }\n",
    "    \n",
    "# }\n",
    "\n",
    "# head(plotdf, 10)"
   ]
  },
  {
   "cell_type": "code",
   "execution_count": null,
   "metadata": {},
   "outputs": [],
   "source": [
    "# plotdf$cata <- factor(plotdf$cata, levels = c(3,4,5,1), labels = c(\"high\", \"medium\", \"low\", \"gap\"))\n",
    "\n",
    "# head(plotdf,100)"
   ]
  },
  {
   "cell_type": "code",
   "execution_count": null,
   "metadata": {},
   "outputs": [],
   "source": [
    "# plotdf$bin_ID <- factor(plotdf$bin_ID, levels = unique(plotdf$bin_ID))"
   ]
  },
  {
   "cell_type": "code",
   "execution_count": null,
   "metadata": {},
   "outputs": [],
   "source": [
    "# plotdf$per <- as.numeric(as.character(plotdf$per))"
   ]
  },
  {
   "cell_type": "code",
   "execution_count": null,
   "metadata": {},
   "outputs": [],
   "source": [
    "# names(plotdf) <- c(\"bin_ID\", \"count\", \"cata\")"
   ]
  },
  {
   "cell_type": "code",
   "execution_count": null,
   "metadata": {},
   "outputs": [],
   "source": [
    "# ggplot(data = plotdf, aes(x = bin_ID, y = count, fill = factor(cata))) + coord_flip() + \n",
    "#   geom_bar(stat = \"identity\", width = 2) + ylim(0, 300) + scale_fill_brewer(palette=\"Spectral\")"
   ]
  },
  {
   "cell_type": "code",
   "execution_count": null,
   "metadata": {},
   "outputs": [],
   "source": [
    "# zoomindf <- head(plotdf, 200)\n",
    "# ggplot(data = zoomindf, aes(x = bin_ID, y = count, fill = factor(cata))) + \n",
    "#   geom_bar(stat = \"identity\") + ylim(0, 500) + scale_fill_brewer(palette=\"Spectral\")"
   ]
  }
 ],
 "metadata": {
  "kernelspec": {
   "display_name": "R",
   "language": "R",
   "name": "ir"
  },
  "language_info": {
   "codemirror_mode": "r",
   "file_extension": ".r",
   "mimetype": "text/x-r-source",
   "name": "R",
   "pygments_lexer": "r",
   "version": "3.5.1"
  }
 },
 "nbformat": 4,
 "nbformat_minor": 2
}
