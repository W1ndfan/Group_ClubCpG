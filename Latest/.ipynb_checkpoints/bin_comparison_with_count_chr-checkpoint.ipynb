{
 "cells": [
  {
   "cell_type": "code",
   "execution_count": 1,
   "metadata": {},
   "outputs": [
    {
     "name": "stderr",
     "output_type": "stream",
     "text": [
      "Warning message in file(file, \"rt\"):\n",
      "“cannot open file 'chr2.csv': No such file or directory”"
     ]
    },
    {
     "ename": "ERROR",
     "evalue": "Error in file(file, \"rt\"): cannot open the connection\n",
     "output_type": "error",
     "traceback": [
      "Error in file(file, \"rt\"): cannot open the connection\nTraceback:\n",
      "1. read.table(\"chr2.csv\", col.names = c(\"bin_id\", \"chr\", \"start\", \n .     \"end\", \"input_label\", \"cpg_number\", \"class_label\", \"methylation\", \n .     \"read_number\", \"cpg_pattern\", \"A\", \"B\", \"A_norm\", \"B_norm\", \n .     \"delta\", \"A_sum\", \"B_sum\", \"p_val\", \"p_adj\"), sep = \",\")",
      "2. file(file, \"rt\")"
     ]
    }
   ],
   "source": [
    "data <- read.table(\"chr2.csv\", col.names = c(\"bin_id\",\"chr\",\"start\",\"end\",\"input_label\",\"cpg_number\",\"class_label\",\"methylation\",\"read_number\",\"cpg_pattern\",\"A\",\"B\",\"A_norm\",\n",
    "                                           \"B_norm\",\"delta\",\"A_sum\",\"B_sum\",\"p_val\",\"p_adj\"), sep = \",\")\n",
    "\n",
    "\n",
    "head(data,10)\n",
    "# meth <- data$methylation\n",
    "# read_number <- data$read_number\n",
    "\n",
    "# methResult <- c()\n",
    "# readResult <- c()\n",
    "\n",
    "# for (i in 1: length(meth)){\n",
    "#   if (!meth[i] %in% methResult) {\n",
    "#     methResult <- append(methResult, meth[i])\n",
    "#     readResult <- append(readResult, read_number[i])\n",
    "#   } else {\n",
    "#     readResult[match(meth[i], methResult)] = readResult[match(meth[i], methResult)] + read_number[i]\n",
    "#   }\n",
    "# }"
   ]
  },
  {
   "cell_type": "code",
   "execution_count": null,
   "metadata": {},
   "outputs": [],
   "source": [
    "#write.csv(data, \"new_chr_19.csv\")"
   ]
  },
  {
   "cell_type": "code",
   "execution_count": null,
   "metadata": {},
   "outputs": [],
   "source": [
    "# Per Bin\n",
    "# Standard Settings\n",
    "lowStandard <- 35.0\n",
    "highStandard <- 70.0"
   ]
  },
  {
   "cell_type": "code",
   "execution_count": null,
   "metadata": {},
   "outputs": [],
   "source": [
    "binID <- data$bin_id\n",
    "start <- data$start\n",
    "meth <- data$methylation\n",
    "aNorm <- data$A_norm\n",
    "bNorm <- data$B_norm\n",
    "aRead <- data$A\n",
    "bRead <- data$B\n",
    "cata <- rep(0, length(binID))\n",
    "\n",
    "df <- data.frame(binID, start, meth, aRead, bRead, aNorm, bNorm, cata)\n",
    "\n",
    "head(df)\n",
    "\n",
    "f.cata <- function(row) {\n",
    "#     print(row)\n",
    "#     print(row[3])\n",
    "        print(row)\n",
    "      if (as.numeric(as.character(row[3])) < lowStandard) {\n",
    "        row[\"cata\"] <- 1\n",
    "      } else if(as.numeric(as.character(row[3])) < highStandard){\n",
    "        row[\"cata\"] <- 2\n",
    "      } else {\n",
    "        row[\"cata\"] <- 3\n",
    "      }\n",
    "      return(row)\n",
    "}\n",
    "\n",
    "df <- apply(df, MARGIN = 1, FUN = f.cata)\n",
    "df <- t(df)\n",
    "df <- as.data.frame(df)\n",
    "head(df)"
   ]
  },
  {
   "cell_type": "code",
   "execution_count": null,
   "metadata": {},
   "outputs": [],
   "source": [
    "df$cata <- as.numeric(df$cata)\n",
    "df <- df[order(df$start, -df$cata),]\n",
    "df"
   ]
  },
  {
   "cell_type": "code",
   "execution_count": null,
   "metadata": {},
   "outputs": [],
   "source": [
    "df$aRead <- as.numeric(as.character(df[, \"aRead\"]))\n",
    "df$bRead <- as.numeric(as.character(df[, \"bRead\"]))\n",
    "df$aNorm <- as.numeric(as.character(df[, \"aNorm\"]))\n",
    "df$bNorm <- as.numeric(as.character(df[, \"bNorm\"]))"
   ]
  },
  {
   "cell_type": "code",
   "execution_count": null,
   "metadata": {},
   "outputs": [],
   "source": [
    "head(df)"
   ]
  },
  {
   "cell_type": "code",
   "execution_count": null,
   "metadata": {},
   "outputs": [],
   "source": [
    "# testdf <- head(df, 100)\n",
    "# # testdf"
   ]
  },
  {
   "cell_type": "code",
   "execution_count": null,
   "metadata": {},
   "outputs": [],
   "source": [
    "# library(ggplot2)"
   ]
  },
  {
   "cell_type": "code",
   "execution_count": null,
   "metadata": {},
   "outputs": [],
   "source": [
    "# ggplot(data = testdf, aes(x = binID, y = aNorm, fill = factor(cata))) + \n",
    "#   geom_bar(stat = \"identity\") + coord_flip() + scale_fill_manual(values = c(\"grey\", \"red\", \"black\"))"
   ]
  },
  {
   "cell_type": "code",
   "execution_count": null,
   "metadata": {},
   "outputs": [],
   "source": [
    "# # A components\n",
    "# ggplot(data = df, aes(x = binID, y = aNorm, fill = factor(cata))) + \n",
    "#   geom_bar(stat = \"identity\", width = 2) + coord_flip() + scale_fill_manual(values = c(\"grey\", \"red\", \"black\"))"
   ]
  },
  {
   "cell_type": "code",
   "execution_count": null,
   "metadata": {},
   "outputs": [],
   "source": [
    "# # B components\n",
    "# ggplot(data = df, aes(x = binID, y = bNorm, fill = factor(cata))) + \n",
    "#   geom_bar(stat = \"identity\", width = 2) + coord_flip() + scale_fill_manual(values = c(\"grey\", \"red\", \"black\"))"
   ]
  },
  {
   "cell_type": "code",
   "execution_count": null,
   "metadata": {},
   "outputs": [],
   "source": [
    "# deltaAB <- df$aNorm - df$bNorm\n",
    "# df <- cbind(df, deltaAB)\n"
   ]
  },
  {
   "cell_type": "code",
   "execution_count": null,
   "metadata": {},
   "outputs": [],
   "source": [
    "# df <- df[,-7]\n",
    "# df"
   ]
  },
  {
   "cell_type": "code",
   "execution_count": null,
   "metadata": {},
   "outputs": [],
   "source": [
    "# # Delta component\n",
    "\n",
    "\n",
    "# ggplot(data = df, aes(x = binID, y = deltaAB, fill = factor(cata))) + \n",
    "#   geom_bar(stat = \"identity\", width = 2) + coord_flip() + scale_fill_manual(values = c(\"grey\", \"red\", \"black\"))"
   ]
  },
  {
   "cell_type": "code",
   "execution_count": null,
   "metadata": {},
   "outputs": [],
   "source": [
    "head(df)"
   ]
  },
  {
   "cell_type": "code",
   "execution_count": null,
   "metadata": {},
   "outputs": [],
   "source": [
    "library(reshape2)"
   ]
  },
  {
   "cell_type": "code",
   "execution_count": null,
   "metadata": {},
   "outputs": [],
   "source": [
    "classifiedData <- data.frame()\n",
    "\n",
    "sumARead = as.numeric(as.character(df[1,]$aRead))\n",
    "sumBRead = as.numeric(as.character(df[1,]$bRead))\n",
    "sumANorm = as.numeric(as.character(df[1,]$aNorm))\n",
    "sumBNorm = as.numeric(as.character(df[1,]$bNorm))\n",
    "\n",
    "preRow = df[1,]\n",
    "\n",
    "cluster.fun <- function(row) {\n",
    "    if (row[\"binID\"] == preRow[\"binID\"] && row[\"cata\"] == preRow[\"cata\"]){\n",
    "        sumARead <<- sumARead + as.numeric(row[\"aRead\"])\n",
    "        sumBRead <<- sumBRead + as.numeric(row[\"bRead\"])\n",
    "        sumANorm <<- sumANorm + as.numeric(row[\"aNorm\"])\n",
    "        sumBNorm <<- sumBNorm + as.numeric(row[\"bNorm\"])\n",
    "    } else {\n",
    "        classifiedData <<- rbind(classifiedData, data.frame(binID = preRow[\"binID\"], start = preRow[\"start\"],\n",
    "                                                           meth = preRow[\"meth\"], \n",
    "                                                           aRead = sumARead, bRead = sumBRead,\n",
    "                                                           aNorm = sumANorm, bNorm = sumBNorm, \n",
    "                                                           cata = preRow[\"cata\"]))\n",
    "        sumARead <<- as.numeric(row[\"aRead\"])\n",
    "        sumBRead <<- as.numeric(row[\"bRead\"])\n",
    "        sumANorm <<- as.numeric(row[\"aNorm\"])\n",
    "        sumBNorm <<- as.numeric(row[\"bNorm\"])\n",
    "    }\n",
    "    preRow <<- row\n",
    "}\n",
    "\n",
    "invisible(apply(df[-1,], MARGIN = 1, FUN = cluster.fun))\n",
    "head(df,20)\n",
    "head(classifiedData,10)\n",
    "\n",
    "\n",
    "# Stupid Version 2\n",
    "\n",
    "\n",
    "# sumA = df[1,]$aNorm\n",
    "# sumB = df[1,]$bNorm\n",
    "\n",
    "# for (i in 2:nrow(df)) {\n",
    "#     if (df[i,]$binID == df[i - 1,]$binID && df[i,]$cata == df[i - 1,]$cata){\n",
    "#         sumA = sumA + df[i,]$aNorm\n",
    "#         sumB = sumB + df[i,]$bNorm\n",
    "#     } else {\n",
    "#         classifiedData <- rbind(classifiedData, data.frame(binID = df[i - 1, 1], start = df[i - 1, 2], meth = df[i - 1, 3], aNorm = sumA, \n",
    "#                                                            bNorm = sumB, cata = df[i - 1, 6]))\n",
    "#         sumA = df[i,]$aNorm\n",
    "#         sumB = df[i,]$bNorm\n",
    "#     }\n",
    "# }\n"
   ]
  },
  {
   "cell_type": "code",
   "execution_count": null,
   "metadata": {},
   "outputs": [],
   "source": [
    "classifiedData <- classifiedData[order(classifiedData$start, -classifiedData$cata),]"
   ]
  },
  {
   "cell_type": "code",
   "execution_count": null,
   "metadata": {},
   "outputs": [],
   "source": [
    "head(df, 20)\n",
    "head(classifiedData,10)"
   ]
  },
  {
   "cell_type": "code",
   "execution_count": null,
   "metadata": {},
   "outputs": [],
   "source": [
    "# classifiedData$cata <- factor(classifiedData$cata, levels = c(3,2,1), labels = c(\"high\", \"medium\", \"low\"))"
   ]
  },
  {
   "cell_type": "code",
   "execution_count": null,
   "metadata": {},
   "outputs": [],
   "source": [
    "write.csv(classifiedData, \"new_chr2_static_classified.csv\")"
   ]
  }
 ],
 "metadata": {
  "kernelspec": {
   "display_name": "R",
   "language": "R",
   "name": "ir"
  },
  "language_info": {
   "codemirror_mode": "r",
   "file_extension": ".r",
   "mimetype": "text/x-r-source",
   "name": "R",
   "pygments_lexer": "r",
   "version": "3.5.1"
  }
 },
 "nbformat": 4,
 "nbformat_minor": 2
}
