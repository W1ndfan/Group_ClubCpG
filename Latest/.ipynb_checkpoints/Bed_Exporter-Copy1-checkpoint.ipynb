{
 "cells": [
  {
   "cell_type": "code",
   "execution_count": 1,
   "metadata": {},
   "outputs": [
    {
     "data": {
      "text/html": [
       "<table>\n",
       "<thead><tr><th scope=col>X</th><th scope=col>binID</th><th scope=col>start</th><th scope=col>high</th><th scope=col>medium</th><th scope=col>low</th></tr></thead>\n",
       "<tbody>\n",
       "\t<tr><td>26357        </td><td>chr14_3006400</td><td>3006300      </td><td> 19          </td><td>  6          </td><td>  0          </td></tr>\n",
       "\t<tr><td>    2        </td><td>chr14_3006500</td><td>3006400      </td><td> 53          </td><td> 18          </td><td>  0          </td></tr>\n",
       "\t<tr><td>    1        </td><td>gap 1        </td><td>      0      </td><td>100          </td><td>100          </td><td>100          </td></tr>\n",
       "\t<tr><td>    4        </td><td>chr14_3048200</td><td>3048100      </td><td> 33          </td><td> 34          </td><td> 23          </td></tr>\n",
       "\t<tr><td>    5        </td><td>chr14_3048300</td><td>3048200      </td><td> 22          </td><td> 40          </td><td> 31          </td></tr>\n",
       "\t<tr><td>   11        </td><td>gap 2        </td><td>      0      </td><td>100          </td><td>100          </td><td>100          </td></tr>\n",
       "</tbody>\n",
       "</table>\n"
      ],
      "text/latex": [
       "\\begin{tabular}{r|llllll}\n",
       " X & binID & start & high & medium & low\\\\\n",
       "\\hline\n",
       "\t 26357           & chr14\\_3006400 & 3006300         &  19             &   6             &   0            \\\\\n",
       "\t     2           & chr14\\_3006500 & 3006400         &  53             &  18             &   0            \\\\\n",
       "\t     1         & gap 1         &       0       & 100           & 100           & 100          \\\\\n",
       "\t     4           & chr14\\_3048200 & 3048100         &  33             &  34             &  23            \\\\\n",
       "\t     5           & chr14\\_3048300 & 3048200         &  22             &  40             &  31            \\\\\n",
       "\t    11         & gap 2         &       0       & 100           & 100           & 100          \\\\\n",
       "\\end{tabular}\n"
      ],
      "text/markdown": [
       "\n",
       "X | binID | start | high | medium | low | \n",
       "|---|---|---|---|---|---|\n",
       "| 26357         | chr14_3006400 | 3006300       |  19           |   6           |   0           | \n",
       "|     2         | chr14_3006500 | 3006400       |  53           |  18           |   0           | \n",
       "|     1         | gap 1         |       0       | 100           | 100           | 100           | \n",
       "|     4         | chr14_3048200 | 3048100       |  33           |  34           |  23           | \n",
       "|     5         | chr14_3048300 | 3048200       |  22           |  40           |  31           | \n",
       "|    11         | gap 2         |       0       | 100           | 100           | 100           | \n",
       "\n",
       "\n"
      ],
      "text/plain": [
       "  X     binID         start   high medium low\n",
       "1 26357 chr14_3006400 3006300  19    6      0\n",
       "2     2 chr14_3006500 3006400  53   18      0\n",
       "3     1 gap 1               0 100  100    100\n",
       "4     4 chr14_3048200 3048100  33   34     23\n",
       "5     5 chr14_3048300 3048200  22   40     31\n",
       "6    11 gap 2               0 100  100    100"
      ]
     },
     "metadata": {},
     "output_type": "display_data"
    }
   ],
   "source": [
    "data <- read.csv(\"chr14_A_group.csv\")\n",
    "head(data)"
   ]
  },
  {
   "cell_type": "code",
   "execution_count": 2,
   "metadata": {},
   "outputs": [
    {
     "data": {
      "text/html": [
       "<table>\n",
       "<thead><tr><th></th><th scope=col>X</th><th scope=col>binID</th><th scope=col>start</th><th scope=col>high</th><th scope=col>medium</th><th scope=col>low</th></tr></thead>\n",
       "<tbody>\n",
       "\t<tr><th scope=row>11643</th><td> 14293         </td><td>gap 3701       </td><td>        0      </td><td>100            </td><td>100            </td><td>100            </td></tr>\n",
       "\t<tr><th scope=row>11644</th><td>116441         </td><td>chr14_124731800</td><td>124731700      </td><td> 32            </td><td> 11            </td><td>  0            </td></tr>\n",
       "\t<tr><th scope=row>11645</th><td>116451         </td><td>chr14_124731900</td><td>124731800      </td><td> 29            </td><td>  2            </td><td>  0            </td></tr>\n",
       "\t<tr><th scope=row>11646</th><td> 14294         </td><td>gap 3702       </td><td>        0      </td><td>100            </td><td>100            </td><td>100            </td></tr>\n",
       "\t<tr><th scope=row>11647</th><td>116471         </td><td>chr14_124798900</td><td>124798800      </td><td> 40            </td><td> 21            </td><td>  0            </td></tr>\n",
       "\t<tr><th scope=row>11648</th><td>116481         </td><td>chr14_124799000</td><td>124798900      </td><td> 10            </td><td> 15            </td><td>  0            </td></tr>\n",
       "</tbody>\n",
       "</table>\n"
      ],
      "text/latex": [
       "\\begin{tabular}{r|llllll}\n",
       "  & X & binID & start & high & medium & low\\\\\n",
       "\\hline\n",
       "\t11643 &  14293          & gap 3701        &         0       & 100             & 100             & 100            \\\\\n",
       "\t11644 & 116441            & chr14\\_124731800 & 124731700         &  32               &  11               &   0              \\\\\n",
       "\t11645 & 116451            & chr14\\_124731900 & 124731800         &  29               &   2               &   0              \\\\\n",
       "\t11646 &  14294          & gap 3702        &         0       & 100             & 100             & 100            \\\\\n",
       "\t11647 & 116471            & chr14\\_124798900 & 124798800         &  40               &  21               &   0              \\\\\n",
       "\t11648 & 116481            & chr14\\_124799000 & 124798900         &  10               &  15               &   0              \\\\\n",
       "\\end{tabular}\n"
      ],
      "text/markdown": [
       "\n",
       "| <!--/--> | X | binID | start | high | medium | low | \n",
       "|---|---|---|---|---|---|\n",
       "| 11643 |  14293          | gap 3701        |         0       | 100             | 100             | 100             | \n",
       "| 11644 | 116441          | chr14_124731800 | 124731700       |  32             |  11             |   0             | \n",
       "| 11645 | 116451          | chr14_124731900 | 124731800       |  29             |   2             |   0             | \n",
       "| 11646 |  14294          | gap 3702        |         0       | 100             | 100             | 100             | \n",
       "| 11647 | 116471          | chr14_124798900 | 124798800       |  40             |  21             |   0             | \n",
       "| 11648 | 116481          | chr14_124799000 | 124798900       |  10             |  15             |   0             | \n",
       "\n",
       "\n"
      ],
      "text/plain": [
       "      X      binID           start     high medium low\n",
       "11643  14293 gap 3701                0 100  100    100\n",
       "11644 116441 chr14_124731800 124731700  32   11      0\n",
       "11645 116451 chr14_124731900 124731800  29    2      0\n",
       "11646  14294 gap 3702                0 100  100    100\n",
       "11647 116471 chr14_124798900 124798800  40   21      0\n",
       "11648 116481 chr14_124799000 124798900  10   15      0"
      ]
     },
     "metadata": {},
     "output_type": "display_data"
    }
   ],
   "source": [
    "tail(data)"
   ]
  },
  {
   "cell_type": "code",
   "execution_count": 3,
   "metadata": {},
   "outputs": [
    {
     "data": {
      "text/html": [
       "<table>\n",
       "<thead><tr><th></th><th scope=col>binID</th><th scope=col>start</th><th scope=col>high</th><th scope=col>medium</th><th scope=col>low</th></tr></thead>\n",
       "<tbody>\n",
       "\t<tr><th scope=row>11644</th><td>chr14_124731800</td><td>124731700      </td><td> 32            </td><td> 11            </td><td>  0            </td></tr>\n",
       "\t<tr><th scope=row>11645</th><td>chr14_124731900</td><td>124731800      </td><td> 29            </td><td>  2            </td><td>  0            </td></tr>\n",
       "\t<tr><th scope=row>11646</th><td>gap 3702       </td><td>        0      </td><td>100            </td><td>100            </td><td>100            </td></tr>\n",
       "\t<tr><th scope=row>11647</th><td>chr14_124798900</td><td>124798800      </td><td> 40            </td><td> 21            </td><td>  0            </td></tr>\n",
       "\t<tr><th scope=row>11648</th><td>chr14_124799000</td><td>124798900      </td><td> 10            </td><td> 15            </td><td>  0            </td></tr>\n",
       "\t<tr><th scope=row>11649</th><td>gap2132        </td><td>        0      </td><td>100            </td><td>100            </td><td>100            </td></tr>\n",
       "</tbody>\n",
       "</table>\n"
      ],
      "text/latex": [
       "\\begin{tabular}{r|lllll}\n",
       "  & binID & start & high & medium & low\\\\\n",
       "\\hline\n",
       "\t11644 & chr14\\_124731800 & 124731700         &  32               &  11               &   0              \\\\\n",
       "\t11645 & chr14\\_124731900 & 124731800         &  29               &   2               &   0              \\\\\n",
       "\t11646 & gap 3702        &         0       & 100             & 100             & 100            \\\\\n",
       "\t11647 & chr14\\_124798900 & 124798800         &  40               &  21               &   0              \\\\\n",
       "\t11648 & chr14\\_124799000 & 124798900         &  10               &  15               &   0              \\\\\n",
       "\t11649 & gap2132         &         0       & 100             & 100             & 100            \\\\\n",
       "\\end{tabular}\n"
      ],
      "text/markdown": [
       "\n",
       "| <!--/--> | binID | start | high | medium | low | \n",
       "|---|---|---|---|---|---|\n",
       "| 11644 | chr14_124731800 | 124731700       |  32             |  11             |   0             | \n",
       "| 11645 | chr14_124731900 | 124731800       |  29             |   2             |   0             | \n",
       "| 11646 | gap 3702        |         0       | 100             | 100             | 100             | \n",
       "| 11647 | chr14_124798900 | 124798800       |  40             |  21             |   0             | \n",
       "| 11648 | chr14_124799000 | 124798900       |  10             |  15             |   0             | \n",
       "| 11649 | gap2132         |         0       | 100             | 100             | 100             | \n",
       "\n",
       "\n"
      ],
      "text/plain": [
       "      binID           start     high medium low\n",
       "11644 chr14_124731800 124731700  32   11      0\n",
       "11645 chr14_124731900 124731800  29    2      0\n",
       "11646 gap 3702                0 100  100    100\n",
       "11647 chr14_124798900 124798800  40   21      0\n",
       "11648 chr14_124799000 124798900  10   15      0\n",
       "11649 gap2132                 0 100  100    100"
      ]
     },
     "metadata": {},
     "output_type": "display_data"
    }
   ],
   "source": [
    "data <- rbind(data[,-1], data.frame(binID = \"gap2132\", start = 0, high = 100, medium = 100, low = 100))\n",
    "tail(data)"
   ]
  },
  {
   "cell_type": "code",
   "execution_count": 4,
   "metadata": {},
   "outputs": [
    {
     "data": {
      "text/html": [
       "<table>\n",
       "<thead><tr><th scope=col>binID</th><th scope=col>start</th><th scope=col>high</th><th scope=col>medium</th><th scope=col>low</th></tr></thead>\n",
       "<tbody>\n",
       "\t<tr><td>chr14_3006400</td><td>3006300      </td><td> 19          </td><td>  6          </td><td>  0          </td></tr>\n",
       "\t<tr><td>chr14_3006500</td><td>3006400      </td><td> 53          </td><td> 18          </td><td>  0          </td></tr>\n",
       "\t<tr><td>gap 1        </td><td>      0      </td><td>100          </td><td>100          </td><td>100          </td></tr>\n",
       "\t<tr><td>chr14_3048200</td><td>3048100      </td><td> 33          </td><td> 34          </td><td> 23          </td></tr>\n",
       "\t<tr><td>chr14_3048300</td><td>3048200      </td><td> 22          </td><td> 40          </td><td> 31          </td></tr>\n",
       "\t<tr><td>gap 2        </td><td>      0      </td><td>100          </td><td>100          </td><td>100          </td></tr>\n",
       "\t<tr><td>chr14_3051100</td><td>3051000      </td><td> 32          </td><td> 13          </td><td>  3          </td></tr>\n",
       "\t<tr><td>chr14_3051200</td><td>3051100      </td><td> 43          </td><td> 19          </td><td>  2          </td></tr>\n",
       "\t<tr><td>chr14_3051300</td><td>3051200      </td><td>184          </td><td> 39          </td><td>  9          </td></tr>\n",
       "\t<tr><td>gap 3        </td><td>      0      </td><td>100          </td><td>100          </td><td>100          </td></tr>\n",
       "</tbody>\n",
       "</table>\n"
      ],
      "text/latex": [
       "\\begin{tabular}{r|lllll}\n",
       " binID & start & high & medium & low\\\\\n",
       "\\hline\n",
       "\t chr14\\_3006400 & 3006300         &  19             &   6             &   0            \\\\\n",
       "\t chr14\\_3006500 & 3006400         &  53             &  18             &   0            \\\\\n",
       "\t gap 1         &       0       & 100           & 100           & 100          \\\\\n",
       "\t chr14\\_3048200 & 3048100         &  33             &  34             &  23            \\\\\n",
       "\t chr14\\_3048300 & 3048200         &  22             &  40             &  31            \\\\\n",
       "\t gap 2         &       0       & 100           & 100           & 100          \\\\\n",
       "\t chr14\\_3051100 & 3051000         &  32             &  13             &   3            \\\\\n",
       "\t chr14\\_3051200 & 3051100         &  43             &  19             &   2            \\\\\n",
       "\t chr14\\_3051300 & 3051200         & 184             &  39             &   9            \\\\\n",
       "\t gap 3         &       0       & 100           & 100           & 100          \\\\\n",
       "\\end{tabular}\n"
      ],
      "text/markdown": [
       "\n",
       "binID | start | high | medium | low | \n",
       "|---|---|---|---|---|---|---|---|---|---|\n",
       "| chr14_3006400 | 3006300       |  19           |   6           |   0           | \n",
       "| chr14_3006500 | 3006400       |  53           |  18           |   0           | \n",
       "| gap 1         |       0       | 100           | 100           | 100           | \n",
       "| chr14_3048200 | 3048100       |  33           |  34           |  23           | \n",
       "| chr14_3048300 | 3048200       |  22           |  40           |  31           | \n",
       "| gap 2         |       0       | 100           | 100           | 100           | \n",
       "| chr14_3051100 | 3051000       |  32           |  13           |   3           | \n",
       "| chr14_3051200 | 3051100       |  43           |  19           |   2           | \n",
       "| chr14_3051300 | 3051200       | 184           |  39           |   9           | \n",
       "| gap 3         |       0       | 100           | 100           | 100           | \n",
       "\n",
       "\n"
      ],
      "text/plain": [
       "   binID         start   high medium low\n",
       "1  chr14_3006400 3006300  19    6      0\n",
       "2  chr14_3006500 3006400  53   18      0\n",
       "3  gap 1               0 100  100    100\n",
       "4  chr14_3048200 3048100  33   34     23\n",
       "5  chr14_3048300 3048200  22   40     31\n",
       "6  gap 2               0 100  100    100\n",
       "7  chr14_3051100 3051000  32   13      3\n",
       "8  chr14_3051200 3051100  43   19      2\n",
       "9  chr14_3051300 3051200 184   39      9\n",
       "10 gap 3               0 100  100    100"
      ]
     },
     "metadata": {},
     "output_type": "display_data"
    }
   ],
   "source": [
    "head(data, 10)"
   ]
  },
  {
   "cell_type": "code",
   "execution_count": 5,
   "metadata": {},
   "outputs": [],
   "source": [
    "startID <- data[1, \"binID\"]\n",
    "start <- data[1, \"start\"]\n",
    "start.flag <- FALSE\n",
    "\n",
    "result <- data.frame(chr = c(), start = c(), end = c(), ID = c())\n",
    "temp <- data.frame(chr = substring(startID, 1, 5), start = start, end = c(0), ID = startID)\n",
    "\n",
    "\n",
    "bed.func <- function(row) {\n",
    "    if (as.numeric(as.character(row[2])) != 0) {\n",
    "        start <<- row[2]\n",
    "        startID <<- row[1]\n",
    "        if (start.flag == TRUE) {\n",
    "            temp <<- data.frame(chr = substring(startID, 1, 5), start = start, end = c(0), ID = startID)\n",
    "            start.flag <<- FALSE\n",
    "        }\n",
    "    } else {\n",
    "        temp$end = as.character(as.numeric(as.character(start)) + 100 - 1)\n",
    "        result <<- rbind(result, temp)\n",
    "        start.flag <<- TRUE\n",
    "    }\n",
    "}"
   ]
  },
  {
   "cell_type": "code",
   "execution_count": null,
   "metadata": {},
   "outputs": [],
   "source": [
    "invisible(apply(data, 1, bed.func))\n",
    "\n",
    "head(result)\n",
    "\n",
    "tail(result)"
   ]
  },
  {
   "cell_type": "code",
   "execution_count": null,
   "metadata": {},
   "outputs": [],
   "source": [
    "write.table(result, file = \"chr14_A_GO.bed\", quote = FALSE, sep = \"\\t\", col.names = FALSE, row.names = FALSE)"
   ]
  }
 ],
 "metadata": {
  "kernelspec": {
   "display_name": "R",
   "language": "R",
   "name": "ir"
  },
  "language_info": {
   "codemirror_mode": "r",
   "file_extension": ".r",
   "mimetype": "text/x-r-source",
   "name": "R",
   "pygments_lexer": "r",
   "version": "3.5.1"
  }
 },
 "nbformat": 4,
 "nbformat_minor": 2
}
