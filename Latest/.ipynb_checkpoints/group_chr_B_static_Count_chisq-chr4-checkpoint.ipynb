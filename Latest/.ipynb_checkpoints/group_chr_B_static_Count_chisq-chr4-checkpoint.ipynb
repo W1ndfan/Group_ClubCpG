{
 "cells": [
  {
   "cell_type": "code",
   "execution_count": 1,
   "metadata": {},
   "outputs": [
    {
     "data": {
      "text/html": [
       "<table>\n",
       "<thead><tr><th scope=col>X</th><th scope=col>binID</th><th scope=col>start</th><th scope=col>cata</th><th scope=col>aRead</th><th scope=col>bRead</th><th scope=col>aNorm</th><th scope=col>bNorm</th></tr></thead>\n",
       "<tbody>\n",
       "\t<tr><td>155914      </td><td>chr3_3001300</td><td>3001200     </td><td>3           </td><td> 79         </td><td> 92         </td><td>50.318471   </td><td>42.201835   </td></tr>\n",
       "\t<tr><td> 69851      </td><td>chr3_3001300</td><td>3001200     </td><td>2           </td><td> 68         </td><td>101         </td><td>43.312102   </td><td>46.330275   </td></tr>\n",
       "\t<tr><td>     1      </td><td>chr3_3001300</td><td>3001200     </td><td>1           </td><td> 10         </td><td> 25         </td><td> 6.369427   </td><td>11.467890   </td></tr>\n",
       "\t<tr><td>155915      </td><td>chr3_3001500</td><td>3001400     </td><td>3           </td><td>176         </td><td>258         </td><td>86.274510   </td><td>80.877743   </td></tr>\n",
       "\t<tr><td> 69852      </td><td>chr3_3001500</td><td>3001400     </td><td>2           </td><td> 21         </td><td> 51         </td><td>10.294118   </td><td>15.987461   </td></tr>\n",
       "\t<tr><td>     2      </td><td>chr3_3001500</td><td>3001400     </td><td>1           </td><td>  7         </td><td> 10         </td><td> 3.431373   </td><td> 3.134796   </td></tr>\n",
       "\t<tr><td>155916      </td><td>chr3_3002600</td><td>3002500     </td><td>3           </td><td>102         </td><td>125         </td><td>58.285714   </td><td>58.139535   </td></tr>\n",
       "\t<tr><td> 69853      </td><td>chr3_3002600</td><td>3002500     </td><td>2           </td><td> 68         </td><td> 83         </td><td>38.857143   </td><td>38.604651   </td></tr>\n",
       "\t<tr><td>     3      </td><td>chr3_3002600</td><td>3002500     </td><td>1           </td><td>  5         </td><td>  7         </td><td> 2.857143   </td><td> 3.255814   </td></tr>\n",
       "\t<tr><td>155917      </td><td>chr3_3003100</td><td>3003000     </td><td>3           </td><td> 96         </td><td>119         </td><td>54.237288   </td><td>43.589744   </td></tr>\n",
       "</tbody>\n",
       "</table>\n"
      ],
      "text/latex": [
       "\\begin{tabular}{r|llllllll}\n",
       " X & binID & start & cata & aRead & bRead & aNorm & bNorm\\\\\n",
       "\\hline\n",
       "\t 155914         & chr3\\_3001300 & 3001200        & 3              &  79            &  92            & 50.318471      & 42.201835     \\\\\n",
       "\t  69851         & chr3\\_3001300 & 3001200        & 2              &  68            & 101            & 43.312102      & 46.330275     \\\\\n",
       "\t      1         & chr3\\_3001300 & 3001200        & 1              &  10            &  25            &  6.369427      & 11.467890     \\\\\n",
       "\t 155915         & chr3\\_3001500 & 3001400        & 3              & 176            & 258            & 86.274510      & 80.877743     \\\\\n",
       "\t  69852         & chr3\\_3001500 & 3001400        & 2              &  21            &  51            & 10.294118      & 15.987461     \\\\\n",
       "\t      2         & chr3\\_3001500 & 3001400        & 1              &   7            &  10            &  3.431373      &  3.134796     \\\\\n",
       "\t 155916         & chr3\\_3002600 & 3002500        & 3              & 102            & 125            & 58.285714      & 58.139535     \\\\\n",
       "\t  69853         & chr3\\_3002600 & 3002500        & 2              &  68            &  83            & 38.857143      & 38.604651     \\\\\n",
       "\t      3         & chr3\\_3002600 & 3002500        & 1              &   5            &   7            &  2.857143      &  3.255814     \\\\\n",
       "\t 155917         & chr3\\_3003100 & 3003000        & 3              &  96            & 119            & 54.237288      & 43.589744     \\\\\n",
       "\\end{tabular}\n"
      ],
      "text/markdown": [
       "\n",
       "X | binID | start | cata | aRead | bRead | aNorm | bNorm | \n",
       "|---|---|---|---|---|---|---|---|---|---|\n",
       "| 155914       | chr3_3001300 | 3001200      | 3            |  79          |  92          | 50.318471    | 42.201835    | \n",
       "|  69851       | chr3_3001300 | 3001200      | 2            |  68          | 101          | 43.312102    | 46.330275    | \n",
       "|      1       | chr3_3001300 | 3001200      | 1            |  10          |  25          |  6.369427    | 11.467890    | \n",
       "| 155915       | chr3_3001500 | 3001400      | 3            | 176          | 258          | 86.274510    | 80.877743    | \n",
       "|  69852       | chr3_3001500 | 3001400      | 2            |  21          |  51          | 10.294118    | 15.987461    | \n",
       "|      2       | chr3_3001500 | 3001400      | 1            |   7          |  10          |  3.431373    |  3.134796    | \n",
       "| 155916       | chr3_3002600 | 3002500      | 3            | 102          | 125          | 58.285714    | 58.139535    | \n",
       "|  69853       | chr3_3002600 | 3002500      | 2            |  68          |  83          | 38.857143    | 38.604651    | \n",
       "|      3       | chr3_3002600 | 3002500      | 1            |   5          |   7          |  2.857143    |  3.255814    | \n",
       "| 155917       | chr3_3003100 | 3003000      | 3            |  96          | 119          | 54.237288    | 43.589744    | \n",
       "\n",
       "\n"
      ],
      "text/plain": [
       "   X      binID        start   cata aRead bRead aNorm     bNorm    \n",
       "1  155914 chr3_3001300 3001200 3     79    92   50.318471 42.201835\n",
       "2   69851 chr3_3001300 3001200 2     68   101   43.312102 46.330275\n",
       "3       1 chr3_3001300 3001200 1     10    25    6.369427 11.467890\n",
       "4  155915 chr3_3001500 3001400 3    176   258   86.274510 80.877743\n",
       "5   69852 chr3_3001500 3001400 2     21    51   10.294118 15.987461\n",
       "6       2 chr3_3001500 3001400 1      7    10    3.431373  3.134796\n",
       "7  155916 chr3_3002600 3002500 3    102   125   58.285714 58.139535\n",
       "8   69853 chr3_3002600 3002500 2     68    83   38.857143 38.604651\n",
       "9       3 chr3_3002600 3002500 1      5     7    2.857143  3.255814\n",
       "10 155917 chr3_3003100 3003000 3     96   119   54.237288 43.589744"
      ]
     },
     "metadata": {},
     "output_type": "display_data"
    }
   ],
   "source": [
    "data <- read.csv(\"new_chr3_static_classified.csv\")\n",
    "head(data,10)\n",
    "# tail(data,10)\n",
    "# head(read.csv(\"new_chr19_static_classified.csv\"))"
   ]
  },
  {
   "cell_type": "code",
   "execution_count": 2,
   "metadata": {},
   "outputs": [
    {
     "data": {
      "text/html": [
       "<table>\n",
       "<thead><tr><th></th><th scope=col>binID</th><th scope=col>start</th><th scope=col>high</th><th scope=col>medium</th><th scope=col>low</th></tr></thead>\n",
       "<tbody>\n",
       "\t<tr><th scope=row>47941</th><td>chr3_3001300</td><td>3001200     </td><td> 92         </td><td>101         </td><td>25          </td></tr>\n",
       "\t<tr><th scope=row>47942</th><td>chr3_3001500</td><td>3001400     </td><td>258         </td><td> 51         </td><td>10          </td></tr>\n",
       "\t<tr><th scope=row>47951</th><td>chr3_3002600</td><td>3002500     </td><td>125         </td><td> 83         </td><td> 7          </td></tr>\n",
       "\t<tr><th scope=row>47952</th><td>chr3_3003100</td><td>3003000     </td><td>119         </td><td>141         </td><td>13          </td></tr>\n",
       "\t<tr><th scope=row>47980</th><td>chr3_3007000</td><td>3006900     </td><td>250         </td><td>102         </td><td>28          </td></tr>\n",
       "\t<tr><th scope=row>47982</th><td>chr3_3007200</td><td>3007100     </td><td>335         </td><td> 56         </td><td>23          </td></tr>\n",
       "\t<tr><th scope=row>47991</th><td>chr3_3008400</td><td>3008300     </td><td>275         </td><td> 99         </td><td>18          </td></tr>\n",
       "\t<tr><th scope=row>48023</th><td>chr3_3013100</td><td>3013000     </td><td> 58         </td><td> 25         </td><td> 0          </td></tr>\n",
       "\t<tr><th scope=row>48029</th><td>chr3_3014100</td><td>3014000     </td><td>371         </td><td> 82         </td><td>28          </td></tr>\n",
       "\t<tr><th scope=row>48037</th><td>chr3_3014900</td><td>3014800     </td><td>169         </td><td> 63         </td><td>10          </td></tr>\n",
       "</tbody>\n",
       "</table>\n"
      ],
      "text/latex": [
       "\\begin{tabular}{r|lllll}\n",
       "  & binID & start & high & medium & low\\\\\n",
       "\\hline\n",
       "\t47941 & chr3\\_3001300 & 3001200        &  92            & 101            & 25            \\\\\n",
       "\t47942 & chr3\\_3001500 & 3001400        & 258            &  51            & 10            \\\\\n",
       "\t47951 & chr3\\_3002600 & 3002500        & 125            &  83            &  7            \\\\\n",
       "\t47952 & chr3\\_3003100 & 3003000        & 119            & 141            & 13            \\\\\n",
       "\t47980 & chr3\\_3007000 & 3006900        & 250            & 102            & 28            \\\\\n",
       "\t47982 & chr3\\_3007200 & 3007100        & 335            &  56            & 23            \\\\\n",
       "\t47991 & chr3\\_3008400 & 3008300        & 275            &  99            & 18            \\\\\n",
       "\t48023 & chr3\\_3013100 & 3013000        &  58            &  25            &  0            \\\\\n",
       "\t48029 & chr3\\_3014100 & 3014000        & 371            &  82            & 28            \\\\\n",
       "\t48037 & chr3\\_3014900 & 3014800        & 169            &  63            & 10            \\\\\n",
       "\\end{tabular}\n"
      ],
      "text/markdown": [
       "\n",
       "| <!--/--> | binID | start | high | medium | low | \n",
       "|---|---|---|---|---|---|---|---|---|---|\n",
       "| 47941 | chr3_3001300 | 3001200      |  92          | 101          | 25           | \n",
       "| 47942 | chr3_3001500 | 3001400      | 258          |  51          | 10           | \n",
       "| 47951 | chr3_3002600 | 3002500      | 125          |  83          |  7           | \n",
       "| 47952 | chr3_3003100 | 3003000      | 119          | 141          | 13           | \n",
       "| 47980 | chr3_3007000 | 3006900      | 250          | 102          | 28           | \n",
       "| 47982 | chr3_3007200 | 3007100      | 335          |  56          | 23           | \n",
       "| 47991 | chr3_3008400 | 3008300      | 275          |  99          | 18           | \n",
       "| 48023 | chr3_3013100 | 3013000      |  58          |  25          |  0           | \n",
       "| 48029 | chr3_3014100 | 3014000      | 371          |  82          | 28           | \n",
       "| 48037 | chr3_3014900 | 3014800      | 169          |  63          | 10           | \n",
       "\n",
       "\n"
      ],
      "text/plain": [
       "      binID        start   high medium low\n",
       "47941 chr3_3001300 3001200  92  101    25 \n",
       "47942 chr3_3001500 3001400 258   51    10 \n",
       "47951 chr3_3002600 3002500 125   83     7 \n",
       "47952 chr3_3003100 3003000 119  141    13 \n",
       "47980 chr3_3007000 3006900 250  102    28 \n",
       "47982 chr3_3007200 3007100 335   56    23 \n",
       "47991 chr3_3008400 3008300 275   99    18 \n",
       "48023 chr3_3013100 3013000  58   25     0 \n",
       "48029 chr3_3014100 3014000 371   82    28 \n",
       "48037 chr3_3014900 3014800 169   63    10 "
      ]
     },
     "metadata": {},
     "output_type": "display_data"
    }
   ],
   "source": [
    "high_sub <- data[data$cata == 3, c(\"binID\", \"start\", \"bRead\")]\n",
    "names(high_sub) <- c(\"binID\", \"start\", \"high\")\n",
    "# head(high_sub)\n",
    "medium_sub <- data[data$cata == 2, c(\"binID\", \"start\", \"bRead\")]\n",
    "names(medium_sub) <- c(\"binID\", \"start\", \"medium\")\n",
    "# head(medium_sub)\n",
    "low_sub <- data[data$cata == 1, c(\"binID\", \"start\", \"bRead\")]\n",
    "names(low_sub) <- c(\"binID\", \"start\", \"low\")\n",
    "# head(low_sub)\n",
    "\n",
    "# merge\n",
    "clusterdf <- merge(high_sub, medium_sub, all = TRUE)\n",
    "clusterdf <- merge(clusterdf, low_sub, all = TRUE)\n",
    "clusterdf <- clusterdf[order(as.numeric(clusterdf$start)),]\n",
    "clusterdf[is.na(clusterdf)] <- 0\n",
    "head(clusterdf,10)"
   ]
  },
  {
   "cell_type": "code",
   "execution_count": 3,
   "metadata": {},
   "outputs": [
    {
     "data": {
      "text/html": [
       "'Total number of Bins: 92211'"
      ],
      "text/latex": [
       "'Total number of Bins: 92211'"
      ],
      "text/markdown": [
       "'Total number of Bins: 92211'"
      ],
      "text/plain": [
       "[1] \"Total number of Bins: 92211\""
      ]
     },
     "metadata": {},
     "output_type": "display_data"
    }
   ],
   "source": [
    "paste(\"Total number of Bins:\", nrow(clusterdf))"
   ]
  },
  {
   "cell_type": "code",
   "execution_count": 4,
   "metadata": {},
   "outputs": [],
   "source": [
    "# write.csv(clusterdf, \"A_clusterdf_count.csv\")"
   ]
  },
  {
   "cell_type": "code",
   "execution_count": 5,
   "metadata": {},
   "outputs": [],
   "source": [
    "dist_tolerance <- 100\n",
    "# meth_tolerance <- 40 \n",
    "# cor_2_cutoff <- 0.9\n",
    "alpha <- 0.05"
   ]
  },
  {
   "cell_type": "code",
   "execution_count": null,
   "metadata": {},
   "outputs": [],
   "source": [
    "pre.row <- clusterdf[1,]\n",
    "\n",
    "dist.fun <- function(row) {\n",
    "    dist <- as.numeric(as.character(row[\"start\"])) - as.numeric(as.character(pre.row[\"start\"]))\n",
    "    pre.row <<- row\n",
    "    return(c(row[\"binID\"], row[\"start\"], row[\"high\"], row[\"medium\"], row[\"low\"], dist = dist)) \n",
    "}\n",
    "\n",
    "dist.result <- t(apply(clusterdf, 1, dist.fun))\n",
    "dist.result <- as.data.frame(dist.result)\n",
    "head(dist.result, 30)"
   ]
  },
  {
   "cell_type": "code",
   "execution_count": null,
   "metadata": {},
   "outputs": [],
   "source": [
    "dist.result <- dist.result[as.numeric(as.character(dist.result$dist)) <= dist_tolerance, ]\n",
    "head(dist.result)\n",
    "\n",
    "dist.result <- dist.result[-1,]\n",
    "head(dist.result)\n",
    "nrow(dist.result)"
   ]
  },
  {
   "cell_type": "code",
   "execution_count": null,
   "metadata": {},
   "outputs": [],
   "source": [
    "start.pos <- dist.result$start\n",
    "complete <- lapply(start.pos, function(x) c(as.numeric(as.character(x))-100, as.numeric(as.character(x))))\n",
    "complete <- Reduce(c, complete)\n",
    "complete <- unique(complete)\n",
    "complete"
   ]
  },
  {
   "cell_type": "code",
   "execution_count": null,
   "metadata": {},
   "outputs": [],
   "source": [
    "grouping <- clusterdf[as.numeric(as.character(clusterdf$start)) %in% complete, ]\n",
    "dist.result <- as.data.frame(grouping)\n",
    "head(grouping,10)"
   ]
  },
  {
   "cell_type": "code",
   "execution_count": null,
   "metadata": {},
   "outputs": [],
   "source": [
    "pre.row <- dist.result[1,]\n",
    "\n",
    "test.fun <- function(row) {\n",
    "    if (as.numeric(as.character(row[\"start\"])) - as.numeric(as.character(pre.row[\"start\"])) > 100) {\n",
    "        pre.row <<- row\n",
    "        return(c(row[\"binID\"], start = as.character(row[\"start\"]), p.value = \"0\"))\n",
    "    } else {\n",
    "        test.matrix <- cbind(c(as.numeric(as.character(pre.row[\"high\"])),\n",
    "                               as.numeric(as.character(pre.row[\"medium\"])),\n",
    "                               as.numeric(as.character(pre.row[\"low\"]))),\n",
    "                             c(as.numeric(as.character(row[\"high\"])), \n",
    "                               as.numeric(as.character(row[\"medium\"])),\n",
    "                               as.numeric(as.character(row[\"low\"]))))\n",
    "        test.matrix <- test.matrix[rowSums(test.matrix) > 0, ]\n",
    "        value <- suppressWarnings(chisq.test(test.matrix)$p.value)\n",
    "        pre.row <<- row\n",
    "        return(c(row[\"binID\"], start = as.character(row[\"start\"]), p.value = as.character(value)))\n",
    "    }\n",
    "}\n",
    "\n",
    "test.result <- apply(dist.result[-1,], MARGIN = 1, FUN = test.fun)\n",
    "test.result <- t(test.result)\n",
    "test.result <- as.data.frame(test.result)\n",
    "head(test.result)"
   ]
  },
  {
   "cell_type": "code",
   "execution_count": null,
   "metadata": {},
   "outputs": [],
   "source": [
    "good.result <- test.result[as.numeric(as.character(test.result$p.value)) > alpha,]\n",
    "head(good.result)"
   ]
  },
  {
   "cell_type": "code",
   "execution_count": null,
   "metadata": {},
   "outputs": [],
   "source": [
    "start.pos <- good.result$start\n",
    "complete <- lapply(start.pos, function(x) c(as.numeric(as.character(x))-100, as.numeric(as.character(x))))\n",
    "complete <- Reduce(c, complete)\n",
    "complete <- unique(complete)\n",
    "complete"
   ]
  },
  {
   "cell_type": "code",
   "execution_count": null,
   "metadata": {},
   "outputs": [],
   "source": [
    "hist(complete, main = \"Location of Groups along Chr1\")"
   ]
  },
  {
   "cell_type": "code",
   "execution_count": null,
   "metadata": {},
   "outputs": [],
   "source": [
    "grouping <- clusterdf[as.numeric(as.character(clusterdf$start)) %in% complete, ]\n",
    "grouping <- as.data.frame(grouping)\n",
    "head(grouping,10)"
   ]
  },
  {
   "cell_type": "code",
   "execution_count": null,
   "metadata": {},
   "outputs": [],
   "source": [
    "paste(\"Total number of bins grouped:\", nrow(grouping))"
   ]
  },
  {
   "cell_type": "code",
   "execution_count": null,
   "metadata": {},
   "outputs": [],
   "source": [
    "library(ggplot2)"
   ]
  },
  {
   "cell_type": "code",
   "execution_count": null,
   "metadata": {},
   "outputs": [],
   "source": [
    "pre.row <- grouping[1,]\n",
    "\n",
    "part <- data.frame()\n",
    "part <- rbind(part, pre.row)\n",
    "\n",
    "counter = 1\n",
    "sep.fun <- function(row) {\n",
    "    if (as.numeric(as.character(row[\"start\"])) - as.numeric(as.character(pre.row[\"start\"])) > 100) {\n",
    "        part <<- rbind(part, data.frame(binID = c(paste(\"gap\", counter)), \n",
    "                                        start = c(0), high = c(100), medium = c(100), low = c(100)))\n",
    "        counter <<- counter + 1\n",
    "    }\n",
    "    part <<- rbind(part, row)\n",
    "    pre.row <<- row\n",
    "}\n",
    "\n",
    "invisible(apply(grouping[-1,], 1, sep.fun))"
   ]
  },
  {
   "cell_type": "code",
   "execution_count": null,
   "metadata": {},
   "outputs": [],
   "source": [
    "part[20:60,]"
   ]
  },
  {
   "cell_type": "code",
   "execution_count": null,
   "metadata": {},
   "outputs": [],
   "source": [
    "head(part)\n",
    "tail(part)"
   ]
  },
  {
   "cell_type": "code",
   "execution_count": null,
   "metadata": {},
   "outputs": [],
   "source": [
    "write.csv(part, \"chr3_B_group.csv\")"
   ]
  },
  {
   "cell_type": "code",
   "execution_count": null,
   "metadata": {},
   "outputs": [],
   "source": [
    "count = 0\n",
    "result = c()\n",
    "for (row in 1:nrow(part)) {\n",
    "    if (substr(as.character(part[row, \"binID\"]), 1, 3) != \"gap\") {\n",
    "        count = count + 1\n",
    "    } else {\n",
    "        result = c(result, count)\n",
    "        count = 0\n",
    "    }\n",
    "}\n",
    "\n",
    "result = c(result, count)\n",
    "\n",
    "paste(\"Total Number of groups:\", length(result))\n",
    "hist(result, main = \"Distribution of Bin Numbers in each group\")\n",
    "hist(result, ylim = c(0, 200), main = \"Distribution of Bin Numbers in each group\")"
   ]
  },
  {
   "cell_type": "code",
   "execution_count": null,
   "metadata": {},
   "outputs": [],
   "source": [
    "# plotdf <- data.frame(bin_ID = part[1,1], per = as.numeric(as.character(part[1,3])), cata = c(3))\n",
    "# plotdf <- rbind(plotdf, data.frame(bin_ID = part[1,1], per = as.numeric(as.character(part[1,4])), cata = c(4)))\n",
    "# plotdf <- rbind(plotdf, data.frame(bin_ID = part[1,1], per = as.numeric(as.character(part[1,5])), cata = c(5)))\n",
    "\n",
    "\n",
    "# plotdf"
   ]
  },
  {
   "cell_type": "code",
   "execution_count": null,
   "metadata": {},
   "outputs": [],
   "source": [
    "# for (i in 2:nrow(part)){\n",
    "#     if (substr(as.character(part[i,1]),1,3) == \"gap\"){\n",
    "#         plotdf <- rbind(plotdf, data.frame(bin_ID = c(as.character(part[i,1])), per = c(100), cata = c(1)))\n",
    "#     } else {\n",
    "#         for (j in 3:5){\n",
    "#             plotdf <- rbind(plotdf, data.frame(bin_ID = c(as.character(part[i,1])), per = c(as.numeric(as.character(part[i,j]))), cata = c(j)))\n",
    "#         }\n",
    "#     }\n",
    "    \n",
    "# }\n",
    "\n",
    "# head(plotdf, 10)"
   ]
  },
  {
   "cell_type": "code",
   "execution_count": null,
   "metadata": {},
   "outputs": [],
   "source": [
    "# plotdf$cata <- factor(plotdf$cata, levels = c(3,4,5,1), labels = c(\"high\", \"medium\", \"low\", \"gap\"))\n",
    "\n",
    "# head(plotdf,100)"
   ]
  },
  {
   "cell_type": "code",
   "execution_count": null,
   "metadata": {},
   "outputs": [],
   "source": [
    "# plotdf$bin_ID <- factor(plotdf$bin_ID, levels = unique(plotdf$bin_ID))"
   ]
  },
  {
   "cell_type": "code",
   "execution_count": null,
   "metadata": {},
   "outputs": [],
   "source": [
    "# plotdf$per <- as.numeric(as.character(plotdf$per))"
   ]
  },
  {
   "cell_type": "code",
   "execution_count": null,
   "metadata": {},
   "outputs": [],
   "source": [
    "# names(plotdf) <- c(\"bin_ID\", \"count\", \"cata\")"
   ]
  },
  {
   "cell_type": "code",
   "execution_count": null,
   "metadata": {},
   "outputs": [],
   "source": [
    "# ggplot(data = plotdf, aes(x = bin_ID, y = count, fill = factor(cata))) + coord_flip() + \n",
    "#   geom_bar(stat = \"identity\", width = 2) + ylim(0, 300) + scale_fill_brewer(palette=\"Spectral\")"
   ]
  },
  {
   "cell_type": "code",
   "execution_count": null,
   "metadata": {},
   "outputs": [],
   "source": [
    "# zoomindf <- head(plotdf, 200)\n",
    "# ggplot(data = zoomindf, aes(x = bin_ID, y = count, fill = factor(cata))) + \n",
    "#   geom_bar(stat = \"identity\") + ylim(0, 500) + scale_fill_brewer(palette=\"Spectral\")"
   ]
  }
 ],
 "metadata": {
  "kernelspec": {
   "display_name": "R",
   "language": "R",
   "name": "ir"
  },
  "language_info": {
   "codemirror_mode": "r",
   "file_extension": ".r",
   "mimetype": "text/x-r-source",
   "name": "R",
   "pygments_lexer": "r",
   "version": "3.5.1"
  }
 },
 "nbformat": 4,
 "nbformat_minor": 2
}
