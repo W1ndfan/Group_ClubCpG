{
 "cells": [
  {
   "cell_type": "code",
   "execution_count": 1,
   "metadata": {},
   "outputs": [
    {
     "data": {
      "text/html": [
       "<table>\n",
       "<thead><tr><th scope=col>X</th><th scope=col>binID</th><th scope=col>start</th><th scope=col>cata</th><th scope=col>aRead</th><th scope=col>bRead</th><th scope=col>aNorm</th><th scope=col>bNorm</th></tr></thead>\n",
       "<tbody>\n",
       "\t<tr><td>164200      </td><td>chr4_3051000</td><td>3050900     </td><td>3           </td><td> 83         </td><td>126         </td><td>51.234568   </td><td>44.366197   </td></tr>\n",
       "\t<tr><td> 74096      </td><td>chr4_3051000</td><td>3050900     </td><td>2           </td><td> 63         </td><td>140         </td><td>38.888889   </td><td>49.295775   </td></tr>\n",
       "\t<tr><td>     1      </td><td>chr4_3051000</td><td>3050900     </td><td>1           </td><td> 16         </td><td> 18         </td><td> 9.876543   </td><td> 6.338028   </td></tr>\n",
       "\t<tr><td>164201      </td><td>chr4_3051200</td><td>3051100     </td><td>3           </td><td>474         </td><td>620         </td><td>75.238095   </td><td>73.113208   </td></tr>\n",
       "\t<tr><td> 74097      </td><td>chr4_3051200</td><td>3051100     </td><td>2           </td><td>132         </td><td>174         </td><td>20.952381   </td><td>20.518868   </td></tr>\n",
       "\t<tr><td>     2      </td><td>chr4_3051200</td><td>3051100     </td><td>1           </td><td> 24         </td><td> 54         </td><td> 3.809524   </td><td> 6.367924   </td></tr>\n",
       "\t<tr><td>164202      </td><td>chr4_3051300</td><td>3051200     </td><td>3           </td><td>119         </td><td>182         </td><td>46.484375   </td><td>44.174757   </td></tr>\n",
       "\t<tr><td> 74098      </td><td>chr4_3051300</td><td>3051200     </td><td>2           </td><td>129         </td><td>198         </td><td>50.390625   </td><td>48.058252   </td></tr>\n",
       "\t<tr><td>     3      </td><td>chr4_3051300</td><td>3051200     </td><td>1           </td><td>  8         </td><td> 32         </td><td> 3.125000   </td><td> 7.766990   </td></tr>\n",
       "\t<tr><td>164203      </td><td>chr4_3051500</td><td>3051400     </td><td>3           </td><td> 47         </td><td> 66         </td><td>62.666667   </td><td>61.111111   </td></tr>\n",
       "</tbody>\n",
       "</table>\n"
      ],
      "text/latex": [
       "\\begin{tabular}{r|llllllll}\n",
       " X & binID & start & cata & aRead & bRead & aNorm & bNorm\\\\\n",
       "\\hline\n",
       "\t 164200         & chr4\\_3051000 & 3050900        & 3              &  83            & 126            & 51.234568      & 44.366197     \\\\\n",
       "\t  74096         & chr4\\_3051000 & 3050900        & 2              &  63            & 140            & 38.888889      & 49.295775     \\\\\n",
       "\t      1         & chr4\\_3051000 & 3050900        & 1              &  16            &  18            &  9.876543      &  6.338028     \\\\\n",
       "\t 164201         & chr4\\_3051200 & 3051100        & 3              & 474            & 620            & 75.238095      & 73.113208     \\\\\n",
       "\t  74097         & chr4\\_3051200 & 3051100        & 2              & 132            & 174            & 20.952381      & 20.518868     \\\\\n",
       "\t      2         & chr4\\_3051200 & 3051100        & 1              &  24            &  54            &  3.809524      &  6.367924     \\\\\n",
       "\t 164202         & chr4\\_3051300 & 3051200        & 3              & 119            & 182            & 46.484375      & 44.174757     \\\\\n",
       "\t  74098         & chr4\\_3051300 & 3051200        & 2              & 129            & 198            & 50.390625      & 48.058252     \\\\\n",
       "\t      3         & chr4\\_3051300 & 3051200        & 1              &   8            &  32            &  3.125000      &  7.766990     \\\\\n",
       "\t 164203         & chr4\\_3051500 & 3051400        & 3              &  47            &  66            & 62.666667      & 61.111111     \\\\\n",
       "\\end{tabular}\n"
      ],
      "text/markdown": [
       "\n",
       "X | binID | start | cata | aRead | bRead | aNorm | bNorm | \n",
       "|---|---|---|---|---|---|---|---|---|---|\n",
       "| 164200       | chr4_3051000 | 3050900      | 3            |  83          | 126          | 51.234568    | 44.366197    | \n",
       "|  74096       | chr4_3051000 | 3050900      | 2            |  63          | 140          | 38.888889    | 49.295775    | \n",
       "|      1       | chr4_3051000 | 3050900      | 1            |  16          |  18          |  9.876543    |  6.338028    | \n",
       "| 164201       | chr4_3051200 | 3051100      | 3            | 474          | 620          | 75.238095    | 73.113208    | \n",
       "|  74097       | chr4_3051200 | 3051100      | 2            | 132          | 174          | 20.952381    | 20.518868    | \n",
       "|      2       | chr4_3051200 | 3051100      | 1            |  24          |  54          |  3.809524    |  6.367924    | \n",
       "| 164202       | chr4_3051300 | 3051200      | 3            | 119          | 182          | 46.484375    | 44.174757    | \n",
       "|  74098       | chr4_3051300 | 3051200      | 2            | 129          | 198          | 50.390625    | 48.058252    | \n",
       "|      3       | chr4_3051300 | 3051200      | 1            |   8          |  32          |  3.125000    |  7.766990    | \n",
       "| 164203       | chr4_3051500 | 3051400      | 3            |  47          |  66          | 62.666667    | 61.111111    | \n",
       "\n",
       "\n"
      ],
      "text/plain": [
       "   X      binID        start   cata aRead bRead aNorm     bNorm    \n",
       "1  164200 chr4_3051000 3050900 3     83   126   51.234568 44.366197\n",
       "2   74096 chr4_3051000 3050900 2     63   140   38.888889 49.295775\n",
       "3       1 chr4_3051000 3050900 1     16    18    9.876543  6.338028\n",
       "4  164201 chr4_3051200 3051100 3    474   620   75.238095 73.113208\n",
       "5   74097 chr4_3051200 3051100 2    132   174   20.952381 20.518868\n",
       "6       2 chr4_3051200 3051100 1     24    54    3.809524  6.367924\n",
       "7  164202 chr4_3051300 3051200 3    119   182   46.484375 44.174757\n",
       "8   74098 chr4_3051300 3051200 2    129   198   50.390625 48.058252\n",
       "9       3 chr4_3051300 3051200 1      8    32    3.125000  7.766990\n",
       "10 164203 chr4_3051500 3051400 3     47    66   62.666667 61.111111"
      ]
     },
     "metadata": {},
     "output_type": "display_data"
    }
   ],
   "source": [
    "data <- read.csv(\"new_chr4_static_classified.csv\")\n",
    "head(data,10)\n",
    "# tail(data,10)\n",
    "# head(read.csv(\"new_chr19_static_classified.csv\"))"
   ]
  },
  {
   "cell_type": "code",
   "execution_count": 2,
   "metadata": {},
   "outputs": [
    {
     "data": {
      "text/html": [
       "<table>\n",
       "<thead><tr><th></th><th scope=col>binID</th><th scope=col>start</th><th scope=col>high</th><th scope=col>medium</th><th scope=col>low</th></tr></thead>\n",
       "<tbody>\n",
       "\t<tr><th scope=row>54420</th><td>chr4_3051000</td><td>3050900     </td><td> 83         </td><td> 63         </td><td>16          </td></tr>\n",
       "\t<tr><th scope=row>54424</th><td>chr4_3051200</td><td>3051100     </td><td>474         </td><td>132         </td><td>24          </td></tr>\n",
       "\t<tr><th scope=row>54425</th><td>chr4_3051300</td><td>3051200     </td><td>119         </td><td>129         </td><td> 8          </td></tr>\n",
       "\t<tr><th scope=row>54426</th><td>chr4_3051500</td><td>3051400     </td><td> 47         </td><td> 27         </td><td> 1          </td></tr>\n",
       "\t<tr><th scope=row>54434</th><td>chr4_3053200</td><td>3053100     </td><td>175         </td><td>120         </td><td>26          </td></tr>\n",
       "\t<tr><th scope=row>54450</th><td>chr4_3059000</td><td>3058900     </td><td>198         </td><td>146         </td><td>24          </td></tr>\n",
       "\t<tr><th scope=row>54457</th><td>chr4_3060200</td><td>3060100     </td><td> 87         </td><td> 19         </td><td> 1          </td></tr>\n",
       "\t<tr><th scope=row>54467</th><td>chr4_3062500</td><td>3062400     </td><td>215         </td><td>155         </td><td>39          </td></tr>\n",
       "\t<tr><th scope=row>54491</th><td>chr4_3066700</td><td>3066600     </td><td> 42         </td><td> 27         </td><td> 3          </td></tr>\n",
       "\t<tr><th scope=row>54494</th><td>chr4_3067300</td><td>3067200     </td><td>147         </td><td>104         </td><td>22          </td></tr>\n",
       "</tbody>\n",
       "</table>\n"
      ],
      "text/latex": [
       "\\begin{tabular}{r|lllll}\n",
       "  & binID & start & high & medium & low\\\\\n",
       "\\hline\n",
       "\t54420 & chr4\\_3051000 & 3050900        &  83            &  63            & 16            \\\\\n",
       "\t54424 & chr4\\_3051200 & 3051100        & 474            & 132            & 24            \\\\\n",
       "\t54425 & chr4\\_3051300 & 3051200        & 119            & 129            &  8            \\\\\n",
       "\t54426 & chr4\\_3051500 & 3051400        &  47            &  27            &  1            \\\\\n",
       "\t54434 & chr4\\_3053200 & 3053100        & 175            & 120            & 26            \\\\\n",
       "\t54450 & chr4\\_3059000 & 3058900        & 198            & 146            & 24            \\\\\n",
       "\t54457 & chr4\\_3060200 & 3060100        &  87            &  19            &  1            \\\\\n",
       "\t54467 & chr4\\_3062500 & 3062400        & 215            & 155            & 39            \\\\\n",
       "\t54491 & chr4\\_3066700 & 3066600        &  42            &  27            &  3            \\\\\n",
       "\t54494 & chr4\\_3067300 & 3067200        & 147            & 104            & 22            \\\\\n",
       "\\end{tabular}\n"
      ],
      "text/markdown": [
       "\n",
       "| <!--/--> | binID | start | high | medium | low | \n",
       "|---|---|---|---|---|---|---|---|---|---|\n",
       "| 54420 | chr4_3051000 | 3050900      |  83          |  63          | 16           | \n",
       "| 54424 | chr4_3051200 | 3051100      | 474          | 132          | 24           | \n",
       "| 54425 | chr4_3051300 | 3051200      | 119          | 129          |  8           | \n",
       "| 54426 | chr4_3051500 | 3051400      |  47          |  27          |  1           | \n",
       "| 54434 | chr4_3053200 | 3053100      | 175          | 120          | 26           | \n",
       "| 54450 | chr4_3059000 | 3058900      | 198          | 146          | 24           | \n",
       "| 54457 | chr4_3060200 | 3060100      |  87          |  19          |  1           | \n",
       "| 54467 | chr4_3062500 | 3062400      | 215          | 155          | 39           | \n",
       "| 54491 | chr4_3066700 | 3066600      |  42          |  27          |  3           | \n",
       "| 54494 | chr4_3067300 | 3067200      | 147          | 104          | 22           | \n",
       "\n",
       "\n"
      ],
      "text/plain": [
       "      binID        start   high medium low\n",
       "54420 chr4_3051000 3050900  83   63    16 \n",
       "54424 chr4_3051200 3051100 474  132    24 \n",
       "54425 chr4_3051300 3051200 119  129     8 \n",
       "54426 chr4_3051500 3051400  47   27     1 \n",
       "54434 chr4_3053200 3053100 175  120    26 \n",
       "54450 chr4_3059000 3058900 198  146    24 \n",
       "54457 chr4_3060200 3060100  87   19     1 \n",
       "54467 chr4_3062500 3062400 215  155    39 \n",
       "54491 chr4_3066700 3066600  42   27     3 \n",
       "54494 chr4_3067300 3067200 147  104    22 "
      ]
     },
     "metadata": {},
     "output_type": "display_data"
    }
   ],
   "source": [
    "high_sub <- data[data$cata == 3, c(\"binID\", \"start\", \"aRead\")]\n",
    "names(high_sub) <- c(\"binID\", \"start\", \"high\")\n",
    "# head(high_sub)\n",
    "medium_sub <- data[data$cata == 2, c(\"binID\", \"start\", \"aRead\")]\n",
    "names(medium_sub) <- c(\"binID\", \"start\", \"medium\")\n",
    "# head(medium_sub)\n",
    "low_sub <- data[data$cata == 1, c(\"binID\", \"start\", \"aRead\")]\n",
    "names(low_sub) <- c(\"binID\", \"start\", \"low\")\n",
    "# head(low_sub)\n",
    "\n",
    "# merge\n",
    "clusterdf <- merge(high_sub, medium_sub, all = TRUE)\n",
    "clusterdf <- merge(clusterdf, low_sub, all = TRUE)\n",
    "clusterdf <- clusterdf[order(as.numeric(clusterdf$start)),]\n",
    "clusterdf[is.na(clusterdf)] <- 0\n",
    "head(clusterdf,10)"
   ]
  },
  {
   "cell_type": "code",
   "execution_count": 3,
   "metadata": {},
   "outputs": [
    {
     "data": {
      "text/html": [
       "'Total number of Bins: 96756'"
      ],
      "text/latex": [
       "'Total number of Bins: 96756'"
      ],
      "text/markdown": [
       "'Total number of Bins: 96756'"
      ],
      "text/plain": [
       "[1] \"Total number of Bins: 96756\""
      ]
     },
     "metadata": {},
     "output_type": "display_data"
    }
   ],
   "source": [
    "paste(\"Total number of Bins:\", nrow(clusterdf))"
   ]
  },
  {
   "cell_type": "code",
   "execution_count": 4,
   "metadata": {},
   "outputs": [],
   "source": [
    "# write.csv(clusterdf, \"A_clusterdf_count.csv\")"
   ]
  },
  {
   "cell_type": "code",
   "execution_count": null,
   "metadata": {},
   "outputs": [],
   "source": [
    "dist_tolerance <- 100\n",
    "# meth_tolerance <- 40 \n",
    "# cor_2_cutoff <- 0.9\n",
    "alpha <- 0.05"
   ]
  },
  {
   "cell_type": "code",
   "execution_count": null,
   "metadata": {},
   "outputs": [],
   "source": [
    "pre.row <- clusterdf[1,]\n",
    "\n",
    "dist.fun <- function(row) {\n",
    "    dist <- as.numeric(as.character(row[\"start\"])) - as.numeric(as.character(pre.row[\"start\"]))\n",
    "    pre.row <<- row\n",
    "    return(c(row[\"binID\"], row[\"start\"], row[\"high\"], row[\"medium\"], row[\"low\"], dist = dist)) \n",
    "}\n",
    "\n",
    "dist.result <- t(apply(clusterdf, 1, dist.fun))\n",
    "dist.result <- as.data.frame(dist.result)\n",
    "head(dist.result, 30)"
   ]
  },
  {
   "cell_type": "code",
   "execution_count": null,
   "metadata": {},
   "outputs": [],
   "source": [
    "dist.result <- dist.result[as.numeric(as.character(dist.result$dist)) <= dist_tolerance, ]\n",
    "head(dist.result)\n",
    "\n",
    "dist.result <- dist.result[-1,]\n",
    "head(dist.result)\n",
    "nrow(dist.result)"
   ]
  },
  {
   "cell_type": "code",
   "execution_count": null,
   "metadata": {},
   "outputs": [],
   "source": [
    "start.pos <- dist.result$start\n",
    "complete <- lapply(start.pos, function(x) c(as.numeric(as.character(x))-100, as.numeric(as.character(x))))\n",
    "complete <- Reduce(c, complete)\n",
    "complete <- unique(complete)\n",
    "complete"
   ]
  },
  {
   "cell_type": "code",
   "execution_count": null,
   "metadata": {},
   "outputs": [],
   "source": [
    "grouping <- clusterdf[as.numeric(as.character(clusterdf$start)) %in% complete, ]\n",
    "dist.result <- as.data.frame(grouping)\n",
    "head(grouping,10)"
   ]
  },
  {
   "cell_type": "code",
   "execution_count": null,
   "metadata": {},
   "outputs": [],
   "source": [
    "pre.row <- dist.result[1,]\n",
    "\n",
    "test.fun <- function(row) {\n",
    "    if (as.numeric(as.character(row[\"start\"])) - as.numeric(as.character(pre.row[\"start\"])) > 100) {\n",
    "        pre.row <<- row\n",
    "        return(c(row[\"binID\"], start = as.character(row[\"start\"]), p.value = \"0\"))\n",
    "    } else {\n",
    "        test.matrix <- cbind(c(as.numeric(as.character(pre.row[\"high\"])),\n",
    "                               as.numeric(as.character(pre.row[\"medium\"])),\n",
    "                               as.numeric(as.character(pre.row[\"low\"]))),\n",
    "                             c(as.numeric(as.character(row[\"high\"])), \n",
    "                               as.numeric(as.character(row[\"medium\"])),\n",
    "                               as.numeric(as.character(row[\"low\"]))))\n",
    "        test.matrix <- test.matrix[rowSums(test.matrix) > 0, ]\n",
    "        value <- suppressWarnings(chisq.test(test.matrix)$p.value)\n",
    "        pre.row <<- row\n",
    "        return(c(row[\"binID\"], start = as.character(row[\"start\"]), p.value = as.character(value)))\n",
    "    }\n",
    "}\n",
    "\n",
    "test.result <- apply(dist.result[-1,], MARGIN = 1, FUN = test.fun)\n",
    "test.result <- t(test.result)\n",
    "test.result <- as.data.frame(test.result)\n",
    "head(test.result)"
   ]
  },
  {
   "cell_type": "code",
   "execution_count": null,
   "metadata": {},
   "outputs": [],
   "source": [
    "good.result <- test.result[as.numeric(as.character(test.result$p.value)) > alpha,]\n",
    "head(good.result)"
   ]
  },
  {
   "cell_type": "code",
   "execution_count": null,
   "metadata": {},
   "outputs": [],
   "source": [
    "start.pos <- good.result$start\n",
    "complete <- lapply(start.pos, function(x) c(as.numeric(as.character(x))-100, as.numeric(as.character(x))))\n",
    "complete <- Reduce(c, complete)\n",
    "complete <- unique(complete)\n",
    "complete"
   ]
  },
  {
   "cell_type": "code",
   "execution_count": null,
   "metadata": {},
   "outputs": [],
   "source": [
    "hist(complete, main = \"Location of Groups along Chr1\")"
   ]
  },
  {
   "cell_type": "code",
   "execution_count": null,
   "metadata": {},
   "outputs": [],
   "source": [
    "grouping <- clusterdf[as.numeric(as.character(clusterdf$start)) %in% complete, ]\n",
    "grouping <- as.data.frame(grouping)\n",
    "head(grouping,10)"
   ]
  },
  {
   "cell_type": "code",
   "execution_count": null,
   "metadata": {},
   "outputs": [],
   "source": [
    "paste(\"Total number of bins grouped:\", nrow(grouping))"
   ]
  },
  {
   "cell_type": "code",
   "execution_count": null,
   "metadata": {},
   "outputs": [],
   "source": [
    "library(ggplot2)"
   ]
  },
  {
   "cell_type": "code",
   "execution_count": null,
   "metadata": {},
   "outputs": [],
   "source": [
    "pre.row <- grouping[1,]\n",
    "\n",
    "part <- data.frame()\n",
    "part <- rbind(part, pre.row)\n",
    "\n",
    "counter = 1\n",
    "sep.fun <- function(row) {\n",
    "    if (as.numeric(as.character(row[\"start\"])) - as.numeric(as.character(pre.row[\"start\"])) > 100) {\n",
    "        part <<- rbind(part, data.frame(binID = c(paste(\"gap\", counter)), \n",
    "                                        start = c(0), high = c(100), medium = c(100), low = c(100)))\n",
    "        counter <<- counter + 1\n",
    "    }\n",
    "    part <<- rbind(part, row)\n",
    "    pre.row <<- row\n",
    "}\n",
    "\n",
    "invisible(apply(grouping[-1,], 1, sep.fun))"
   ]
  },
  {
   "cell_type": "code",
   "execution_count": null,
   "metadata": {},
   "outputs": [],
   "source": [
    "part[20:60,]"
   ]
  },
  {
   "cell_type": "code",
   "execution_count": null,
   "metadata": {},
   "outputs": [],
   "source": [
    "head(part)\n",
    "tail(part)"
   ]
  },
  {
   "cell_type": "code",
   "execution_count": null,
   "metadata": {},
   "outputs": [],
   "source": [
    "write.csv(part, \"chr4_A_group.csv\")"
   ]
  },
  {
   "cell_type": "code",
   "execution_count": null,
   "metadata": {},
   "outputs": [],
   "source": [
    "count = 0\n",
    "result = c()\n",
    "for (row in 1:nrow(part)) {\n",
    "    if (substr(as.character(part[row, \"binID\"]), 1, 3) != \"gap\") {\n",
    "        count = count + 1\n",
    "    } else {\n",
    "        result = c(result, count)\n",
    "        count = 0\n",
    "    }\n",
    "}\n",
    "\n",
    "result = c(result, count)\n",
    "\n",
    "paste(\"Total Number of groups:\", length(result))\n",
    "hist(result, main = \"Distribution of Bin Numbers in each group\")\n",
    "hist(result, ylim = c(0, 200), main = \"Distribution of Bin Numbers in each group\")"
   ]
  },
  {
   "cell_type": "code",
   "execution_count": null,
   "metadata": {},
   "outputs": [],
   "source": [
    "# plotdf <- data.frame(bin_ID = part[1,1], per = as.numeric(as.character(part[1,3])), cata = c(3))\n",
    "# plotdf <- rbind(plotdf, data.frame(bin_ID = part[1,1], per = as.numeric(as.character(part[1,4])), cata = c(4)))\n",
    "# plotdf <- rbind(plotdf, data.frame(bin_ID = part[1,1], per = as.numeric(as.character(part[1,5])), cata = c(5)))\n",
    "\n",
    "\n",
    "# plotdf"
   ]
  },
  {
   "cell_type": "code",
   "execution_count": null,
   "metadata": {},
   "outputs": [],
   "source": [
    "# for (i in 2:nrow(part)){\n",
    "#     if (substr(as.character(part[i,1]),1,3) == \"gap\"){\n",
    "#         plotdf <- rbind(plotdf, data.frame(bin_ID = c(as.character(part[i,1])), per = c(100), cata = c(1)))\n",
    "#     } else {\n",
    "#         for (j in 3:5){\n",
    "#             plotdf <- rbind(plotdf, data.frame(bin_ID = c(as.character(part[i,1])), per = c(as.numeric(as.character(part[i,j]))), cata = c(j)))\n",
    "#         }\n",
    "#     }\n",
    "    \n",
    "# }\n",
    "\n",
    "# head(plotdf, 10)"
   ]
  },
  {
   "cell_type": "code",
   "execution_count": null,
   "metadata": {},
   "outputs": [],
   "source": [
    "# plotdf$cata <- factor(plotdf$cata, levels = c(3,4,5,1), labels = c(\"high\", \"medium\", \"low\", \"gap\"))\n",
    "\n",
    "# head(plotdf,100)"
   ]
  },
  {
   "cell_type": "code",
   "execution_count": null,
   "metadata": {},
   "outputs": [],
   "source": [
    "# plotdf$bin_ID <- factor(plotdf$bin_ID, levels = unique(plotdf$bin_ID))"
   ]
  },
  {
   "cell_type": "code",
   "execution_count": null,
   "metadata": {},
   "outputs": [],
   "source": [
    "# plotdf$per <- as.numeric(as.character(plotdf$per))"
   ]
  },
  {
   "cell_type": "code",
   "execution_count": null,
   "metadata": {},
   "outputs": [],
   "source": [
    "# names(plotdf) <- c(\"bin_ID\", \"count\", \"cata\")"
   ]
  },
  {
   "cell_type": "code",
   "execution_count": null,
   "metadata": {},
   "outputs": [],
   "source": [
    "# ggplot(data = plotdf, aes(x = bin_ID, y = count, fill = factor(cata))) + coord_flip() + \n",
    "#   geom_bar(stat = \"identity\", width = 2) + ylim(0, 300) + scale_fill_brewer(palette=\"Spectral\")"
   ]
  },
  {
   "cell_type": "code",
   "execution_count": null,
   "metadata": {},
   "outputs": [],
   "source": [
    "# zoomindf <- head(plotdf, 200)\n",
    "# ggplot(data = zoomindf, aes(x = bin_ID, y = count, fill = factor(cata))) + \n",
    "#   geom_bar(stat = \"identity\") + ylim(0, 500) + scale_fill_brewer(palette=\"Spectral\")"
   ]
  }
 ],
 "metadata": {
  "kernelspec": {
   "display_name": "R",
   "language": "R",
   "name": "ir"
  },
  "language_info": {
   "codemirror_mode": "r",
   "file_extension": ".r",
   "mimetype": "text/x-r-source",
   "name": "R",
   "pygments_lexer": "r",
   "version": "3.5.1"
  }
 },
 "nbformat": 4,
 "nbformat_minor": 2
}
