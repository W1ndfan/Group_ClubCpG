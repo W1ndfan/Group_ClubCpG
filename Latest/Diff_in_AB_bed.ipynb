{
 "cells": [
  {
   "cell_type": "code",
   "execution_count": 14,
   "metadata": {},
   "outputs": [
    {
     "data": {
      "text/html": [
       "<table>\n",
       "<thead><tr><th scope=col>c.1..2..3.</th><th scope=col>c.4..5..6.</th></tr></thead>\n",
       "<tbody>\n",
       "\t<tr><td>1</td><td>4</td></tr>\n",
       "\t<tr><td>2</td><td>5</td></tr>\n",
       "\t<tr><td>3</td><td>6</td></tr>\n",
       "</tbody>\n",
       "</table>\n"
      ],
      "text/latex": [
       "\\begin{tabular}{r|ll}\n",
       " c.1..2..3. & c.4..5..6.\\\\\n",
       "\\hline\n",
       "\t 1 & 4\\\\\n",
       "\t 2 & 5\\\\\n",
       "\t 3 & 6\\\\\n",
       "\\end{tabular}\n"
      ],
      "text/markdown": [
       "\n",
       "c.1..2..3. | c.4..5..6. | \n",
       "|---|---|---|\n",
       "| 1 | 4 | \n",
       "| 2 | 5 | \n",
       "| 3 | 6 | \n",
       "\n",
       "\n"
      ],
      "text/plain": [
       "  c.1..2..3. c.4..5..6.\n",
       "1 1          4         \n",
       "2 2          5         \n",
       "3 3          6         "
      ]
     },
     "metadata": {},
     "output_type": "display_data"
    },
    {
     "data": {
      "text/html": [
       "<table>\n",
       "<thead><tr><th scope=col>c.1..5..3.</th><th scope=col>c.4..5..7.</th></tr></thead>\n",
       "<tbody>\n",
       "\t<tr><td>1</td><td>4</td></tr>\n",
       "\t<tr><td>5</td><td>5</td></tr>\n",
       "\t<tr><td>3</td><td>7</td></tr>\n",
       "</tbody>\n",
       "</table>\n"
      ],
      "text/latex": [
       "\\begin{tabular}{r|ll}\n",
       " c.1..5..3. & c.4..5..7.\\\\\n",
       "\\hline\n",
       "\t 1 & 4\\\\\n",
       "\t 5 & 5\\\\\n",
       "\t 3 & 7\\\\\n",
       "\\end{tabular}\n"
      ],
      "text/markdown": [
       "\n",
       "c.1..5..3. | c.4..5..7. | \n",
       "|---|---|---|\n",
       "| 1 | 4 | \n",
       "| 5 | 5 | \n",
       "| 3 | 7 | \n",
       "\n",
       "\n"
      ],
      "text/plain": [
       "  c.1..5..3. c.4..5..7.\n",
       "1 1          4         \n",
       "2 5          5         \n",
       "3 3          7         "
      ]
     },
     "metadata": {},
     "output_type": "display_data"
    },
    {
     "data": {
      "text/html": [
       "<ol class=list-inline>\n",
       "\t<li>'14'</li>\n",
       "\t<li>'25'</li>\n",
       "\t<li>'36'</li>\n",
       "</ol>\n"
      ],
      "text/latex": [
       "\\begin{enumerate*}\n",
       "\\item '14'\n",
       "\\item '25'\n",
       "\\item '36'\n",
       "\\end{enumerate*}\n"
      ],
      "text/markdown": [
       "1. '14'\n",
       "2. '25'\n",
       "3. '36'\n",
       "\n",
       "\n"
      ],
      "text/plain": [
       "[1] \"14\" \"25\" \"36\""
      ]
     },
     "metadata": {},
     "output_type": "display_data"
    },
    {
     "data": {
      "text/html": [
       "<ol class=list-inline>\n",
       "\t<li>'14'</li>\n",
       "\t<li>'55'</li>\n",
       "\t<li>'37'</li>\n",
       "</ol>\n"
      ],
      "text/latex": [
       "\\begin{enumerate*}\n",
       "\\item '14'\n",
       "\\item '55'\n",
       "\\item '37'\n",
       "\\end{enumerate*}\n"
      ],
      "text/markdown": [
       "1. '14'\n",
       "2. '55'\n",
       "3. '37'\n",
       "\n",
       "\n"
      ],
      "text/plain": [
       "[1] \"14\" \"55\" \"37\""
      ]
     },
     "metadata": {},
     "output_type": "display_data"
    },
    {
     "data": {
      "text/html": [
       "<table>\n",
       "<thead><tr><th></th><th scope=col>c.1..2..3.</th><th scope=col>c.4..5..6.</th></tr></thead>\n",
       "<tbody>\n",
       "\t<tr><th scope=row>2</th><td>2</td><td>5</td></tr>\n",
       "\t<tr><th scope=row>3</th><td>3</td><td>6</td></tr>\n",
       "</tbody>\n",
       "</table>\n"
      ],
      "text/latex": [
       "\\begin{tabular}{r|ll}\n",
       "  & c.1..2..3. & c.4..5..6.\\\\\n",
       "\\hline\n",
       "\t2 & 2 & 5\\\\\n",
       "\t3 & 3 & 6\\\\\n",
       "\\end{tabular}\n"
      ],
      "text/markdown": [
       "\n",
       "| <!--/--> | c.1..2..3. | c.4..5..6. | \n",
       "|---|---|\n",
       "| 2 | 2 | 5 | \n",
       "| 3 | 3 | 6 | \n",
       "\n",
       "\n"
      ],
      "text/plain": [
       "  c.1..2..3. c.4..5..6.\n",
       "2 2          5         \n",
       "3 3          6         "
      ]
     },
     "metadata": {},
     "output_type": "display_data"
    }
   ],
   "source": [
    "# Test\n",
    "a = data.frame(c(1,2,3), c(4,5,6))\n",
    "b = data.frame(c(1,5,3), c(4,5,7))\n",
    "a\n",
    "b\n",
    "paste0(a[,1], a[,2])\n",
    "paste0(b[,1], b[,2])\n",
    "diff = is.na(match(paste0(a[,1], a[,2]) , paste0(b[,1], b[,2])))\n",
    "a[diff,]"
   ]
  },
  {
   "cell_type": "code",
   "execution_count": 11,
   "metadata": {},
   "outputs": [
    {
     "data": {
      "text/html": [
       "<table>\n",
       "<thead><tr><th scope=col>V1</th><th scope=col>V2</th><th scope=col>V3</th><th scope=col>V4</th></tr></thead>\n",
       "<tbody>\n",
       "\t<tr><td>chr1        </td><td>3037900     </td><td>3038099     </td><td>chr1_3038000</td></tr>\n",
       "\t<tr><td>chr1        </td><td>3053400     </td><td>3053599     </td><td>chr1_3053500</td></tr>\n",
       "\t<tr><td>chr1        </td><td>3059300     </td><td>3059499     </td><td>chr1_3059400</td></tr>\n",
       "\t<tr><td>chr1        </td><td>3147500     </td><td>3147699     </td><td>chr1_3147600</td></tr>\n",
       "\t<tr><td>chr1        </td><td>3240600     </td><td>3240799     </td><td>chr1_3240700</td></tr>\n",
       "\t<tr><td>chr1        </td><td>3274400     </td><td>3274599     </td><td>chr1_3274500</td></tr>\n",
       "</tbody>\n",
       "</table>\n"
      ],
      "text/latex": [
       "\\begin{tabular}{r|llll}\n",
       " V1 & V2 & V3 & V4\\\\\n",
       "\\hline\n",
       "\t chr1           & 3037900        & 3038099        & chr1\\_3038000\\\\\n",
       "\t chr1           & 3053400        & 3053599        & chr1\\_3053500\\\\\n",
       "\t chr1           & 3059300        & 3059499        & chr1\\_3059400\\\\\n",
       "\t chr1           & 3147500        & 3147699        & chr1\\_3147600\\\\\n",
       "\t chr1           & 3240600        & 3240799        & chr1\\_3240700\\\\\n",
       "\t chr1           & 3274400        & 3274599        & chr1\\_3274500\\\\\n",
       "\\end{tabular}\n"
      ],
      "text/markdown": [
       "\n",
       "V1 | V2 | V3 | V4 | \n",
       "|---|---|---|---|---|---|\n",
       "| chr1         | 3037900      | 3038099      | chr1_3038000 | \n",
       "| chr1         | 3053400      | 3053599      | chr1_3053500 | \n",
       "| chr1         | 3059300      | 3059499      | chr1_3059400 | \n",
       "| chr1         | 3147500      | 3147699      | chr1_3147600 | \n",
       "| chr1         | 3240600      | 3240799      | chr1_3240700 | \n",
       "| chr1         | 3274400      | 3274599      | chr1_3274500 | \n",
       "\n",
       "\n"
      ],
      "text/plain": [
       "  V1   V2      V3      V4          \n",
       "1 chr1 3037900 3038099 chr1_3038000\n",
       "2 chr1 3053400 3053599 chr1_3053500\n",
       "3 chr1 3059300 3059499 chr1_3059400\n",
       "4 chr1 3147500 3147699 chr1_3147600\n",
       "5 chr1 3240600 3240799 chr1_3240700\n",
       "6 chr1 3274400 3274599 chr1_3274500"
      ]
     },
     "metadata": {},
     "output_type": "display_data"
    }
   ],
   "source": [
    "a.go = read.table(file = \"A_GO.bed\", sep = \"\\t\")\n",
    "head(a.go)"
   ]
  },
  {
   "cell_type": "code",
   "execution_count": 12,
   "metadata": {},
   "outputs": [
    {
     "data": {
      "text/html": [
       "<table>\n",
       "<thead><tr><th scope=col>V1</th><th scope=col>V2</th><th scope=col>V3</th><th scope=col>V4</th></tr></thead>\n",
       "<tbody>\n",
       "\t<tr><td>chr1        </td><td>3037900     </td><td>3038099     </td><td>chr1_3038000</td></tr>\n",
       "\t<tr><td>chr1        </td><td>3053400     </td><td>3053599     </td><td>chr1_3053500</td></tr>\n",
       "\t<tr><td>chr1        </td><td>3147500     </td><td>3147699     </td><td>chr1_3147600</td></tr>\n",
       "\t<tr><td>chr1        </td><td>3151500     </td><td>3151699     </td><td>chr1_3151600</td></tr>\n",
       "\t<tr><td>chr1        </td><td>3154500     </td><td>3154699     </td><td>chr1_3154600</td></tr>\n",
       "\t<tr><td>chr1        </td><td>3274400     </td><td>3274699     </td><td>chr1_3274500</td></tr>\n",
       "</tbody>\n",
       "</table>\n"
      ],
      "text/latex": [
       "\\begin{tabular}{r|llll}\n",
       " V1 & V2 & V3 & V4\\\\\n",
       "\\hline\n",
       "\t chr1           & 3037900        & 3038099        & chr1\\_3038000\\\\\n",
       "\t chr1           & 3053400        & 3053599        & chr1\\_3053500\\\\\n",
       "\t chr1           & 3147500        & 3147699        & chr1\\_3147600\\\\\n",
       "\t chr1           & 3151500        & 3151699        & chr1\\_3151600\\\\\n",
       "\t chr1           & 3154500        & 3154699        & chr1\\_3154600\\\\\n",
       "\t chr1           & 3274400        & 3274699        & chr1\\_3274500\\\\\n",
       "\\end{tabular}\n"
      ],
      "text/markdown": [
       "\n",
       "V1 | V2 | V3 | V4 | \n",
       "|---|---|---|---|---|---|\n",
       "| chr1         | 3037900      | 3038099      | chr1_3038000 | \n",
       "| chr1         | 3053400      | 3053599      | chr1_3053500 | \n",
       "| chr1         | 3147500      | 3147699      | chr1_3147600 | \n",
       "| chr1         | 3151500      | 3151699      | chr1_3151600 | \n",
       "| chr1         | 3154500      | 3154699      | chr1_3154600 | \n",
       "| chr1         | 3274400      | 3274699      | chr1_3274500 | \n",
       "\n",
       "\n"
      ],
      "text/plain": [
       "  V1   V2      V3      V4          \n",
       "1 chr1 3037900 3038099 chr1_3038000\n",
       "2 chr1 3053400 3053599 chr1_3053500\n",
       "3 chr1 3147500 3147699 chr1_3147600\n",
       "4 chr1 3151500 3151699 chr1_3151600\n",
       "5 chr1 3154500 3154699 chr1_3154600\n",
       "6 chr1 3274400 3274699 chr1_3274500"
      ]
     },
     "metadata": {},
     "output_type": "display_data"
    }
   ],
   "source": [
    "b.go = read.table(file = \"B_GO.bed\", sep = \"\\t\")\n",
    "head(b.go)"
   ]
  },
  {
   "cell_type": "code",
   "execution_count": 20,
   "metadata": {},
   "outputs": [
    {
     "data": {
      "text/html": [
       "<table>\n",
       "<thead><tr><th></th><th scope=col>V1</th><th scope=col>V2</th><th scope=col>V3</th><th scope=col>V4</th></tr></thead>\n",
       "<tbody>\n",
       "\t<tr><th scope=row>3</th><td>chr1        </td><td>3059300     </td><td>3059499     </td><td>chr1_3059400</td></tr>\n",
       "\t<tr><th scope=row>5</th><td>chr1        </td><td>3240600     </td><td>3240799     </td><td>chr1_3240700</td></tr>\n",
       "\t<tr><th scope=row>13</th><td>chr1        </td><td>3573100     </td><td>3573299     </td><td>chr1_3573200</td></tr>\n",
       "\t<tr><th scope=row>16</th><td>chr1        </td><td>3979100     </td><td>3979299     </td><td>chr1_3979200</td></tr>\n",
       "\t<tr><th scope=row>17</th><td>chr1        </td><td>3986200     </td><td>3986399     </td><td>chr1_3986300</td></tr>\n",
       "\t<tr><th scope=row>20</th><td>chr1        </td><td>4188100     </td><td>4188299     </td><td>chr1_4188200</td></tr>\n",
       "</tbody>\n",
       "</table>\n"
      ],
      "text/latex": [
       "\\begin{tabular}{r|llll}\n",
       "  & V1 & V2 & V3 & V4\\\\\n",
       "\\hline\n",
       "\t3 & chr1           & 3059300        & 3059499        & chr1\\_3059400\\\\\n",
       "\t5 & chr1           & 3240600        & 3240799        & chr1\\_3240700\\\\\n",
       "\t13 & chr1           & 3573100        & 3573299        & chr1\\_3573200\\\\\n",
       "\t16 & chr1           & 3979100        & 3979299        & chr1\\_3979200\\\\\n",
       "\t17 & chr1           & 3986200        & 3986399        & chr1\\_3986300\\\\\n",
       "\t20 & chr1           & 4188100        & 4188299        & chr1\\_4188200\\\\\n",
       "\\end{tabular}\n"
      ],
      "text/markdown": [
       "\n",
       "| <!--/--> | V1 | V2 | V3 | V4 | \n",
       "|---|---|---|---|---|---|\n",
       "| 3 | chr1         | 3059300      | 3059499      | chr1_3059400 | \n",
       "| 5 | chr1         | 3240600      | 3240799      | chr1_3240700 | \n",
       "| 13 | chr1         | 3573100      | 3573299      | chr1_3573200 | \n",
       "| 16 | chr1         | 3979100      | 3979299      | chr1_3979200 | \n",
       "| 17 | chr1         | 3986200      | 3986399      | chr1_3986300 | \n",
       "| 20 | chr1         | 4188100      | 4188299      | chr1_4188200 | \n",
       "\n",
       "\n"
      ],
      "text/plain": [
       "   V1   V2      V3      V4          \n",
       "3  chr1 3059300 3059499 chr1_3059400\n",
       "5  chr1 3240600 3240799 chr1_3240700\n",
       "13 chr1 3573100 3573299 chr1_3573200\n",
       "16 chr1 3979100 3979299 chr1_3979200\n",
       "17 chr1 3986200 3986399 chr1_3986300\n",
       "20 chr1 4188100 4188299 chr1_4188200"
      ]
     },
     "metadata": {},
     "output_type": "display_data"
    },
    {
     "data": {
      "text/html": [
       "<table>\n",
       "<thead><tr><th></th><th scope=col>V1</th><th scope=col>V2</th><th scope=col>V3</th><th scope=col>V4</th></tr></thead>\n",
       "<tbody>\n",
       "\t<tr><th scope=row>83544</th><td>chrY         </td><td>88714000     </td><td>88714199     </td><td>chrY_88714100</td></tr>\n",
       "\t<tr><th scope=row>83548</th><td>chrY         </td><td>89506400     </td><td>89506599     </td><td>chrY_89506500</td></tr>\n",
       "\t<tr><th scope=row>83554</th><td>chrY         </td><td>90176100     </td><td>90176299     </td><td>chrY_90176200</td></tr>\n",
       "\t<tr><th scope=row>83555</th><td>chrY         </td><td>90192400     </td><td>90192599     </td><td>chrY_90192500</td></tr>\n",
       "\t<tr><th scope=row>83561</th><td>chrY         </td><td>90718600     </td><td>90718799     </td><td>chrY_90718700</td></tr>\n",
       "\t<tr><th scope=row>83562</th><td>chrY         </td><td>90719500     </td><td>90719699     </td><td>chrY_90719600</td></tr>\n",
       "</tbody>\n",
       "</table>\n"
      ],
      "text/latex": [
       "\\begin{tabular}{r|llll}\n",
       "  & V1 & V2 & V3 & V4\\\\\n",
       "\\hline\n",
       "\t83544 & chrY            & 88714000        & 88714199        & chrY\\_88714100\\\\\n",
       "\t83548 & chrY            & 89506400        & 89506599        & chrY\\_89506500\\\\\n",
       "\t83554 & chrY            & 90176100        & 90176299        & chrY\\_90176200\\\\\n",
       "\t83555 & chrY            & 90192400        & 90192599        & chrY\\_90192500\\\\\n",
       "\t83561 & chrY            & 90718600        & 90718799        & chrY\\_90718700\\\\\n",
       "\t83562 & chrY            & 90719500        & 90719699        & chrY\\_90719600\\\\\n",
       "\\end{tabular}\n"
      ],
      "text/markdown": [
       "\n",
       "| <!--/--> | V1 | V2 | V3 | V4 | \n",
       "|---|---|---|---|---|---|\n",
       "| 83544 | chrY          | 88714000      | 88714199      | chrY_88714100 | \n",
       "| 83548 | chrY          | 89506400      | 89506599      | chrY_89506500 | \n",
       "| 83554 | chrY          | 90176100      | 90176299      | chrY_90176200 | \n",
       "| 83555 | chrY          | 90192400      | 90192599      | chrY_90192500 | \n",
       "| 83561 | chrY          | 90718600      | 90718799      | chrY_90718700 | \n",
       "| 83562 | chrY          | 90719500      | 90719699      | chrY_90719600 | \n",
       "\n",
       "\n"
      ],
      "text/plain": [
       "      V1   V2       V3       V4           \n",
       "83544 chrY 88714000 88714199 chrY_88714100\n",
       "83548 chrY 89506400 89506599 chrY_89506500\n",
       "83554 chrY 90176100 90176299 chrY_90176200\n",
       "83555 chrY 90192400 90192599 chrY_90192500\n",
       "83561 chrY 90718600 90718799 chrY_90718700\n",
       "83562 chrY 90719500 90719699 chrY_90719600"
      ]
     },
     "metadata": {},
     "output_type": "display_data"
    }
   ],
   "source": [
    "unique.a = is.na(match(a.go[,4], b.go[,4]))\n",
    "unique.a.go = a.go[unique.a,]\n",
    "head(unique.a.go)\n",
    "tail(unique.a.go)"
   ]
  },
  {
   "cell_type": "code",
   "execution_count": 21,
   "metadata": {},
   "outputs": [
    {
     "data": {
      "text/html": [
       "83571"
      ],
      "text/latex": [
       "83571"
      ],
      "text/markdown": [
       "83571"
      ],
      "text/plain": [
       "[1] 83571"
      ]
     },
     "metadata": {},
     "output_type": "display_data"
    },
    {
     "data": {
      "text/html": [
       "36727"
      ],
      "text/latex": [
       "36727"
      ],
      "text/markdown": [
       "36727"
      ],
      "text/plain": [
       "[1] 36727"
      ]
     },
     "metadata": {},
     "output_type": "display_data"
    }
   ],
   "source": [
    "nrow(a.go)\n",
    "nrow(unique.a.go)"
   ]
  },
  {
   "cell_type": "code",
   "execution_count": 22,
   "metadata": {},
   "outputs": [],
   "source": [
    "write.table(unique.a.go, file = \"UNIQUE_A_GO.bed\", quote = FALSE, sep = \"\\t\", col.names = FALSE, row.names = FALSE)"
   ]
  },
  {
   "cell_type": "code",
   "execution_count": 23,
   "metadata": {},
   "outputs": [
    {
     "data": {
      "text/html": [
       "<table>\n",
       "<thead><tr><th></th><th scope=col>V1</th><th scope=col>V2</th><th scope=col>V3</th><th scope=col>V4</th></tr></thead>\n",
       "<tbody>\n",
       "\t<tr><th scope=row>4</th><td>chr1        </td><td>3151500     </td><td>3151699     </td><td>chr1_3151600</td></tr>\n",
       "\t<tr><th scope=row>5</th><td>chr1        </td><td>3154500     </td><td>3154699     </td><td>chr1_3154600</td></tr>\n",
       "\t<tr><th scope=row>10</th><td>chr1        </td><td>3311300     </td><td>3311499     </td><td>chr1_3311400</td></tr>\n",
       "\t<tr><th scope=row>13</th><td>chr1        </td><td>3532200     </td><td>3532399     </td><td>chr1_3532300</td></tr>\n",
       "\t<tr><th scope=row>22</th><td>chr1        </td><td>4496700     </td><td>4496899     </td><td>chr1_4496800</td></tr>\n",
       "\t<tr><th scope=row>38</th><td>chr1        </td><td>5019900     </td><td>5020099     </td><td>chr1_5020000</td></tr>\n",
       "</tbody>\n",
       "</table>\n"
      ],
      "text/latex": [
       "\\begin{tabular}{r|llll}\n",
       "  & V1 & V2 & V3 & V4\\\\\n",
       "\\hline\n",
       "\t4 & chr1           & 3151500        & 3151699        & chr1\\_3151600\\\\\n",
       "\t5 & chr1           & 3154500        & 3154699        & chr1\\_3154600\\\\\n",
       "\t10 & chr1           & 3311300        & 3311499        & chr1\\_3311400\\\\\n",
       "\t13 & chr1           & 3532200        & 3532399        & chr1\\_3532300\\\\\n",
       "\t22 & chr1           & 4496700        & 4496899        & chr1\\_4496800\\\\\n",
       "\t38 & chr1           & 5019900        & 5020099        & chr1\\_5020000\\\\\n",
       "\\end{tabular}\n"
      ],
      "text/markdown": [
       "\n",
       "| <!--/--> | V1 | V2 | V3 | V4 | \n",
       "|---|---|---|---|---|---|\n",
       "| 4 | chr1         | 3151500      | 3151699      | chr1_3151600 | \n",
       "| 5 | chr1         | 3154500      | 3154699      | chr1_3154600 | \n",
       "| 10 | chr1         | 3311300      | 3311499      | chr1_3311400 | \n",
       "| 13 | chr1         | 3532200      | 3532399      | chr1_3532300 | \n",
       "| 22 | chr1         | 4496700      | 4496899      | chr1_4496800 | \n",
       "| 38 | chr1         | 5019900      | 5020099      | chr1_5020000 | \n",
       "\n",
       "\n"
      ],
      "text/plain": [
       "   V1   V2      V3      V4          \n",
       "4  chr1 3151500 3151699 chr1_3151600\n",
       "5  chr1 3154500 3154699 chr1_3154600\n",
       "10 chr1 3311300 3311499 chr1_3311400\n",
       "13 chr1 3532200 3532399 chr1_3532300\n",
       "22 chr1 4496700 4496899 chr1_4496800\n",
       "38 chr1 5019900 5020099 chr1_5020000"
      ]
     },
     "metadata": {},
     "output_type": "display_data"
    },
    {
     "data": {
      "text/html": [
       "<table>\n",
       "<thead><tr><th></th><th scope=col>V1</th><th scope=col>V2</th><th scope=col>V3</th><th scope=col>V4</th></tr></thead>\n",
       "<tbody>\n",
       "\t<tr><th scope=row>64872</th><td>chrY         </td><td>88273700     </td><td>88273899     </td><td>chrY_88273800</td></tr>\n",
       "\t<tr><th scope=row>64873</th><td>chrY         </td><td>88276000     </td><td>88276199     </td><td>chrY_88276100</td></tr>\n",
       "\t<tr><th scope=row>64880</th><td>chrY         </td><td>89512100     </td><td>89512299     </td><td>chrY_89512200</td></tr>\n",
       "\t<tr><th scope=row>64885</th><td>chrY         </td><td>90098900     </td><td>90099099     </td><td>chrY_90099000</td></tr>\n",
       "\t<tr><th scope=row>64892</th><td>chrY         </td><td>90721200     </td><td>90721399     </td><td>chrY_90721300</td></tr>\n",
       "\t<tr><th scope=row>64896</th><td>chrY         </td><td>90760400     </td><td>90760599     </td><td>chrY_90760500</td></tr>\n",
       "</tbody>\n",
       "</table>\n"
      ],
      "text/latex": [
       "\\begin{tabular}{r|llll}\n",
       "  & V1 & V2 & V3 & V4\\\\\n",
       "\\hline\n",
       "\t64872 & chrY            & 88273700        & 88273899        & chrY\\_88273800\\\\\n",
       "\t64873 & chrY            & 88276000        & 88276199        & chrY\\_88276100\\\\\n",
       "\t64880 & chrY            & 89512100        & 89512299        & chrY\\_89512200\\\\\n",
       "\t64885 & chrY            & 90098900        & 90099099        & chrY\\_90099000\\\\\n",
       "\t64892 & chrY            & 90721200        & 90721399        & chrY\\_90721300\\\\\n",
       "\t64896 & chrY            & 90760400        & 90760599        & chrY\\_90760500\\\\\n",
       "\\end{tabular}\n"
      ],
      "text/markdown": [
       "\n",
       "| <!--/--> | V1 | V2 | V3 | V4 | \n",
       "|---|---|---|---|---|---|\n",
       "| 64872 | chrY          | 88273700      | 88273899      | chrY_88273800 | \n",
       "| 64873 | chrY          | 88276000      | 88276199      | chrY_88276100 | \n",
       "| 64880 | chrY          | 89512100      | 89512299      | chrY_89512200 | \n",
       "| 64885 | chrY          | 90098900      | 90099099      | chrY_90099000 | \n",
       "| 64892 | chrY          | 90721200      | 90721399      | chrY_90721300 | \n",
       "| 64896 | chrY          | 90760400      | 90760599      | chrY_90760500 | \n",
       "\n",
       "\n"
      ],
      "text/plain": [
       "      V1   V2       V3       V4           \n",
       "64872 chrY 88273700 88273899 chrY_88273800\n",
       "64873 chrY 88276000 88276199 chrY_88276100\n",
       "64880 chrY 89512100 89512299 chrY_89512200\n",
       "64885 chrY 90098900 90099099 chrY_90099000\n",
       "64892 chrY 90721200 90721399 chrY_90721300\n",
       "64896 chrY 90760400 90760599 chrY_90760500"
      ]
     },
     "metadata": {},
     "output_type": "display_data"
    }
   ],
   "source": [
    "unique.b = is.na(match(b.go[,4], a.go[,4]))\n",
    "unique.b.go = b.go[unique.b,]\n",
    "head(unique.b.go)\n",
    "tail(unique.b.go)"
   ]
  },
  {
   "cell_type": "code",
   "execution_count": 24,
   "metadata": {},
   "outputs": [
    {
     "data": {
      "text/html": [
       "64902"
      ],
      "text/latex": [
       "64902"
      ],
      "text/markdown": [
       "64902"
      ],
      "text/plain": [
       "[1] 64902"
      ]
     },
     "metadata": {},
     "output_type": "display_data"
    },
    {
     "data": {
      "text/html": [
       "18058"
      ],
      "text/latex": [
       "18058"
      ],
      "text/markdown": [
       "18058"
      ],
      "text/plain": [
       "[1] 18058"
      ]
     },
     "metadata": {},
     "output_type": "display_data"
    }
   ],
   "source": [
    "nrow(b.go)\n",
    "nrow(unique.b.go)"
   ]
  },
  {
   "cell_type": "code",
   "execution_count": 25,
   "metadata": {},
   "outputs": [],
   "source": [
    "write.table(unique.b.go, file = \"UNIQUE_B_GO.bed\", quote = FALSE, sep = \"\\t\", col.names = FALSE, row.names = FALSE)"
   ]
  }
 ],
 "metadata": {
  "kernelspec": {
   "display_name": "R",
   "language": "R",
   "name": "ir"
  },
  "language_info": {
   "codemirror_mode": "r",
   "file_extension": ".r",
   "mimetype": "text/x-r-source",
   "name": "R",
   "pygments_lexer": "r",
   "version": "3.5.1"
  }
 },
 "nbformat": 4,
 "nbformat_minor": 2
}
