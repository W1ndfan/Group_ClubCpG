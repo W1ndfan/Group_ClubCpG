{
 "cells": [
  {
   "cell_type": "code",
   "execution_count": 1,
   "metadata": {},
   "outputs": [
    {
     "data": {
      "text/html": [
       "<table>\n",
       "<thead><tr><th scope=col>bin_id</th><th scope=col>chr</th><th scope=col>start</th><th scope=col>end</th><th scope=col>input_label</th><th scope=col>cpg_number</th><th scope=col>class_label</th><th scope=col>methylation</th><th scope=col>read_number</th><th scope=col>cpg_pattern</th><th scope=col>A</th><th scope=col>B</th><th scope=col>A_norm</th><th scope=col>B_norm</th><th scope=col>delta</th><th scope=col>A_sum</th><th scope=col>B_sum</th><th scope=col>p_val</th><th scope=col>p_adj</th></tr></thead>\n",
       "<tbody>\n",
       "\t<tr><td>chr12_3002000</td><td>chr12        </td><td>3001900      </td><td>3002000      </td><td>AB           </td><td>3            </td><td>0            </td><td>100.00000    </td><td>341          </td><td>1;1;1        </td><td>131          </td><td>210          </td><td>76.1627907   </td><td>73.170732    </td><td>  2.9920590  </td><td>172          </td><td>287          </td><td>0.8250899    </td><td>1            </td></tr>\n",
       "\t<tr><td>chr12_3002000</td><td>chr12        </td><td>3001900      </td><td>3002000      </td><td>AB           </td><td>3            </td><td>1            </td><td> 66.66667    </td><td> 22          </td><td>1;0;1        </td><td> 10          </td><td> 12          </td><td> 5.8139535   </td><td> 4.181185    </td><td>  1.6327688  </td><td>172          </td><td>287          </td><td>0.5024110    </td><td>1            </td></tr>\n",
       "\t<tr><td>chr12_3002000</td><td>chr12        </td><td>3001900      </td><td>3002000      </td><td>AB           </td><td>3            </td><td>2            </td><td> 66.66667    </td><td> 17          </td><td>0;1;1        </td><td>  7          </td><td> 10          </td><td> 4.0697674   </td><td> 3.484321    </td><td>  0.5854469  </td><td>172          </td><td>287          </td><td>0.8013526    </td><td>1            </td></tr>\n",
       "\t<tr><td>chr12_3002000</td><td>chr12        </td><td>3001900      </td><td>3002000      </td><td>AB           </td><td>3            </td><td>3            </td><td> 66.66667    </td><td> 48          </td><td>1;1;0        </td><td> 17          </td><td> 31          </td><td> 9.8837209   </td><td>10.801394    </td><td> -0.9176728  </td><td>172          </td><td>287          </td><td>0.8757613    </td><td>1            </td></tr>\n",
       "\t<tr><td>chr12_3002000</td><td>chr12        </td><td>3001900      </td><td>3002000      </td><td>AB           </td><td>3            </td><td>4            </td><td> 33.33333    </td><td> 19          </td><td>1;0;0        </td><td>  4          </td><td> 15          </td><td> 2.3255814   </td><td> 5.226481    </td><td> -2.9008994  </td><td>172          </td><td>287          </td><td>0.2237443    </td><td>1            </td></tr>\n",
       "\t<tr><td>chr12_3002000</td><td>chr12        </td><td>3001900      </td><td>3002000      </td><td>AB           </td><td>3            </td><td>5            </td><td> 33.33333    </td><td>  7          </td><td>0;1;0        </td><td>  2          </td><td>  5          </td><td> 1.1627907   </td><td> 1.742160    </td><td> -0.5793696  </td><td>172          </td><td>287          </td><td>1.0000000    </td><td>1            </td></tr>\n",
       "\t<tr><td>chr12_3002000</td><td>chr12        </td><td>3001900      </td><td>3002000      </td><td>AB           </td><td>3            </td><td>6            </td><td> 33.33333    </td><td>  5          </td><td>0;0;1        </td><td>  1          </td><td>  4          </td><td> 0.5813953   </td><td> 1.393728    </td><td> -0.8123329  </td><td>172          </td><td>287          </td><td>0.6552028    </td><td>1            </td></tr>\n",
       "\t<tr><td>chr12_3002600</td><td>chr12        </td><td>3002500      </td><td>3002600      </td><td>AB           </td><td>4            </td><td>0            </td><td>100.00000    </td><td> 13          </td><td>1;1;1;1      </td><td>  7          </td><td>  6          </td><td>58.3333333   </td><td>37.500000    </td><td> 20.8333333  </td><td> 12          </td><td> 16          </td><td>0.7373905    </td><td>1            </td></tr>\n",
       "\t<tr><td>chr12_3002600</td><td>chr12        </td><td>3002500      </td><td>3002600      </td><td>AB           </td><td>4            </td><td>2            </td><td> 75.00000    </td><td> 10          </td><td>1;1;1;0      </td><td>  3          </td><td>  7          </td><td>25.0000000   </td><td>43.750000    </td><td>-18.7500000  </td><td> 12          </td><td> 16          </td><td>0.7085195    </td><td>1            </td></tr>\n",
       "\t<tr><td>chr12_3002600</td><td>chr12        </td><td>3002500      </td><td>3002600      </td><td>AB           </td><td>4            </td><td>3            </td><td> 75.00000    </td><td>  5          </td><td>0;1;1;1      </td><td>  2          </td><td>  3          </td><td>16.6666667   </td><td>18.750000    </td><td> -2.0833333  </td><td> 12          </td><td> 16          </td><td>1.0000000    </td><td>1            </td></tr>\n",
       "</tbody>\n",
       "</table>\n"
      ],
      "text/latex": [
       "\\begin{tabular}{r|lllllllllllllllllll}\n",
       " bin\\_id & chr & start & end & input\\_label & cpg\\_number & class\\_label & methylation & read\\_number & cpg\\_pattern & A & B & A\\_norm & B\\_norm & delta & A\\_sum & B\\_sum & p\\_val & p\\_adj\\\\\n",
       "\\hline\n",
       "\t chr12\\_3002000 & chr12           & 3001900         & 3002000         & AB              & 3               & 0               & 100.00000       & 341             & 1;1;1           & 131             & 210             & 76.1627907      & 73.170732       &   2.9920590     & 172             & 287             & 0.8250899       & 1              \\\\\n",
       "\t chr12\\_3002000 & chr12           & 3001900         & 3002000         & AB              & 3               & 1               &  66.66667       &  22             & 1;0;1           &  10             &  12             &  5.8139535      &  4.181185       &   1.6327688     & 172             & 287             & 0.5024110       & 1              \\\\\n",
       "\t chr12\\_3002000 & chr12           & 3001900         & 3002000         & AB              & 3               & 2               &  66.66667       &  17             & 0;1;1           &   7             &  10             &  4.0697674      &  3.484321       &   0.5854469     & 172             & 287             & 0.8013526       & 1              \\\\\n",
       "\t chr12\\_3002000 & chr12           & 3001900         & 3002000         & AB              & 3               & 3               &  66.66667       &  48             & 1;1;0           &  17             &  31             &  9.8837209      & 10.801394       &  -0.9176728     & 172             & 287             & 0.8757613       & 1              \\\\\n",
       "\t chr12\\_3002000 & chr12           & 3001900         & 3002000         & AB              & 3               & 4               &  33.33333       &  19             & 1;0;0           &   4             &  15             &  2.3255814      &  5.226481       &  -2.9008994     & 172             & 287             & 0.2237443       & 1              \\\\\n",
       "\t chr12\\_3002000 & chr12           & 3001900         & 3002000         & AB              & 3               & 5               &  33.33333       &   7             & 0;1;0           &   2             &   5             &  1.1627907      &  1.742160       &  -0.5793696     & 172             & 287             & 1.0000000       & 1              \\\\\n",
       "\t chr12\\_3002000 & chr12           & 3001900         & 3002000         & AB              & 3               & 6               &  33.33333       &   5             & 0;0;1           &   1             &   4             &  0.5813953      &  1.393728       &  -0.8123329     & 172             & 287             & 0.6552028       & 1              \\\\\n",
       "\t chr12\\_3002600 & chr12           & 3002500         & 3002600         & AB              & 4               & 0               & 100.00000       &  13             & 1;1;1;1         &   7             &   6             & 58.3333333      & 37.500000       &  20.8333333     &  12             &  16             & 0.7373905       & 1              \\\\\n",
       "\t chr12\\_3002600 & chr12           & 3002500         & 3002600         & AB              & 4               & 2               &  75.00000       &  10             & 1;1;1;0         &   3             &   7             & 25.0000000      & 43.750000       & -18.7500000     &  12             &  16             & 0.7085195       & 1              \\\\\n",
       "\t chr12\\_3002600 & chr12           & 3002500         & 3002600         & AB              & 4               & 3               &  75.00000       &   5             & 0;1;1;1         &   2             &   3             & 16.6666667      & 18.750000       &  -2.0833333     &  12             &  16             & 1.0000000       & 1              \\\\\n",
       "\\end{tabular}\n"
      ],
      "text/markdown": [
       "\n",
       "bin_id | chr | start | end | input_label | cpg_number | class_label | methylation | read_number | cpg_pattern | A | B | A_norm | B_norm | delta | A_sum | B_sum | p_val | p_adj | \n",
       "|---|---|---|---|---|---|---|---|---|---|\n",
       "| chr12_3002000 | chr12         | 3001900       | 3002000       | AB            | 3             | 0             | 100.00000     | 341           | 1;1;1         | 131           | 210           | 76.1627907    | 73.170732     |   2.9920590   | 172           | 287           | 0.8250899     | 1             | \n",
       "| chr12_3002000 | chr12         | 3001900       | 3002000       | AB            | 3             | 1             |  66.66667     |  22           | 1;0;1         |  10           |  12           |  5.8139535    |  4.181185     |   1.6327688   | 172           | 287           | 0.5024110     | 1             | \n",
       "| chr12_3002000 | chr12         | 3001900       | 3002000       | AB            | 3             | 2             |  66.66667     |  17           | 0;1;1         |   7           |  10           |  4.0697674    |  3.484321     |   0.5854469   | 172           | 287           | 0.8013526     | 1             | \n",
       "| chr12_3002000 | chr12         | 3001900       | 3002000       | AB            | 3             | 3             |  66.66667     |  48           | 1;1;0         |  17           |  31           |  9.8837209    | 10.801394     |  -0.9176728   | 172           | 287           | 0.8757613     | 1             | \n",
       "| chr12_3002000 | chr12         | 3001900       | 3002000       | AB            | 3             | 4             |  33.33333     |  19           | 1;0;0         |   4           |  15           |  2.3255814    |  5.226481     |  -2.9008994   | 172           | 287           | 0.2237443     | 1             | \n",
       "| chr12_3002000 | chr12         | 3001900       | 3002000       | AB            | 3             | 5             |  33.33333     |   7           | 0;1;0         |   2           |   5           |  1.1627907    |  1.742160     |  -0.5793696   | 172           | 287           | 1.0000000     | 1             | \n",
       "| chr12_3002000 | chr12         | 3001900       | 3002000       | AB            | 3             | 6             |  33.33333     |   5           | 0;0;1         |   1           |   4           |  0.5813953    |  1.393728     |  -0.8123329   | 172           | 287           | 0.6552028     | 1             | \n",
       "| chr12_3002600 | chr12         | 3002500       | 3002600       | AB            | 4             | 0             | 100.00000     |  13           | 1;1;1;1       |   7           |   6           | 58.3333333    | 37.500000     |  20.8333333   |  12           |  16           | 0.7373905     | 1             | \n",
       "| chr12_3002600 | chr12         | 3002500       | 3002600       | AB            | 4             | 2             |  75.00000     |  10           | 1;1;1;0       |   3           |   7           | 25.0000000    | 43.750000     | -18.7500000   |  12           |  16           | 0.7085195     | 1             | \n",
       "| chr12_3002600 | chr12         | 3002500       | 3002600       | AB            | 4             | 3             |  75.00000     |   5           | 0;1;1;1       |   2           |   3           | 16.6666667    | 18.750000     |  -2.0833333   |  12           |  16           | 1.0000000     | 1             | \n",
       "\n",
       "\n"
      ],
      "text/plain": [
       "   bin_id        chr   start   end     input_label cpg_number class_label\n",
       "1  chr12_3002000 chr12 3001900 3002000 AB          3          0          \n",
       "2  chr12_3002000 chr12 3001900 3002000 AB          3          1          \n",
       "3  chr12_3002000 chr12 3001900 3002000 AB          3          2          \n",
       "4  chr12_3002000 chr12 3001900 3002000 AB          3          3          \n",
       "5  chr12_3002000 chr12 3001900 3002000 AB          3          4          \n",
       "6  chr12_3002000 chr12 3001900 3002000 AB          3          5          \n",
       "7  chr12_3002000 chr12 3001900 3002000 AB          3          6          \n",
       "8  chr12_3002600 chr12 3002500 3002600 AB          4          0          \n",
       "9  chr12_3002600 chr12 3002500 3002600 AB          4          2          \n",
       "10 chr12_3002600 chr12 3002500 3002600 AB          4          3          \n",
       "   methylation read_number cpg_pattern A   B   A_norm     B_norm    delta      \n",
       "1  100.00000   341         1;1;1       131 210 76.1627907 73.170732   2.9920590\n",
       "2   66.66667    22         1;0;1        10  12  5.8139535  4.181185   1.6327688\n",
       "3   66.66667    17         0;1;1         7  10  4.0697674  3.484321   0.5854469\n",
       "4   66.66667    48         1;1;0        17  31  9.8837209 10.801394  -0.9176728\n",
       "5   33.33333    19         1;0;0         4  15  2.3255814  5.226481  -2.9008994\n",
       "6   33.33333     7         0;1;0         2   5  1.1627907  1.742160  -0.5793696\n",
       "7   33.33333     5         0;0;1         1   4  0.5813953  1.393728  -0.8123329\n",
       "8  100.00000    13         1;1;1;1       7   6 58.3333333 37.500000  20.8333333\n",
       "9   75.00000    10         1;1;1;0       3   7 25.0000000 43.750000 -18.7500000\n",
       "10  75.00000     5         0;1;1;1       2   3 16.6666667 18.750000  -2.0833333\n",
       "   A_sum B_sum p_val     p_adj\n",
       "1  172   287   0.8250899 1    \n",
       "2  172   287   0.5024110 1    \n",
       "3  172   287   0.8013526 1    \n",
       "4  172   287   0.8757613 1    \n",
       "5  172   287   0.2237443 1    \n",
       "6  172   287   1.0000000 1    \n",
       "7  172   287   0.6552028 1    \n",
       "8   12    16   0.7373905 1    \n",
       "9   12    16   0.7085195 1    \n",
       "10  12    16   1.0000000 1    "
      ]
     },
     "metadata": {},
     "output_type": "display_data"
    }
   ],
   "source": [
    "data <- read.table(\"chr12.csv\", col.names = c(\"bin_id\",\"chr\",\"start\",\"end\",\"input_label\",\"cpg_number\",\"class_label\",\"methylation\",\"read_number\",\"cpg_pattern\",\"A\",\"B\",\"A_norm\",\n",
    "                                           \"B_norm\",\"delta\",\"A_sum\",\"B_sum\",\"p_val\",\"p_adj\"), sep = \",\")\n",
    "\n",
    "\n",
    "head(data,10)"
   ]
  },
  {
   "cell_type": "code",
   "execution_count": 2,
   "metadata": {},
   "outputs": [],
   "source": [
    "# Per Bin\n",
    "# Standard Settings\n",
    "lowStandard <- 35.0\n",
    "highStandard <- 70.0"
   ]
  },
  {
   "cell_type": "code",
   "execution_count": null,
   "metadata": {},
   "outputs": [
    {
     "data": {
      "text/html": [
       "<table>\n",
       "<thead><tr><th scope=col>binID</th><th scope=col>start</th><th scope=col>meth</th><th scope=col>aRead</th><th scope=col>bRead</th><th scope=col>aNorm</th><th scope=col>bNorm</th><th scope=col>cata</th></tr></thead>\n",
       "<tbody>\n",
       "\t<tr><td>chr12_3002000</td><td>3001900      </td><td>100.00000    </td><td>131          </td><td>210          </td><td>76.162791    </td><td>73.170732    </td><td>0            </td></tr>\n",
       "\t<tr><td>chr12_3002000</td><td>3001900      </td><td> 66.66667    </td><td> 10          </td><td> 12          </td><td> 5.813953    </td><td> 4.181185    </td><td>0            </td></tr>\n",
       "\t<tr><td>chr12_3002000</td><td>3001900      </td><td> 66.66667    </td><td>  7          </td><td> 10          </td><td> 4.069767    </td><td> 3.484321    </td><td>0            </td></tr>\n",
       "\t<tr><td>chr12_3002000</td><td>3001900      </td><td> 66.66667    </td><td> 17          </td><td> 31          </td><td> 9.883721    </td><td>10.801394    </td><td>0            </td></tr>\n",
       "\t<tr><td>chr12_3002000</td><td>3001900      </td><td> 33.33333    </td><td>  4          </td><td> 15          </td><td> 2.325581    </td><td> 5.226481    </td><td>0            </td></tr>\n",
       "\t<tr><td>chr12_3002000</td><td>3001900      </td><td> 33.33333    </td><td>  2          </td><td>  5          </td><td> 1.162791    </td><td> 1.742160    </td><td>0            </td></tr>\n",
       "</tbody>\n",
       "</table>\n"
      ],
      "text/latex": [
       "\\begin{tabular}{r|llllllll}\n",
       " binID & start & meth & aRead & bRead & aNorm & bNorm & cata\\\\\n",
       "\\hline\n",
       "\t chr12\\_3002000 & 3001900         & 100.00000       & 131             & 210             & 76.162791       & 73.170732       & 0              \\\\\n",
       "\t chr12\\_3002000 & 3001900         &  66.66667       &  10             &  12             &  5.813953       &  4.181185       & 0              \\\\\n",
       "\t chr12\\_3002000 & 3001900         &  66.66667       &   7             &  10             &  4.069767       &  3.484321       & 0              \\\\\n",
       "\t chr12\\_3002000 & 3001900         &  66.66667       &  17             &  31             &  9.883721       & 10.801394       & 0              \\\\\n",
       "\t chr12\\_3002000 & 3001900         &  33.33333       &   4             &  15             &  2.325581       &  5.226481       & 0              \\\\\n",
       "\t chr12\\_3002000 & 3001900         &  33.33333       &   2             &   5             &  1.162791       &  1.742160       & 0              \\\\\n",
       "\\end{tabular}\n"
      ],
      "text/markdown": [
       "\n",
       "binID | start | meth | aRead | bRead | aNorm | bNorm | cata | \n",
       "|---|---|---|---|---|---|\n",
       "| chr12_3002000 | 3001900       | 100.00000     | 131           | 210           | 76.162791     | 73.170732     | 0             | \n",
       "| chr12_3002000 | 3001900       |  66.66667     |  10           |  12           |  5.813953     |  4.181185     | 0             | \n",
       "| chr12_3002000 | 3001900       |  66.66667     |   7           |  10           |  4.069767     |  3.484321     | 0             | \n",
       "| chr12_3002000 | 3001900       |  66.66667     |  17           |  31           |  9.883721     | 10.801394     | 0             | \n",
       "| chr12_3002000 | 3001900       |  33.33333     |   4           |  15           |  2.325581     |  5.226481     | 0             | \n",
       "| chr12_3002000 | 3001900       |  33.33333     |   2           |   5           |  1.162791     |  1.742160     | 0             | \n",
       "\n",
       "\n"
      ],
      "text/plain": [
       "  binID         start   meth      aRead bRead aNorm     bNorm     cata\n",
       "1 chr12_3002000 3001900 100.00000 131   210   76.162791 73.170732 0   \n",
       "2 chr12_3002000 3001900  66.66667  10    12    5.813953  4.181185 0   \n",
       "3 chr12_3002000 3001900  66.66667   7    10    4.069767  3.484321 0   \n",
       "4 chr12_3002000 3001900  66.66667  17    31    9.883721 10.801394 0   \n",
       "5 chr12_3002000 3001900  33.33333   4    15    2.325581  5.226481 0   \n",
       "6 chr12_3002000 3001900  33.33333   2     5    1.162791  1.742160 0   "
      ]
     },
     "metadata": {},
     "output_type": "display_data"
    }
   ],
   "source": [
    "binID <- data$bin_id\n",
    "start <- data$start\n",
    "meth <- data$methylation\n",
    "aNorm <- data$A_norm\n",
    "bNorm <- data$B_norm\n",
    "aRead <- data$A\n",
    "bRead <- data$B\n",
    "cata <- rep(0, length(binID))\n",
    "\n",
    "df <- data.frame(binID, start, meth, aRead, bRead, aNorm, bNorm, cata)\n",
    "\n",
    "head(df)\n",
    "\n",
    "f.cata <- function(row) {\n",
    "#     print(row)\n",
    "#     print(row[3])\n",
    "      if (as.numeric(as.character(row[3])) < lowStandard) {\n",
    "        row[\"cata\"] <- 1\n",
    "      } else if(as.numeric(as.character(row[3])) < highStandard){\n",
    "        row[\"cata\"] <- 2\n",
    "      } else {\n",
    "        row[\"cata\"] <- 3\n",
    "      }\n",
    "      return(row)\n",
    "}\n",
    "\n",
    "df <- apply(df, MARGIN = 1, FUN = f.cata)\n",
    "df <- t(df)\n",
    "df <- as.data.frame(df)\n",
    "head(df)"
   ]
  },
  {
   "cell_type": "code",
   "execution_count": null,
   "metadata": {},
   "outputs": [],
   "source": [
    "df$cata <- as.numeric(df$cata)\n",
    "df <- df[order(df$start, -df$cata),]\n",
    "head(df)"
   ]
  },
  {
   "cell_type": "code",
   "execution_count": null,
   "metadata": {},
   "outputs": [],
   "source": [
    "df$aRead <- as.numeric(as.character(df[, \"aRead\"]))\n",
    "df$bRead <- as.numeric(as.character(df[, \"bRead\"]))\n",
    "df$aNorm <- as.numeric(as.character(df[, \"aNorm\"]))\n",
    "df$bNorm <- as.numeric(as.character(df[, \"bNorm\"]))"
   ]
  },
  {
   "cell_type": "code",
   "execution_count": null,
   "metadata": {},
   "outputs": [],
   "source": [
    "head(df)"
   ]
  },
  {
   "cell_type": "code",
   "execution_count": null,
   "metadata": {},
   "outputs": [],
   "source": [
    "# testdf <- head(df, 100)\n",
    "# head(testdf)"
   ]
  },
  {
   "cell_type": "code",
   "execution_count": null,
   "metadata": {},
   "outputs": [],
   "source": [
    "# library(ggplot2)"
   ]
  },
  {
   "cell_type": "code",
   "execution_count": null,
   "metadata": {},
   "outputs": [],
   "source": [
    "# ggplot(data = testdf, aes(x = binID, y = aNorm, fill = factor(cata))) + \n",
    "#   geom_bar(stat = \"identity\") + coord_flip() + scale_fill_manual(values = c(\"grey\", \"red\", \"black\"))"
   ]
  },
  {
   "cell_type": "code",
   "execution_count": null,
   "metadata": {},
   "outputs": [],
   "source": [
    "# # A components\n",
    "# ggplot(data = df, aes(x = binID, y = aNorm, fill = factor(cata))) + \n",
    "#   geom_bar(stat = \"identity\", width = 2) + coord_flip() + scale_fill_manual(values = c(\"grey\", \"red\", \"black\"))"
   ]
  },
  {
   "cell_type": "code",
   "execution_count": null,
   "metadata": {},
   "outputs": [],
   "source": [
    "# # B components\n",
    "# ggplot(data = df, aes(x = binID, y = bNorm, fill = factor(cata))) + \n",
    "#   geom_bar(stat = \"identity\", width = 2) + coord_flip() + scale_fill_manual(values = c(\"grey\", \"red\", \"black\"))"
   ]
  },
  {
   "cell_type": "code",
   "execution_count": null,
   "metadata": {},
   "outputs": [],
   "source": [
    "# deltaAB <- df$aNorm - df$bNorm\n",
    "# df <- cbind(df, deltaAB)\n"
   ]
  },
  {
   "cell_type": "code",
   "execution_count": null,
   "metadata": {},
   "outputs": [],
   "source": [
    "# df <- df[,-7]\n",
    "# df"
   ]
  },
  {
   "cell_type": "code",
   "execution_count": null,
   "metadata": {},
   "outputs": [],
   "source": [
    "# # Delta component\n",
    "\n",
    "\n",
    "# ggplot(data = df, aes(x = binID, y = deltaAB, fill = factor(cata))) + \n",
    "#   geom_bar(stat = \"identity\", width = 2) + coord_flip() + scale_fill_manual(values = c(\"grey\", \"red\", \"black\"))"
   ]
  },
  {
   "cell_type": "code",
   "execution_count": null,
   "metadata": {},
   "outputs": [],
   "source": [
    "# head(df)"
   ]
  },
  {
   "cell_type": "code",
   "execution_count": null,
   "metadata": {},
   "outputs": [],
   "source": [
    "library(reshape2)"
   ]
  },
  {
   "cell_type": "code",
   "execution_count": null,
   "metadata": {},
   "outputs": [],
   "source": [
    "df[is.na(df)] = 0\n",
    "\n",
    "aRead <- aggregate(aRead ~ binID + start + cata, FUN = sum, data = df)\n",
    "aRead <- aRead[order(aRead$start, -aRead$cata),]\n",
    "bRead <- aggregate(bRead ~ binID + start + cata, FUN = sum, data = df)\n",
    "bRead <- bRead[order(bRead$start, -bRead$cata),]\n",
    "aNorm <- aggregate(aNorm ~ binID + start + cata, FUN = sum, data = df)\n",
    "aNorm <- aNorm[order(aNorm$start, -aNorm$cata),]\n",
    "bNorm <- aggregate(bNorm ~ binID + start + cata, FUN = sum, data = df)\n",
    "bNorm <- bNorm[order(bNorm$start, -bNorm$cata),]\n",
    "\n",
    "classifiedData <- cbind(aRead, bRead$bRead, aNorm$aNorm, bNorm$bNorm)\n",
    "colnames(classifiedData) <- c(\"binID\", \"start\", \"cata\", \"aRead\", \"bRead\", \"aNorm\", \"bNorm\")"
   ]
  },
  {
   "cell_type": "code",
   "execution_count": null,
   "metadata": {},
   "outputs": [],
   "source": [
    "# for (i in 1:nrow(bNorm)) {\n",
    "#     if (aNorm[i, \"binID\"] != bNorm[i, \"binID\"] | aNorm[i, \"start\"] != bNorm[i, \"start\"] | aNorm[i, \"cata\"] != bNorm[i, \"cata\"]) {\n",
    "#         print(i)\n",
    "#         break\n",
    "#     }\n",
    "# }"
   ]
  },
  {
   "cell_type": "code",
   "execution_count": null,
   "metadata": {},
   "outputs": [],
   "source": [
    "# aNorm[27260:27264,]\n",
    "# bNorm[27260:27264,]"
   ]
  },
  {
   "cell_type": "code",
   "execution_count": null,
   "metadata": {},
   "outputs": [],
   "source": [
    "# df[as.numeric(as.character(df$start)) == \"20071900\",]\n",
    "# length(df$bNorm)"
   ]
  },
  {
   "cell_type": "code",
   "execution_count": null,
   "metadata": {},
   "outputs": [],
   "source": [
    "# classifiedData <- classifiedData[order(classifiedData$start, -classifiedData$cata),]"
   ]
  },
  {
   "cell_type": "code",
   "execution_count": null,
   "metadata": {},
   "outputs": [],
   "source": [
    "head(df, 20)\n",
    "head(classifiedData,10)"
   ]
  },
  {
   "cell_type": "code",
   "execution_count": null,
   "metadata": {},
   "outputs": [],
   "source": [
    "# classifiedData$cata <- factor(classifiedData$cata, levels = c(3,2,1), labels = c(\"high\", \"medium\", \"low\"))"
   ]
  },
  {
   "cell_type": "code",
   "execution_count": null,
   "metadata": {},
   "outputs": [],
   "source": [
    "write.csv(classifiedData, \"new_chr12_static_classified.csv\")"
   ]
  }
 ],
 "metadata": {
  "kernelspec": {
   "display_name": "R",
   "language": "R",
   "name": "ir"
  },
  "language_info": {
   "codemirror_mode": "r",
   "file_extension": ".r",
   "mimetype": "text/x-r-source",
   "name": "R",
   "pygments_lexer": "r",
   "version": "3.5.1"
  }
 },
 "nbformat": 4,
 "nbformat_minor": 2
}
