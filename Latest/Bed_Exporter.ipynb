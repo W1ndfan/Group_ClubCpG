{
 "cells": [
  {
   "cell_type": "code",
   "execution_count": 1,
   "metadata": {},
   "outputs": [
    {
     "data": {
      "text/html": [
       "<table>\n",
       "<thead><tr><th scope=col>X</th><th scope=col>binID</th><th scope=col>start</th><th scope=col>high</th><th scope=col>medium</th><th scope=col>low</th></tr></thead>\n",
       "<tbody>\n",
       "\t<tr><td>10049        </td><td>chr18_3000100</td><td>3000000      </td><td> 18          </td><td> 14          </td><td>  3          </td></tr>\n",
       "\t<tr><td>    2        </td><td>chr18_3000200</td><td>3000100      </td><td> 53          </td><td> 66          </td><td> 21          </td></tr>\n",
       "\t<tr><td>    1        </td><td>gap 1        </td><td>      0      </td><td>100          </td><td>100          </td><td>100          </td></tr>\n",
       "\t<tr><td>    4        </td><td>chr18_3053100</td><td>3053000      </td><td>  9          </td><td>  1          </td><td>  0          </td></tr>\n",
       "\t<tr><td>    5        </td><td>chr18_3053200</td><td>3053100      </td><td> 40          </td><td>  9          </td><td>  4          </td></tr>\n",
       "\t<tr><td>   11        </td><td>gap 2        </td><td>      0      </td><td>100          </td><td>100          </td><td>100          </td></tr>\n",
       "</tbody>\n",
       "</table>\n"
      ],
      "text/latex": [
       "\\begin{tabular}{r|llllll}\n",
       " X & binID & start & high & medium & low\\\\\n",
       "\\hline\n",
       "\t 10049           & chr18\\_3000100 & 3000000         &  18             &  14             &   3            \\\\\n",
       "\t     2           & chr18\\_3000200 & 3000100         &  53             &  66             &  21            \\\\\n",
       "\t     1         & gap 1         &       0       & 100           & 100           & 100          \\\\\n",
       "\t     4           & chr18\\_3053100 & 3053000         &   9             &   1             &   0            \\\\\n",
       "\t     5           & chr18\\_3053200 & 3053100         &  40             &   9             &   4            \\\\\n",
       "\t    11         & gap 2         &       0       & 100           & 100           & 100          \\\\\n",
       "\\end{tabular}\n"
      ],
      "text/markdown": [
       "\n",
       "X | binID | start | high | medium | low | \n",
       "|---|---|---|---|---|---|\n",
       "| 10049         | chr18_3000100 | 3000000       |  18           |  14           |   3           | \n",
       "|     2         | chr18_3000200 | 3000100       |  53           |  66           |  21           | \n",
       "|     1         | gap 1         |       0       | 100           | 100           | 100           | \n",
       "|     4         | chr18_3053100 | 3053000       |   9           |   1           |   0           | \n",
       "|     5         | chr18_3053200 | 3053100       |  40           |   9           |   4           | \n",
       "|    11         | gap 2         |       0       | 100           | 100           | 100           | \n",
       "\n",
       "\n"
      ],
      "text/plain": [
       "  X     binID         start   high medium low\n",
       "1 10049 chr18_3000100 3000000  18   14      3\n",
       "2     2 chr18_3000200 3000100  53   66     21\n",
       "3     1 gap 1               0 100  100    100\n",
       "4     4 chr18_3053100 3053000   9    1      0\n",
       "5     5 chr18_3053200 3053100  40    9      4\n",
       "6    11 gap 2               0 100  100    100"
      ]
     },
     "metadata": {},
     "output_type": "display_data"
    }
   ],
   "source": [
    "data <- read.csv(\"chr18_A_group.csv\")\n",
    "head(data)"
   ]
  },
  {
   "cell_type": "code",
   "execution_count": 2,
   "metadata": {},
   "outputs": [
    {
     "data": {
      "text/html": [
       "<table>\n",
       "<thead><tr><th></th><th scope=col>X</th><th scope=col>binID</th><th scope=col>start</th><th scope=col>high</th><th scope=col>medium</th><th scope=col>low</th></tr></thead>\n",
       "<tbody>\n",
       "\t<tr><th scope=row>9050</th><td>13422         </td><td>gap 2891      </td><td>       0      </td><td>100           </td><td>100           </td><td>100           </td></tr>\n",
       "\t<tr><th scope=row>9051</th><td> 9051         </td><td>chr18_90554000</td><td>90553900      </td><td>126           </td><td> 34           </td><td>  5           </td></tr>\n",
       "\t<tr><th scope=row>9052</th><td> 9052         </td><td>chr18_90554100</td><td>90554000      </td><td>136           </td><td> 25           </td><td>  3           </td></tr>\n",
       "\t<tr><th scope=row>9053</th><td>13423         </td><td>gap 2892      </td><td>       0      </td><td>100           </td><td>100           </td><td>100           </td></tr>\n",
       "\t<tr><th scope=row>9054</th><td> 9054         </td><td>chr18_90598500</td><td>90598400      </td><td> 64           </td><td> 13           </td><td>  5           </td></tr>\n",
       "\t<tr><th scope=row>9055</th><td> 9055         </td><td>chr18_90598600</td><td>90598500      </td><td> 57           </td><td> 18           </td><td>  1           </td></tr>\n",
       "</tbody>\n",
       "</table>\n"
      ],
      "text/latex": [
       "\\begin{tabular}{r|llllll}\n",
       "  & X & binID & start & high & medium & low\\\\\n",
       "\\hline\n",
       "\t9050 & 13422          & gap 2891       &        0       & 100            & 100            & 100           \\\\\n",
       "\t9051 &  9051            & chr18\\_90554000 & 90553900         & 126              &  34              &   5             \\\\\n",
       "\t9052 &  9052            & chr18\\_90554100 & 90554000         & 136              &  25              &   3             \\\\\n",
       "\t9053 & 13423          & gap 2892       &        0       & 100            & 100            & 100           \\\\\n",
       "\t9054 &  9054            & chr18\\_90598500 & 90598400         &  64              &  13              &   5             \\\\\n",
       "\t9055 &  9055            & chr18\\_90598600 & 90598500         &  57              &  18              &   1             \\\\\n",
       "\\end{tabular}\n"
      ],
      "text/markdown": [
       "\n",
       "| <!--/--> | X | binID | start | high | medium | low | \n",
       "|---|---|---|---|---|---|\n",
       "| 9050 | 13422          | gap 2891       |        0       | 100            | 100            | 100            | \n",
       "| 9051 |  9051          | chr18_90554000 | 90553900       | 126            |  34            |   5            | \n",
       "| 9052 |  9052          | chr18_90554100 | 90554000       | 136            |  25            |   3            | \n",
       "| 9053 | 13423          | gap 2892       |        0       | 100            | 100            | 100            | \n",
       "| 9054 |  9054          | chr18_90598500 | 90598400       |  64            |  13            |   5            | \n",
       "| 9055 |  9055          | chr18_90598600 | 90598500       |  57            |  18            |   1            | \n",
       "\n",
       "\n"
      ],
      "text/plain": [
       "     X     binID          start    high medium low\n",
       "9050 13422 gap 2891              0 100  100    100\n",
       "9051  9051 chr18_90554000 90553900 126   34      5\n",
       "9052  9052 chr18_90554100 90554000 136   25      3\n",
       "9053 13423 gap 2892              0 100  100    100\n",
       "9054  9054 chr18_90598500 90598400  64   13      5\n",
       "9055  9055 chr18_90598600 90598500  57   18      1"
      ]
     },
     "metadata": {},
     "output_type": "display_data"
    }
   ],
   "source": [
    "tail(data)"
   ]
  },
  {
   "cell_type": "code",
   "execution_count": 3,
   "metadata": {},
   "outputs": [
    {
     "data": {
      "text/html": [
       "<table>\n",
       "<thead><tr><th></th><th scope=col>binID</th><th scope=col>start</th><th scope=col>high</th><th scope=col>medium</th><th scope=col>low</th></tr></thead>\n",
       "<tbody>\n",
       "\t<tr><th scope=row>9051</th><td>chr18_90554000</td><td>90553900      </td><td>126           </td><td> 34           </td><td>  5           </td></tr>\n",
       "\t<tr><th scope=row>9052</th><td>chr18_90554100</td><td>90554000      </td><td>136           </td><td> 25           </td><td>  3           </td></tr>\n",
       "\t<tr><th scope=row>9053</th><td>gap 2892      </td><td>       0      </td><td>100           </td><td>100           </td><td>100           </td></tr>\n",
       "\t<tr><th scope=row>9054</th><td>chr18_90598500</td><td>90598400      </td><td> 64           </td><td> 13           </td><td>  5           </td></tr>\n",
       "\t<tr><th scope=row>9055</th><td>chr18_90598600</td><td>90598500      </td><td> 57           </td><td> 18           </td><td>  1           </td></tr>\n",
       "\t<tr><th scope=row>9056</th><td>gap2132       </td><td>       0      </td><td>100           </td><td>100           </td><td>100           </td></tr>\n",
       "</tbody>\n",
       "</table>\n"
      ],
      "text/latex": [
       "\\begin{tabular}{r|lllll}\n",
       "  & binID & start & high & medium & low\\\\\n",
       "\\hline\n",
       "\t9051 & chr18\\_90554000 & 90553900         & 126              &  34              &   5             \\\\\n",
       "\t9052 & chr18\\_90554100 & 90554000         & 136              &  25              &   3             \\\\\n",
       "\t9053 & gap 2892       &        0       & 100            & 100            & 100           \\\\\n",
       "\t9054 & chr18\\_90598500 & 90598400         &  64              &  13              &   5             \\\\\n",
       "\t9055 & chr18\\_90598600 & 90598500         &  57              &  18              &   1             \\\\\n",
       "\t9056 & gap2132        &        0       & 100            & 100            & 100           \\\\\n",
       "\\end{tabular}\n"
      ],
      "text/markdown": [
       "\n",
       "| <!--/--> | binID | start | high | medium | low | \n",
       "|---|---|---|---|---|---|\n",
       "| 9051 | chr18_90554000 | 90553900       | 126            |  34            |   5            | \n",
       "| 9052 | chr18_90554100 | 90554000       | 136            |  25            |   3            | \n",
       "| 9053 | gap 2892       |        0       | 100            | 100            | 100            | \n",
       "| 9054 | chr18_90598500 | 90598400       |  64            |  13            |   5            | \n",
       "| 9055 | chr18_90598600 | 90598500       |  57            |  18            |   1            | \n",
       "| 9056 | gap2132        |        0       | 100            | 100            | 100            | \n",
       "\n",
       "\n"
      ],
      "text/plain": [
       "     binID          start    high medium low\n",
       "9051 chr18_90554000 90553900 126   34      5\n",
       "9052 chr18_90554100 90554000 136   25      3\n",
       "9053 gap 2892              0 100  100    100\n",
       "9054 chr18_90598500 90598400  64   13      5\n",
       "9055 chr18_90598600 90598500  57   18      1\n",
       "9056 gap2132               0 100  100    100"
      ]
     },
     "metadata": {},
     "output_type": "display_data"
    }
   ],
   "source": [
    "data <- rbind(data[,-1], data.frame(binID = \"gap2132\", start = 0, high = 100, medium = 100, low = 100))\n",
    "tail(data)"
   ]
  },
  {
   "cell_type": "code",
   "execution_count": 4,
   "metadata": {},
   "outputs": [
    {
     "data": {
      "text/html": [
       "<table>\n",
       "<thead><tr><th scope=col>binID</th><th scope=col>start</th><th scope=col>high</th><th scope=col>medium</th><th scope=col>low</th></tr></thead>\n",
       "<tbody>\n",
       "\t<tr><td>chr18_3000100</td><td>3000000      </td><td> 18          </td><td> 14          </td><td>  3          </td></tr>\n",
       "\t<tr><td>chr18_3000200</td><td>3000100      </td><td> 53          </td><td> 66          </td><td> 21          </td></tr>\n",
       "\t<tr><td>gap 1        </td><td>      0      </td><td>100          </td><td>100          </td><td>100          </td></tr>\n",
       "\t<tr><td>chr18_3053100</td><td>3053000      </td><td>  9          </td><td>  1          </td><td>  0          </td></tr>\n",
       "\t<tr><td>chr18_3053200</td><td>3053100      </td><td> 40          </td><td>  9          </td><td>  4          </td></tr>\n",
       "\t<tr><td>gap 2        </td><td>      0      </td><td>100          </td><td>100          </td><td>100          </td></tr>\n",
       "\t<tr><td>chr18_3064200</td><td>3064100      </td><td>176          </td><td> 32          </td><td>  2          </td></tr>\n",
       "\t<tr><td>chr18_3064300</td><td>3064200      </td><td> 63          </td><td> 11          </td><td>  1          </td></tr>\n",
       "\t<tr><td>gap 3        </td><td>      0      </td><td>100          </td><td>100          </td><td>100          </td></tr>\n",
       "\t<tr><td>chr18_3066500</td><td>3066400      </td><td>183          </td><td> 43          </td><td>  5          </td></tr>\n",
       "</tbody>\n",
       "</table>\n"
      ],
      "text/latex": [
       "\\begin{tabular}{r|lllll}\n",
       " binID & start & high & medium & low\\\\\n",
       "\\hline\n",
       "\t chr18\\_3000100 & 3000000         &  18             &  14             &   3            \\\\\n",
       "\t chr18\\_3000200 & 3000100         &  53             &  66             &  21            \\\\\n",
       "\t gap 1         &       0       & 100           & 100           & 100          \\\\\n",
       "\t chr18\\_3053100 & 3053000         &   9             &   1             &   0            \\\\\n",
       "\t chr18\\_3053200 & 3053100         &  40             &   9             &   4            \\\\\n",
       "\t gap 2         &       0       & 100           & 100           & 100          \\\\\n",
       "\t chr18\\_3064200 & 3064100         & 176             &  32             &   2            \\\\\n",
       "\t chr18\\_3064300 & 3064200         &  63             &  11             &   1            \\\\\n",
       "\t gap 3         &       0       & 100           & 100           & 100          \\\\\n",
       "\t chr18\\_3066500 & 3066400         & 183             &  43             &   5            \\\\\n",
       "\\end{tabular}\n"
      ],
      "text/markdown": [
       "\n",
       "binID | start | high | medium | low | \n",
       "|---|---|---|---|---|---|---|---|---|---|\n",
       "| chr18_3000100 | 3000000       |  18           |  14           |   3           | \n",
       "| chr18_3000200 | 3000100       |  53           |  66           |  21           | \n",
       "| gap 1         |       0       | 100           | 100           | 100           | \n",
       "| chr18_3053100 | 3053000       |   9           |   1           |   0           | \n",
       "| chr18_3053200 | 3053100       |  40           |   9           |   4           | \n",
       "| gap 2         |       0       | 100           | 100           | 100           | \n",
       "| chr18_3064200 | 3064100       | 176           |  32           |   2           | \n",
       "| chr18_3064300 | 3064200       |  63           |  11           |   1           | \n",
       "| gap 3         |       0       | 100           | 100           | 100           | \n",
       "| chr18_3066500 | 3066400       | 183           |  43           |   5           | \n",
       "\n",
       "\n"
      ],
      "text/plain": [
       "   binID         start   high medium low\n",
       "1  chr18_3000100 3000000  18   14      3\n",
       "2  chr18_3000200 3000100  53   66     21\n",
       "3  gap 1               0 100  100    100\n",
       "4  chr18_3053100 3053000   9    1      0\n",
       "5  chr18_3053200 3053100  40    9      4\n",
       "6  gap 2               0 100  100    100\n",
       "7  chr18_3064200 3064100 176   32      2\n",
       "8  chr18_3064300 3064200  63   11      1\n",
       "9  gap 3               0 100  100    100\n",
       "10 chr18_3066500 3066400 183   43      5"
      ]
     },
     "metadata": {},
     "output_type": "display_data"
    }
   ],
   "source": [
    "head(data, 10)"
   ]
  },
  {
   "cell_type": "code",
   "execution_count": 5,
   "metadata": {},
   "outputs": [],
   "source": [
    "startID <- data[1, \"binID\"]\n",
    "start <- data[1, \"start\"]\n",
    "start.flag <- FALSE\n",
    "\n",
    "result <- data.frame(chr = c(), start = c(), end = c(), ID = c())\n",
    "temp <- data.frame(chr = substring(startID, 1, 5), start = start, end = c(0), ID = startID)\n",
    "\n",
    "\n",
    "bed.func <- function(row) {\n",
    "    if (as.numeric(as.character(row[2])) != 0) {\n",
    "        start <<- row[2]\n",
    "        startID <<- row[1]\n",
    "        if (start.flag == TRUE) {\n",
    "            temp <<- data.frame(chr = substring(startID, 1, 5), start = start, end = c(0), ID = startID)\n",
    "            start.flag <<- FALSE\n",
    "        }\n",
    "    } else {\n",
    "        temp$end = as.character(as.numeric(as.character(start)) + 100 - 1)\n",
    "        result <<- rbind(result, temp)\n",
    "        start.flag <<- TRUE\n",
    "    }\n",
    "}"
   ]
  },
  {
   "cell_type": "code",
   "execution_count": 6,
   "metadata": {},
   "outputs": [
    {
     "data": {
      "text/html": [
       "<table>\n",
       "<thead><tr><th></th><th scope=col>chr</th><th scope=col>start</th><th scope=col>end</th><th scope=col>ID</th></tr></thead>\n",
       "<tbody>\n",
       "\t<tr><th scope=row>1</th><td>chr18        </td><td>3e+06        </td><td>3000199      </td><td>chr18_3000100</td></tr>\n",
       "\t<tr><th scope=row>binID</th><td>chr18        </td><td> 3053000     </td><td>3053199      </td><td>chr18_3053100</td></tr>\n",
       "\t<tr><th scope=row>binID1</th><td>chr18        </td><td> 3064100     </td><td>3064299      </td><td>chr18_3064200</td></tr>\n",
       "\t<tr><th scope=row>binID2</th><td>chr18        </td><td> 3066400     </td><td>3066599      </td><td>chr18_3066500</td></tr>\n",
       "\t<tr><th scope=row>binID3</th><td>chr18        </td><td> 3092700     </td><td>3092899      </td><td>chr18_3092800</td></tr>\n",
       "\t<tr><th scope=row>binID4</th><td>chr18        </td><td> 3101700     </td><td>3101899      </td><td>chr18_3101800</td></tr>\n",
       "</tbody>\n",
       "</table>\n"
      ],
      "text/latex": [
       "\\begin{tabular}{r|llll}\n",
       "  & chr & start & end & ID\\\\\n",
       "\\hline\n",
       "\t1 & chr18           & 3e+06           & 3000199         & chr18\\_3000100\\\\\n",
       "\tbinID & chr18           &  3053000        & 3053199         & chr18\\_3053100\\\\\n",
       "\tbinID1 & chr18           &  3064100        & 3064299         & chr18\\_3064200\\\\\n",
       "\tbinID2 & chr18           &  3066400        & 3066599         & chr18\\_3066500\\\\\n",
       "\tbinID3 & chr18           &  3092700        & 3092899         & chr18\\_3092800\\\\\n",
       "\tbinID4 & chr18           &  3101700        & 3101899         & chr18\\_3101800\\\\\n",
       "\\end{tabular}\n"
      ],
      "text/markdown": [
       "\n",
       "| <!--/--> | chr | start | end | ID | \n",
       "|---|---|---|---|---|---|\n",
       "| 1 | chr18         | 3e+06         | 3000199       | chr18_3000100 | \n",
       "| binID | chr18         |  3053000      | 3053199       | chr18_3053100 | \n",
       "| binID1 | chr18         |  3064100      | 3064299       | chr18_3064200 | \n",
       "| binID2 | chr18         |  3066400      | 3066599       | chr18_3066500 | \n",
       "| binID3 | chr18         |  3092700      | 3092899       | chr18_3092800 | \n",
       "| binID4 | chr18         |  3101700      | 3101899       | chr18_3101800 | \n",
       "\n",
       "\n"
      ],
      "text/plain": [
       "       chr   start    end     ID           \n",
       "1      chr18 3e+06    3000199 chr18_3000100\n",
       "binID  chr18  3053000 3053199 chr18_3053100\n",
       "binID1 chr18  3064100 3064299 chr18_3064200\n",
       "binID2 chr18  3066400 3066599 chr18_3066500\n",
       "binID3 chr18  3092700 3092899 chr18_3092800\n",
       "binID4 chr18  3101700 3101899 chr18_3101800"
      ]
     },
     "metadata": {},
     "output_type": "display_data"
    },
    {
     "data": {
      "text/html": [
       "<table>\n",
       "<thead><tr><th></th><th scope=col>chr</th><th scope=col>start</th><th scope=col>end</th><th scope=col>ID</th></tr></thead>\n",
       "<tbody>\n",
       "\t<tr><th scope=row>binID2886</th><td>chr18         </td><td>90430500      </td><td>90430699      </td><td>chr18_90430600</td></tr>\n",
       "\t<tr><th scope=row>binID2887</th><td>chr18         </td><td>90486700      </td><td>90486899      </td><td>chr18_90486800</td></tr>\n",
       "\t<tr><th scope=row>binID2888</th><td>chr18         </td><td>90496700      </td><td>90496899      </td><td>chr18_90496800</td></tr>\n",
       "\t<tr><th scope=row>binID2889</th><td>chr18         </td><td>90536300      </td><td>90536499      </td><td>chr18_90536400</td></tr>\n",
       "\t<tr><th scope=row>binID2890</th><td>chr18         </td><td>90553900      </td><td>90554099      </td><td>chr18_90554000</td></tr>\n",
       "\t<tr><th scope=row>binID2891</th><td>chr18         </td><td>90598400      </td><td>90598599      </td><td>chr18_90598500</td></tr>\n",
       "</tbody>\n",
       "</table>\n"
      ],
      "text/latex": [
       "\\begin{tabular}{r|llll}\n",
       "  & chr & start & end & ID\\\\\n",
       "\\hline\n",
       "\tbinID2886 & chr18            & 90430500         & 90430699         & chr18\\_90430600\\\\\n",
       "\tbinID2887 & chr18            & 90486700         & 90486899         & chr18\\_90486800\\\\\n",
       "\tbinID2888 & chr18            & 90496700         & 90496899         & chr18\\_90496800\\\\\n",
       "\tbinID2889 & chr18            & 90536300         & 90536499         & chr18\\_90536400\\\\\n",
       "\tbinID2890 & chr18            & 90553900         & 90554099         & chr18\\_90554000\\\\\n",
       "\tbinID2891 & chr18            & 90598400         & 90598599         & chr18\\_90598500\\\\\n",
       "\\end{tabular}\n"
      ],
      "text/markdown": [
       "\n",
       "| <!--/--> | chr | start | end | ID | \n",
       "|---|---|---|---|---|---|\n",
       "| binID2886 | chr18          | 90430500       | 90430699       | chr18_90430600 | \n",
       "| binID2887 | chr18          | 90486700       | 90486899       | chr18_90486800 | \n",
       "| binID2888 | chr18          | 90496700       | 90496899       | chr18_90496800 | \n",
       "| binID2889 | chr18          | 90536300       | 90536499       | chr18_90536400 | \n",
       "| binID2890 | chr18          | 90553900       | 90554099       | chr18_90554000 | \n",
       "| binID2891 | chr18          | 90598400       | 90598599       | chr18_90598500 | \n",
       "\n",
       "\n"
      ],
      "text/plain": [
       "          chr   start    end      ID            \n",
       "binID2886 chr18 90430500 90430699 chr18_90430600\n",
       "binID2887 chr18 90486700 90486899 chr18_90486800\n",
       "binID2888 chr18 90496700 90496899 chr18_90496800\n",
       "binID2889 chr18 90536300 90536499 chr18_90536400\n",
       "binID2890 chr18 90553900 90554099 chr18_90554000\n",
       "binID2891 chr18 90598400 90598599 chr18_90598500"
      ]
     },
     "metadata": {},
     "output_type": "display_data"
    }
   ],
   "source": [
    "invisible(apply(data, 1, bed.func))\n",
    "\n",
    "head(result)\n",
    "\n",
    "tail(result)"
   ]
  },
  {
   "cell_type": "code",
   "execution_count": 7,
   "metadata": {},
   "outputs": [],
   "source": [
    "write.table(result, file = \"chr18_A_GO.bed\", quote = FALSE, sep = \"\\t\", col.names = FALSE, row.names = FALSE)"
   ]
  }
 ],
 "metadata": {
  "kernelspec": {
   "display_name": "R",
   "language": "R",
   "name": "ir"
  },
  "language_info": {
   "codemirror_mode": "r",
   "file_extension": ".r",
   "mimetype": "text/x-r-source",
   "name": "R",
   "pygments_lexer": "r",
   "version": "3.5.1"
  }
 },
 "nbformat": 4,
 "nbformat_minor": 2
}
