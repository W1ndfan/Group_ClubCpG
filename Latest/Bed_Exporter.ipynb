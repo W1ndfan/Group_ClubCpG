{
 "cells": [
  {
   "cell_type": "code",
   "execution_count": 1,
   "metadata": {},
   "outputs": [
    {
     "data": {
      "text/html": [
       "<table>\n",
       "<thead><tr><th scope=col>X</th><th scope=col>binID</th><th scope=col>start</th><th scope=col>high</th><th scope=col>medium</th><th scope=col>low</th></tr></thead>\n",
       "<tbody>\n",
       "\t<tr><td>5455       </td><td>chrY_694100</td><td>694000     </td><td> 47        </td><td>  0        </td><td>  3        </td></tr>\n",
       "\t<tr><td>   2       </td><td>chrY_694200</td><td>694100     </td><td> 12        </td><td>  0        </td><td>  0        </td></tr>\n",
       "\t<tr><td>   1       </td><td>gap 1      </td><td>     0     </td><td>100        </td><td>100        </td><td>100        </td></tr>\n",
       "\t<tr><td>   4       </td><td>chrY_694400</td><td>694300     </td><td> 11        </td><td>  0        </td><td>  0        </td></tr>\n",
       "\t<tr><td>   5       </td><td>chrY_694500</td><td>694400     </td><td>  9        </td><td>  0        </td><td>  0        </td></tr>\n",
       "\t<tr><td>  11       </td><td>gap 2      </td><td>     0     </td><td>100        </td><td>100        </td><td>100        </td></tr>\n",
       "</tbody>\n",
       "</table>\n"
      ],
      "text/latex": [
       "\\begin{tabular}{r|llllll}\n",
       " X & binID & start & high & medium & low\\\\\n",
       "\\hline\n",
       "\t 5455          & chrY\\_694100 & 694000        &  47           &   0           &   3          \\\\\n",
       "\t    2          & chrY\\_694200 & 694100        &  12           &   0           &   0          \\\\\n",
       "\t    1        & gap 1       &      0      & 100         & 100         & 100        \\\\\n",
       "\t    4          & chrY\\_694400 & 694300        &  11           &   0           &   0          \\\\\n",
       "\t    5          & chrY\\_694500 & 694400        &   9           &   0           &   0          \\\\\n",
       "\t   11        & gap 2       &      0      & 100         & 100         & 100        \\\\\n",
       "\\end{tabular}\n"
      ],
      "text/markdown": [
       "\n",
       "X | binID | start | high | medium | low | \n",
       "|---|---|---|---|---|---|\n",
       "| 5455        | chrY_694100 | 694000      |  47         |   0         |   3         | \n",
       "|    2        | chrY_694200 | 694100      |  12         |   0         |   0         | \n",
       "|    1        | gap 1       |      0      | 100         | 100         | 100         | \n",
       "|    4        | chrY_694400 | 694300      |  11         |   0         |   0         | \n",
       "|    5        | chrY_694500 | 694400      |   9         |   0         |   0         | \n",
       "|   11        | gap 2       |      0      | 100         | 100         | 100         | \n",
       "\n",
       "\n"
      ],
      "text/plain": [
       "  X    binID       start  high medium low\n",
       "1 5455 chrY_694100 694000  47    0      3\n",
       "2    2 chrY_694200 694100  12    0      0\n",
       "3    1 gap 1            0 100  100    100\n",
       "4    4 chrY_694400 694300  11    0      0\n",
       "5    5 chrY_694500 694400   9    0      0\n",
       "6   11 gap 2            0 100  100    100"
      ]
     },
     "metadata": {},
     "output_type": "display_data"
    }
   ],
   "source": [
    "chrNum = \"chrY\"\n",
    "data <- read.csv(paste(chrNum, \"_B_group.csv\", sep = \"\"))\n",
    "head(data)"
   ]
  },
  {
   "cell_type": "code",
   "execution_count": 2,
   "metadata": {},
   "outputs": [
    {
     "data": {
      "text/html": [
       "<table>\n",
       "<thead><tr><th></th><th scope=col>X</th><th scope=col>binID</th><th scope=col>start</th><th scope=col>high</th><th scope=col>medium</th><th scope=col>low</th></tr></thead>\n",
       "<tbody>\n",
       "\t<tr><th scope=row>1764</th><td>1764         </td><td>gap 551      </td><td>       0     </td><td>100          </td><td>100          </td><td>100          </td></tr>\n",
       "\t<tr><th scope=row>1765</th><td>1765         </td><td>chrY_90828600</td><td>90828500     </td><td> 20          </td><td>  0          </td><td>  0          </td></tr>\n",
       "\t<tr><th scope=row>1766</th><td>1766         </td><td>chrY_90828700</td><td>90828600     </td><td> 15          </td><td>  0          </td><td>  0          </td></tr>\n",
       "\t<tr><th scope=row>1767</th><td>1767         </td><td>gap 552      </td><td>       0     </td><td>100          </td><td>100          </td><td>100          </td></tr>\n",
       "\t<tr><th scope=row>1768</th><td>1768         </td><td>chrY_90829800</td><td>90829700     </td><td>572          </td><td>102          </td><td>  9          </td></tr>\n",
       "\t<tr><th scope=row>1769</th><td>1769         </td><td>chrY_90829900</td><td>90829800     </td><td>115          </td><td> 22          </td><td>  0          </td></tr>\n",
       "</tbody>\n",
       "</table>\n"
      ],
      "text/latex": [
       "\\begin{tabular}{r|llllll}\n",
       "  & X & binID & start & high & medium & low\\\\\n",
       "\\hline\n",
       "\t1764 & 1764          & gap 551       &        0      & 100           & 100           & 100          \\\\\n",
       "\t1765 & 1765            & chrY\\_90828600 & 90828500        &  20             &   0             &   0            \\\\\n",
       "\t1766 & 1766            & chrY\\_90828700 & 90828600        &  15             &   0             &   0            \\\\\n",
       "\t1767 & 1767          & gap 552       &        0      & 100           & 100           & 100          \\\\\n",
       "\t1768 & 1768            & chrY\\_90829800 & 90829700        & 572             & 102             &   9            \\\\\n",
       "\t1769 & 1769            & chrY\\_90829900 & 90829800        & 115             &  22             &   0            \\\\\n",
       "\\end{tabular}\n"
      ],
      "text/markdown": [
       "\n",
       "| <!--/--> | X | binID | start | high | medium | low | \n",
       "|---|---|---|---|---|---|\n",
       "| 1764 | 1764          | gap 551       |        0      | 100           | 100           | 100           | \n",
       "| 1765 | 1765          | chrY_90828600 | 90828500      |  20           |   0           |   0           | \n",
       "| 1766 | 1766          | chrY_90828700 | 90828600      |  15           |   0           |   0           | \n",
       "| 1767 | 1767          | gap 552       |        0      | 100           | 100           | 100           | \n",
       "| 1768 | 1768          | chrY_90829800 | 90829700      | 572           | 102           |   9           | \n",
       "| 1769 | 1769          | chrY_90829900 | 90829800      | 115           |  22           |   0           | \n",
       "\n",
       "\n"
      ],
      "text/plain": [
       "     X    binID         start    high medium low\n",
       "1764 1764 gap 551              0 100  100    100\n",
       "1765 1765 chrY_90828600 90828500  20    0      0\n",
       "1766 1766 chrY_90828700 90828600  15    0      0\n",
       "1767 1767 gap 552              0 100  100    100\n",
       "1768 1768 chrY_90829800 90829700 572  102      9\n",
       "1769 1769 chrY_90829900 90829800 115   22      0"
      ]
     },
     "metadata": {},
     "output_type": "display_data"
    }
   ],
   "source": [
    "tail(data)"
   ]
  },
  {
   "cell_type": "code",
   "execution_count": 3,
   "metadata": {},
   "outputs": [
    {
     "data": {
      "text/html": [
       "<table>\n",
       "<thead><tr><th></th><th scope=col>binID</th><th scope=col>start</th><th scope=col>high</th><th scope=col>medium</th><th scope=col>low</th></tr></thead>\n",
       "<tbody>\n",
       "\t<tr><th scope=row>1765</th><td>chrY_90828600</td><td>90828500     </td><td> 20          </td><td>  0          </td><td>  0          </td></tr>\n",
       "\t<tr><th scope=row>1766</th><td>chrY_90828700</td><td>90828600     </td><td> 15          </td><td>  0          </td><td>  0          </td></tr>\n",
       "\t<tr><th scope=row>1767</th><td>gap 552      </td><td>       0     </td><td>100          </td><td>100          </td><td>100          </td></tr>\n",
       "\t<tr><th scope=row>1768</th><td>chrY_90829800</td><td>90829700     </td><td>572          </td><td>102          </td><td>  9          </td></tr>\n",
       "\t<tr><th scope=row>1769</th><td>chrY_90829900</td><td>90829800     </td><td>115          </td><td> 22          </td><td>  0          </td></tr>\n",
       "\t<tr><th scope=row>1770</th><td>gap2132      </td><td>       0     </td><td>100          </td><td>100          </td><td>100          </td></tr>\n",
       "</tbody>\n",
       "</table>\n"
      ],
      "text/latex": [
       "\\begin{tabular}{r|lllll}\n",
       "  & binID & start & high & medium & low\\\\\n",
       "\\hline\n",
       "\t1765 & chrY\\_90828600 & 90828500        &  20             &   0             &   0            \\\\\n",
       "\t1766 & chrY\\_90828700 & 90828600        &  15             &   0             &   0            \\\\\n",
       "\t1767 & gap 552       &        0      & 100           & 100           & 100          \\\\\n",
       "\t1768 & chrY\\_90829800 & 90829700        & 572             & 102             &   9            \\\\\n",
       "\t1769 & chrY\\_90829900 & 90829800        & 115             &  22             &   0            \\\\\n",
       "\t1770 & gap2132       &        0      & 100           & 100           & 100          \\\\\n",
       "\\end{tabular}\n"
      ],
      "text/markdown": [
       "\n",
       "| <!--/--> | binID | start | high | medium | low | \n",
       "|---|---|---|---|---|---|\n",
       "| 1765 | chrY_90828600 | 90828500      |  20           |   0           |   0           | \n",
       "| 1766 | chrY_90828700 | 90828600      |  15           |   0           |   0           | \n",
       "| 1767 | gap 552       |        0      | 100           | 100           | 100           | \n",
       "| 1768 | chrY_90829800 | 90829700      | 572           | 102           |   9           | \n",
       "| 1769 | chrY_90829900 | 90829800      | 115           |  22           |   0           | \n",
       "| 1770 | gap2132       |        0      | 100           | 100           | 100           | \n",
       "\n",
       "\n"
      ],
      "text/plain": [
       "     binID         start    high medium low\n",
       "1765 chrY_90828600 90828500  20    0      0\n",
       "1766 chrY_90828700 90828600  15    0      0\n",
       "1767 gap 552              0 100  100    100\n",
       "1768 chrY_90829800 90829700 572  102      9\n",
       "1769 chrY_90829900 90829800 115   22      0\n",
       "1770 gap2132              0 100  100    100"
      ]
     },
     "metadata": {},
     "output_type": "display_data"
    }
   ],
   "source": [
    "data <- rbind(data[,-1], data.frame(binID = \"gap2132\", start = 0, high = 100, medium = 100, low = 100))\n",
    "tail(data)"
   ]
  },
  {
   "cell_type": "code",
   "execution_count": 4,
   "metadata": {},
   "outputs": [
    {
     "data": {
      "text/html": [
       "<table>\n",
       "<thead><tr><th scope=col>binID</th><th scope=col>start</th><th scope=col>high</th><th scope=col>medium</th><th scope=col>low</th></tr></thead>\n",
       "<tbody>\n",
       "\t<tr><td>chrY_694100</td><td>694000     </td><td> 47        </td><td>  0        </td><td>  3        </td></tr>\n",
       "\t<tr><td>chrY_694200</td><td>694100     </td><td> 12        </td><td>  0        </td><td>  0        </td></tr>\n",
       "\t<tr><td>gap 1      </td><td>     0     </td><td>100        </td><td>100        </td><td>100        </td></tr>\n",
       "\t<tr><td>chrY_694400</td><td>694300     </td><td> 11        </td><td>  0        </td><td>  0        </td></tr>\n",
       "\t<tr><td>chrY_694500</td><td>694400     </td><td>  9        </td><td>  0        </td><td>  0        </td></tr>\n",
       "\t<tr><td>gap 2      </td><td>     0     </td><td>100        </td><td>100        </td><td>100        </td></tr>\n",
       "\t<tr><td>chrY_695100</td><td>695000     </td><td> 19        </td><td> 10        </td><td>  0        </td></tr>\n",
       "\t<tr><td>chrY_695200</td><td>695100     </td><td> 27        </td><td> 13        </td><td>  0        </td></tr>\n",
       "\t<tr><td>gap 3      </td><td>     0     </td><td>100        </td><td>100        </td><td>100        </td></tr>\n",
       "\t<tr><td>chrY_703100</td><td>703000     </td><td> 24        </td><td>  6        </td><td>  0        </td></tr>\n",
       "</tbody>\n",
       "</table>\n"
      ],
      "text/latex": [
       "\\begin{tabular}{r|lllll}\n",
       " binID & start & high & medium & low\\\\\n",
       "\\hline\n",
       "\t chrY\\_694100 & 694000        &  47           &   0           &   3          \\\\\n",
       "\t chrY\\_694200 & 694100        &  12           &   0           &   0          \\\\\n",
       "\t gap 1       &      0      & 100         & 100         & 100        \\\\\n",
       "\t chrY\\_694400 & 694300        &  11           &   0           &   0          \\\\\n",
       "\t chrY\\_694500 & 694400        &   9           &   0           &   0          \\\\\n",
       "\t gap 2       &      0      & 100         & 100         & 100        \\\\\n",
       "\t chrY\\_695100 & 695000        &  19           &  10           &   0          \\\\\n",
       "\t chrY\\_695200 & 695100        &  27           &  13           &   0          \\\\\n",
       "\t gap 3       &      0      & 100         & 100         & 100        \\\\\n",
       "\t chrY\\_703100 & 703000        &  24           &   6           &   0          \\\\\n",
       "\\end{tabular}\n"
      ],
      "text/markdown": [
       "\n",
       "binID | start | high | medium | low | \n",
       "|---|---|---|---|---|---|---|---|---|---|\n",
       "| chrY_694100 | 694000      |  47         |   0         |   3         | \n",
       "| chrY_694200 | 694100      |  12         |   0         |   0         | \n",
       "| gap 1       |      0      | 100         | 100         | 100         | \n",
       "| chrY_694400 | 694300      |  11         |   0         |   0         | \n",
       "| chrY_694500 | 694400      |   9         |   0         |   0         | \n",
       "| gap 2       |      0      | 100         | 100         | 100         | \n",
       "| chrY_695100 | 695000      |  19         |  10         |   0         | \n",
       "| chrY_695200 | 695100      |  27         |  13         |   0         | \n",
       "| gap 3       |      0      | 100         | 100         | 100         | \n",
       "| chrY_703100 | 703000      |  24         |   6         |   0         | \n",
       "\n",
       "\n"
      ],
      "text/plain": [
       "   binID       start  high medium low\n",
       "1  chrY_694100 694000  47    0      3\n",
       "2  chrY_694200 694100  12    0      0\n",
       "3  gap 1            0 100  100    100\n",
       "4  chrY_694400 694300  11    0      0\n",
       "5  chrY_694500 694400   9    0      0\n",
       "6  gap 2            0 100  100    100\n",
       "7  chrY_695100 695000  19   10      0\n",
       "8  chrY_695200 695100  27   13      0\n",
       "9  gap 3            0 100  100    100\n",
       "10 chrY_703100 703000  24    6      0"
      ]
     },
     "metadata": {},
     "output_type": "display_data"
    }
   ],
   "source": [
    "head(data, 10)"
   ]
  },
  {
   "cell_type": "code",
   "execution_count": 5,
   "metadata": {},
   "outputs": [],
   "source": [
    "startID <- data[1, \"binID\"]\n",
    "start <- data[1, \"start\"]\n",
    "start.flag <- FALSE\n",
    "\n",
    "result <- data.frame(chr = c(), start = c(), end = c(), ID = c())\n",
    "temp <- data.frame(chr = substring(startID, 1, 4), start = start, end = c(0), ID = startID)\n",
    "\n",
    "\n",
    "bed.func <- function(row) {\n",
    "    if (as.numeric(as.character(row[2])) != 0) {\n",
    "        start <<- row[2]\n",
    "        startID <<- row[1]\n",
    "        if (start.flag == TRUE) {\n",
    "            temp <<- data.frame(chr = substring(startID, 1, 4), start = start, end = c(0), ID = startID)\n",
    "            start.flag <<- FALSE\n",
    "        }\n",
    "    } else {\n",
    "        temp$end = as.character(as.numeric(as.character(start)) + 100 - 1)\n",
    "        result <<- rbind(result, temp)\n",
    "        start.flag <<- TRUE\n",
    "    }\n",
    "}"
   ]
  },
  {
   "cell_type": "code",
   "execution_count": 6,
   "metadata": {},
   "outputs": [
    {
     "data": {
      "text/html": [
       "<table>\n",
       "<thead><tr><th></th><th scope=col>chr</th><th scope=col>start</th><th scope=col>end</th><th scope=col>ID</th></tr></thead>\n",
       "<tbody>\n",
       "\t<tr><th scope=row>1</th><td>chrY       </td><td>694000     </td><td>694199     </td><td>chrY_694100</td></tr>\n",
       "\t<tr><th scope=row>binID</th><td>chrY       </td><td>  694300   </td><td>694499     </td><td>chrY_694400</td></tr>\n",
       "\t<tr><th scope=row>binID1</th><td>chrY       </td><td>  695000   </td><td>695199     </td><td>chrY_695100</td></tr>\n",
       "\t<tr><th scope=row>binID2</th><td>chrY       </td><td>  703000   </td><td>703199     </td><td>chrY_703100</td></tr>\n",
       "\t<tr><th scope=row>binID3</th><td>chrY       </td><td>  704500   </td><td>704699     </td><td>chrY_704600</td></tr>\n",
       "\t<tr><th scope=row>binID4</th><td>chrY       </td><td>  704800   </td><td>704999     </td><td>chrY_704900</td></tr>\n",
       "</tbody>\n",
       "</table>\n"
      ],
      "text/latex": [
       "\\begin{tabular}{r|llll}\n",
       "  & chr & start & end & ID\\\\\n",
       "\\hline\n",
       "\t1 & chrY          & 694000        & 694199        & chrY\\_694100\\\\\n",
       "\tbinID & chrY          &   694300      & 694499        & chrY\\_694400\\\\\n",
       "\tbinID1 & chrY          &   695000      & 695199        & chrY\\_695100\\\\\n",
       "\tbinID2 & chrY          &   703000      & 703199        & chrY\\_703100\\\\\n",
       "\tbinID3 & chrY          &   704500      & 704699        & chrY\\_704600\\\\\n",
       "\tbinID4 & chrY          &   704800      & 704999        & chrY\\_704900\\\\\n",
       "\\end{tabular}\n"
      ],
      "text/markdown": [
       "\n",
       "| <!--/--> | chr | start | end | ID | \n",
       "|---|---|---|---|---|---|\n",
       "| 1 | chrY        | 694000      | 694199      | chrY_694100 | \n",
       "| binID | chrY        |   694300    | 694499      | chrY_694400 | \n",
       "| binID1 | chrY        |   695000    | 695199      | chrY_695100 | \n",
       "| binID2 | chrY        |   703000    | 703199      | chrY_703100 | \n",
       "| binID3 | chrY        |   704500    | 704699      | chrY_704600 | \n",
       "| binID4 | chrY        |   704800    | 704999      | chrY_704900 | \n",
       "\n",
       "\n"
      ],
      "text/plain": [
       "       chr  start    end    ID         \n",
       "1      chrY 694000   694199 chrY_694100\n",
       "binID  chrY   694300 694499 chrY_694400\n",
       "binID1 chrY   695000 695199 chrY_695100\n",
       "binID2 chrY   703000 703199 chrY_703100\n",
       "binID3 chrY   704500 704699 chrY_704600\n",
       "binID4 chrY   704800 704999 chrY_704900"
      ]
     },
     "metadata": {},
     "output_type": "display_data"
    },
    {
     "data": {
      "text/html": [
       "<table>\n",
       "<thead><tr><th></th><th scope=col>chr</th><th scope=col>start</th><th scope=col>end</th><th scope=col>ID</th></tr></thead>\n",
       "<tbody>\n",
       "\t<tr><th scope=row>binID546</th><td>chrY         </td><td>90786600     </td><td>90786999     </td><td>chrY_90786700</td></tr>\n",
       "\t<tr><th scope=row>binID547</th><td>chrY         </td><td>90788100     </td><td>90788299     </td><td>chrY_90788200</td></tr>\n",
       "\t<tr><th scope=row>binID548</th><td>chrY         </td><td>90788600     </td><td>90788799     </td><td>chrY_90788700</td></tr>\n",
       "\t<tr><th scope=row>binID549</th><td>chrY         </td><td>90825500     </td><td>90825699     </td><td>chrY_90825600</td></tr>\n",
       "\t<tr><th scope=row>binID550</th><td>chrY         </td><td>90828500     </td><td>90828699     </td><td>chrY_90828600</td></tr>\n",
       "\t<tr><th scope=row>binID551</th><td>chrY         </td><td>90829700     </td><td>90829899     </td><td>chrY_90829800</td></tr>\n",
       "</tbody>\n",
       "</table>\n"
      ],
      "text/latex": [
       "\\begin{tabular}{r|llll}\n",
       "  & chr & start & end & ID\\\\\n",
       "\\hline\n",
       "\tbinID546 & chrY            & 90786600        & 90786999        & chrY\\_90786700\\\\\n",
       "\tbinID547 & chrY            & 90788100        & 90788299        & chrY\\_90788200\\\\\n",
       "\tbinID548 & chrY            & 90788600        & 90788799        & chrY\\_90788700\\\\\n",
       "\tbinID549 & chrY            & 90825500        & 90825699        & chrY\\_90825600\\\\\n",
       "\tbinID550 & chrY            & 90828500        & 90828699        & chrY\\_90828600\\\\\n",
       "\tbinID551 & chrY            & 90829700        & 90829899        & chrY\\_90829800\\\\\n",
       "\\end{tabular}\n"
      ],
      "text/markdown": [
       "\n",
       "| <!--/--> | chr | start | end | ID | \n",
       "|---|---|---|---|---|---|\n",
       "| binID546 | chrY          | 90786600      | 90786999      | chrY_90786700 | \n",
       "| binID547 | chrY          | 90788100      | 90788299      | chrY_90788200 | \n",
       "| binID548 | chrY          | 90788600      | 90788799      | chrY_90788700 | \n",
       "| binID549 | chrY          | 90825500      | 90825699      | chrY_90825600 | \n",
       "| binID550 | chrY          | 90828500      | 90828699      | chrY_90828600 | \n",
       "| binID551 | chrY          | 90829700      | 90829899      | chrY_90829800 | \n",
       "\n",
       "\n"
      ],
      "text/plain": [
       "         chr  start    end      ID           \n",
       "binID546 chrY 90786600 90786999 chrY_90786700\n",
       "binID547 chrY 90788100 90788299 chrY_90788200\n",
       "binID548 chrY 90788600 90788799 chrY_90788700\n",
       "binID549 chrY 90825500 90825699 chrY_90825600\n",
       "binID550 chrY 90828500 90828699 chrY_90828600\n",
       "binID551 chrY 90829700 90829899 chrY_90829800"
      ]
     },
     "metadata": {},
     "output_type": "display_data"
    }
   ],
   "source": [
    "invisible(apply(data, 1, bed.func))\n",
    "\n",
    "head(result)\n",
    "\n",
    "tail(result)"
   ]
  },
  {
   "cell_type": "code",
   "execution_count": 7,
   "metadata": {},
   "outputs": [],
   "source": [
    "write.table(result, file = paste(chrNum, \"_B_GO.bed\"), quote = FALSE, sep = \"\\t\", col.names = FALSE, row.names = FALSE)"
   ]
  }
 ],
 "metadata": {
  "kernelspec": {
   "display_name": "R",
   "language": "R",
   "name": "ir"
  },
  "language_info": {
   "codemirror_mode": "r",
   "file_extension": ".r",
   "mimetype": "text/x-r-source",
   "name": "R",
   "pygments_lexer": "r",
   "version": "3.5.1"
  }
 },
 "nbformat": 4,
 "nbformat_minor": 2
}
