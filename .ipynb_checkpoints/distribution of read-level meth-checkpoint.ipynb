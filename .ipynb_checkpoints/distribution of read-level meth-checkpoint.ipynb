{
 "cells": [
  {
   "cell_type": "code",
   "execution_count": 3,
   "metadata": {},
   "outputs": [
    {
     "data": {
      "text/html": [
       "<table>\n",
       "<thead><tr><th scope=col>X</th><th scope=col>bin_id</th><th scope=col>chr</th><th scope=col>start</th><th scope=col>end</th><th scope=col>input_label</th><th scope=col>cpg_number</th><th scope=col>class_label</th><th scope=col>methylation</th><th scope=col>read_number</th><th scope=col>cpg_pattern</th><th scope=col>A</th><th scope=col>B</th><th scope=col>A_norm</th><th scope=col>B_norm</th><th scope=col>delta</th><th scope=col>A_sum</th><th scope=col>B_sum</th><th scope=col>p_val</th><th scope=col>p_adj</th></tr></thead>\n",
       "<tbody>\n",
       "\t<tr><td>1            </td><td>chr19_3079000</td><td>chr19        </td><td>3078900      </td><td>3079000      </td><td>AB           </td><td>2            </td><td>0            </td><td>100          </td><td>191          </td><td>1;1          </td><td>72           </td><td>119          </td><td>69.230769    </td><td>69.186047    </td><td> 0.04472272  </td><td>104          </td><td>172          </td><td>1.0000000    </td><td>1.0000000    </td></tr>\n",
       "\t<tr><td>2            </td><td>chr19_3079000</td><td>chr19        </td><td>3078900      </td><td>3079000      </td><td>AB           </td><td>2            </td><td>1            </td><td> 50          </td><td> 27          </td><td>1;0          </td><td>10           </td><td> 17          </td><td> 9.615385    </td><td> 9.883721    </td><td>-0.26833631  </td><td>104          </td><td>172          </td><td>1.0000000    </td><td>1.0000000    </td></tr>\n",
       "\t<tr><td>3            </td><td>chr19_3079000</td><td>chr19        </td><td>3078900      </td><td>3079000      </td><td>AB           </td><td>2            </td><td>2            </td><td> 50          </td><td> 48          </td><td>0;1          </td><td>17           </td><td> 31          </td><td>16.346154    </td><td>18.023256    </td><td>-1.67710197  </td><td>104          </td><td>172          </td><td>0.8718957    </td><td>1.0000000    </td></tr>\n",
       "\t<tr><td>4            </td><td>chr19_3079000</td><td>chr19        </td><td>3078900      </td><td>3079000      </td><td>AB           </td><td>2            </td><td>3            </td><td>  0          </td><td> 10          </td><td>0;0          </td><td> 5           </td><td>  5          </td><td> 4.807692    </td><td> 2.906977    </td><td> 1.90071556  </td><td>104          </td><td>172          </td><td>0.5129599    </td><td>1.0000000    </td></tr>\n",
       "\t<tr><td>5            </td><td>chr19_3079600</td><td>chr19        </td><td>3079500      </td><td>3079600      </td><td>AB           </td><td>2            </td><td>0            </td><td>  0          </td><td> 21          </td><td>0;0          </td><td> 5           </td><td> 16          </td><td> 6.849315    </td><td>14.953271    </td><td>-8.10395596  </td><td> 73          </td><td>107          </td><td>0.1609109    </td><td>0.5073756    </td></tr>\n",
       "\t<tr><td>6            </td><td>chr19_3079600</td><td>chr19        </td><td>3079500      </td><td>3079600      </td><td>AB           </td><td>2            </td><td>1            </td><td> 50          </td><td> 16          </td><td>1;0          </td><td> 7           </td><td>  9          </td><td> 9.589041    </td><td> 8.411215    </td><td> 1.17782614  </td><td> 73          </td><td>107          </td><td>0.7971825    </td><td>0.7971825    </td></tr>\n",
       "</tbody>\n",
       "</table>\n"
      ],
      "text/latex": [
       "\\begin{tabular}{r|llllllllllllllllllll}\n",
       " X & bin\\_id & chr & start & end & input\\_label & cpg\\_number & class\\_label & methylation & read\\_number & cpg\\_pattern & A & B & A\\_norm & B\\_norm & delta & A\\_sum & B\\_sum & p\\_val & p\\_adj\\\\\n",
       "\\hline\n",
       "\t 1               & chr19\\_3079000 & chr19           & 3078900         & 3079000         & AB              & 2               & 0               & 100             & 191             & 1;1             & 72              & 119             & 69.230769       & 69.186047       &  0.04472272     & 104             & 172             & 1.0000000       & 1.0000000      \\\\\n",
       "\t 2               & chr19\\_3079000 & chr19           & 3078900         & 3079000         & AB              & 2               & 1               &  50             &  27             & 1;0             & 10              &  17             &  9.615385       &  9.883721       & -0.26833631     & 104             & 172             & 1.0000000       & 1.0000000      \\\\\n",
       "\t 3               & chr19\\_3079000 & chr19           & 3078900         & 3079000         & AB              & 2               & 2               &  50             &  48             & 0;1             & 17              &  31             & 16.346154       & 18.023256       & -1.67710197     & 104             & 172             & 0.8718957       & 1.0000000      \\\\\n",
       "\t 4               & chr19\\_3079000 & chr19           & 3078900         & 3079000         & AB              & 2               & 3               &   0             &  10             & 0;0             &  5              &   5             &  4.807692       &  2.906977       &  1.90071556     & 104             & 172             & 0.5129599       & 1.0000000      \\\\\n",
       "\t 5               & chr19\\_3079600 & chr19           & 3079500         & 3079600         & AB              & 2               & 0               &   0             &  21             & 0;0             &  5              &  16             &  6.849315       & 14.953271       & -8.10395596     &  73             & 107             & 0.1609109       & 0.5073756      \\\\\n",
       "\t 6               & chr19\\_3079600 & chr19           & 3079500         & 3079600         & AB              & 2               & 1               &  50             &  16             & 1;0             &  7              &   9             &  9.589041       &  8.411215       &  1.17782614     &  73             & 107             & 0.7971825       & 0.7971825      \\\\\n",
       "\\end{tabular}\n"
      ],
      "text/markdown": [
       "\n",
       "X | bin_id | chr | start | end | input_label | cpg_number | class_label | methylation | read_number | cpg_pattern | A | B | A_norm | B_norm | delta | A_sum | B_sum | p_val | p_adj | \n",
       "|---|---|---|---|---|---|\n",
       "| 1             | chr19_3079000 | chr19         | 3078900       | 3079000       | AB            | 2             | 0             | 100           | 191           | 1;1           | 72            | 119           | 69.230769     | 69.186047     |  0.04472272   | 104           | 172           | 1.0000000     | 1.0000000     | \n",
       "| 2             | chr19_3079000 | chr19         | 3078900       | 3079000       | AB            | 2             | 1             |  50           |  27           | 1;0           | 10            |  17           |  9.615385     |  9.883721     | -0.26833631   | 104           | 172           | 1.0000000     | 1.0000000     | \n",
       "| 3             | chr19_3079000 | chr19         | 3078900       | 3079000       | AB            | 2             | 2             |  50           |  48           | 0;1           | 17            |  31           | 16.346154     | 18.023256     | -1.67710197   | 104           | 172           | 0.8718957     | 1.0000000     | \n",
       "| 4             | chr19_3079000 | chr19         | 3078900       | 3079000       | AB            | 2             | 3             |   0           |  10           | 0;0           |  5            |   5           |  4.807692     |  2.906977     |  1.90071556   | 104           | 172           | 0.5129599     | 1.0000000     | \n",
       "| 5             | chr19_3079600 | chr19         | 3079500       | 3079600       | AB            | 2             | 0             |   0           |  21           | 0;0           |  5            |  16           |  6.849315     | 14.953271     | -8.10395596   |  73           | 107           | 0.1609109     | 0.5073756     | \n",
       "| 6             | chr19_3079600 | chr19         | 3079500       | 3079600       | AB            | 2             | 1             |  50           |  16           | 1;0           |  7            |   9           |  9.589041     |  8.411215     |  1.17782614   |  73           | 107           | 0.7971825     | 0.7971825     | \n",
       "\n",
       "\n"
      ],
      "text/plain": [
       "  X bin_id        chr   start   end     input_label cpg_number class_label\n",
       "1 1 chr19_3079000 chr19 3078900 3079000 AB          2          0          \n",
       "2 2 chr19_3079000 chr19 3078900 3079000 AB          2          1          \n",
       "3 3 chr19_3079000 chr19 3078900 3079000 AB          2          2          \n",
       "4 4 chr19_3079000 chr19 3078900 3079000 AB          2          3          \n",
       "5 5 chr19_3079600 chr19 3079500 3079600 AB          2          0          \n",
       "6 6 chr19_3079600 chr19 3079500 3079600 AB          2          1          \n",
       "  methylation read_number cpg_pattern A  B   A_norm    B_norm    delta      \n",
       "1 100         191         1;1         72 119 69.230769 69.186047  0.04472272\n",
       "2  50          27         1;0         10  17  9.615385  9.883721 -0.26833631\n",
       "3  50          48         0;1         17  31 16.346154 18.023256 -1.67710197\n",
       "4   0          10         0;0          5   5  4.807692  2.906977  1.90071556\n",
       "5   0          21         0;0          5  16  6.849315 14.953271 -8.10395596\n",
       "6  50          16         1;0          7   9  9.589041  8.411215  1.17782614\n",
       "  A_sum B_sum p_val     p_adj    \n",
       "1 104   172   1.0000000 1.0000000\n",
       "2 104   172   1.0000000 1.0000000\n",
       "3 104   172   0.8718957 1.0000000\n",
       "4 104   172   0.5129599 1.0000000\n",
       "5  73   107   0.1609109 0.5073756\n",
       "6  73   107   0.7971825 0.7971825"
      ]
     },
     "metadata": {},
     "output_type": "display_data"
    }
   ],
   "source": [
    "data <- read.csv(\"new_chr_19.csv\")\n",
    "head(data)"
   ]
  },
  {
   "cell_type": "code",
   "execution_count": 1,
   "metadata": {},
   "outputs": [
    {
     "ename": "ERROR",
     "evalue": "Error in data$methylation: object of type 'closure' is not subsettable\n",
     "output_type": "error",
     "traceback": [
      "Error in data$methylation: object of type 'closure' is not subsettable\nTraceback:\n"
     ]
    }
   ],
   "source": [
    "meth <- as.numeric(as.character(data$methylation))\n",
    "count <- as.numeric(as.character(data$read_number))\n",
    "\n",
    "all_reads <- rep(meth, times = count)\n",
    "\n",
    "hist(all_reads, prob = TRUE, xlab = \"Methylation percentage per read\", breaks = seq(0, 100, 2))\n",
    "\n",
    "lines(density(all_reads), col = \"blue\")"
   ]
  }
 ],
 "metadata": {
  "kernelspec": {
   "display_name": "R",
   "language": "R",
   "name": "ir"
  },
  "language_info": {
   "codemirror_mode": "r",
   "file_extension": ".r",
   "mimetype": "text/x-r-source",
   "name": "R",
   "pygments_lexer": "r",
   "version": "3.5.1"
  }
 },
 "nbformat": 4,
 "nbformat_minor": 2
}
