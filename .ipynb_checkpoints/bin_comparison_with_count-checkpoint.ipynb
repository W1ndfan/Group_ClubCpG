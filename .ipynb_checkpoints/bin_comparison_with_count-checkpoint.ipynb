{
 "cells": [
  {
   "cell_type": "code",
   "execution_count": 1,
   "metadata": {},
   "outputs": [
    {
     "name": "stderr",
     "output_type": "stream",
     "text": [
      "Warning message in scan(file = file, what = what, sep = sep, quote = quote, dec = dec, :\n",
      "“number of items read is not a multiple of the number of columns”"
     ]
    },
    {
     "data": {
      "text/html": [
       "<table>\n",
       "<thead><tr><th scope=col>bin_id</th><th scope=col>chr</th><th scope=col>start</th><th scope=col>end</th><th scope=col>input_label</th><th scope=col>cpg_number</th><th scope=col>class_label</th><th scope=col>methylation</th><th scope=col>read_number</th><th scope=col>cpg_pattern</th><th scope=col>A</th><th scope=col>B</th><th scope=col>A_norm</th><th scope=col>B_norm</th><th scope=col>delta</th><th scope=col>A_sum</th><th scope=col>B_sum</th><th scope=col>p_val</th><th scope=col>p_adj</th></tr></thead>\n",
       "<tbody>\n",
       "\t<tr><td>chr1_3003900</td><td>chr1        </td><td>3003800     </td><td>3003900     </td><td>AB          </td><td>2           </td><td>0           </td><td>100.00000   </td><td>606         </td><td>1;1         </td><td>239         </td><td>367         </td><td>85.663082   </td><td>87.5894988  </td><td>-1.9264164  </td><td>279         </td><td>419         </td><td>0.8649280   </td><td>0.8649280   </td></tr>\n",
       "\t<tr><td>chr1_3003900</td><td>chr1        </td><td>3003800     </td><td>3003900     </td><td>AB          </td><td>2           </td><td>1           </td><td> 50.00000   </td><td> 35         </td><td>0;1         </td><td> 17         </td><td> 18         </td><td> 6.093190   </td><td> 4.2959427  </td><td> 1.7972472  </td><td>279         </td><td>419         </td><td>0.3777109   </td><td>0.7150481   </td></tr>\n",
       "\t<tr><td>chr1_3003900</td><td>chr1        </td><td>3003800     </td><td>3003900     </td><td>AB          </td><td>2           </td><td>2           </td><td> 50.00000   </td><td> 46         </td><td>1;0         </td><td> 16         </td><td> 30         </td><td> 5.734767   </td><td> 7.1599045  </td><td>-1.4251375  </td><td>279         </td><td>419         </td><td>0.5362861   </td><td>0.7150481   </td></tr>\n",
       "\t<tr><td>chr1_3003900</td><td>chr1        </td><td>3003800     </td><td>3003900     </td><td>AB          </td><td>2           </td><td>3           </td><td>  0.00000   </td><td> 11         </td><td>0;0         </td><td>  7         </td><td>  4         </td><td> 2.508961   </td><td> 0.9546539  </td><td> 1.5543066  </td><td>279         </td><td>419         </td><td>0.1296598   </td><td>0.5186390   </td></tr>\n",
       "\t<tr><td>chr1_3007600</td><td>chr1        </td><td>3007500     </td><td>3007600     </td><td>AB          </td><td>2           </td><td>0           </td><td>100.00000   </td><td>236         </td><td>1;1         </td><td>113         </td><td>123         </td><td>75.838926   </td><td>64.3979058  </td><td>11.4410204  </td><td>149         </td><td>191         </td><td>0.3501966   </td><td>0.4647530   </td></tr>\n",
       "\t<tr><td>chr1_3007600</td><td>chr1        </td><td>3007500     </td><td>3007600     </td><td>AB          </td><td>2           </td><td>1           </td><td> 50.00000   </td><td> 53         </td><td>0;1         </td><td> 19         </td><td> 34         </td><td>12.751678   </td><td>17.8010471  </td><td>-5.0493693  </td><td>149         </td><td>191         </td><td>0.2990923   </td><td>0.4647530   </td></tr>\n",
       "\t<tr><td>chr1_3007600</td><td>chr1        </td><td>3007500     </td><td>3007600     </td><td>AB          </td><td>2           </td><td>2           </td><td>  0.00000   </td><td> 18         </td><td>0;0         </td><td>  5         </td><td> 13         </td><td> 3.355705   </td><td> 6.8062827  </td><td>-3.4505780  </td><td>149         </td><td>191         </td><td>0.2256397   </td><td>0.4647530   </td></tr>\n",
       "\t<tr><td>chr1_3007600</td><td>chr1        </td><td>3007500     </td><td>3007600     </td><td>AB          </td><td>2           </td><td>3           </td><td> 50.00000   </td><td> 33         </td><td>1;0         </td><td> 12         </td><td> 21         </td><td> 8.053691   </td><td>10.9947644  </td><td>-2.9410731  </td><td>149         </td><td>191         </td><td>0.4647530   </td><td>0.4647530   </td></tr>\n",
       "\t<tr><td>chr1_3014600</td><td>chr1        </td><td>3014500     </td><td>3014600     </td><td>AB          </td><td>3           </td><td>0           </td><td> 66.66667   </td><td> 18         </td><td>1;0;1       </td><td>  6         </td><td> 12         </td><td> 4.800000   </td><td> 6.7039106  </td><td>-1.9039106  </td><td>125         </td><td>179         </td><td>0.6251592   </td><td>1.0000000   </td></tr>\n",
       "\t<tr><td>chr1_3014600</td><td>chr1        </td><td>3014500     </td><td>3014600     </td><td>AB          </td><td>3           </td><td>1           </td><td> 66.66667   </td><td> 28         </td><td>1;1;0       </td><td> 12         </td><td> 16         </td><td> 9.600000   </td><td> 8.9385475  </td><td> 0.6614525  </td><td>125         </td><td>179         </td><td>0.8442316   </td><td>1.0000000   </td></tr>\n",
       "</tbody>\n",
       "</table>\n"
      ],
      "text/latex": [
       "\\begin{tabular}{r|lllllllllllllllllll}\n",
       " bin\\_id & chr & start & end & input\\_label & cpg\\_number & class\\_label & methylation & read\\_number & cpg\\_pattern & A & B & A\\_norm & B\\_norm & delta & A\\_sum & B\\_sum & p\\_val & p\\_adj\\\\\n",
       "\\hline\n",
       "\t chr1\\_3003900 & chr1           & 3003800        & 3003900        & AB             & 2              & 0              & 100.00000      & 606            & 1;1            & 239            & 367            & 85.663082      & 87.5894988     & -1.9264164     & 279            & 419            & 0.8649280      & 0.8649280     \\\\\n",
       "\t chr1\\_3003900 & chr1           & 3003800        & 3003900        & AB             & 2              & 1              &  50.00000      &  35            & 0;1            &  17            &  18            &  6.093190      &  4.2959427     &  1.7972472     & 279            & 419            & 0.3777109      & 0.7150481     \\\\\n",
       "\t chr1\\_3003900 & chr1           & 3003800        & 3003900        & AB             & 2              & 2              &  50.00000      &  46            & 1;0            &  16            &  30            &  5.734767      &  7.1599045     & -1.4251375     & 279            & 419            & 0.5362861      & 0.7150481     \\\\\n",
       "\t chr1\\_3003900 & chr1           & 3003800        & 3003900        & AB             & 2              & 3              &   0.00000      &  11            & 0;0            &   7            &   4            &  2.508961      &  0.9546539     &  1.5543066     & 279            & 419            & 0.1296598      & 0.5186390     \\\\\n",
       "\t chr1\\_3007600 & chr1           & 3007500        & 3007600        & AB             & 2              & 0              & 100.00000      & 236            & 1;1            & 113            & 123            & 75.838926      & 64.3979058     & 11.4410204     & 149            & 191            & 0.3501966      & 0.4647530     \\\\\n",
       "\t chr1\\_3007600 & chr1           & 3007500        & 3007600        & AB             & 2              & 1              &  50.00000      &  53            & 0;1            &  19            &  34            & 12.751678      & 17.8010471     & -5.0493693     & 149            & 191            & 0.2990923      & 0.4647530     \\\\\n",
       "\t chr1\\_3007600 & chr1           & 3007500        & 3007600        & AB             & 2              & 2              &   0.00000      &  18            & 0;0            &   5            &  13            &  3.355705      &  6.8062827     & -3.4505780     & 149            & 191            & 0.2256397      & 0.4647530     \\\\\n",
       "\t chr1\\_3007600 & chr1           & 3007500        & 3007600        & AB             & 2              & 3              &  50.00000      &  33            & 1;0            &  12            &  21            &  8.053691      & 10.9947644     & -2.9410731     & 149            & 191            & 0.4647530      & 0.4647530     \\\\\n",
       "\t chr1\\_3014600 & chr1           & 3014500        & 3014600        & AB             & 3              & 0              &  66.66667      &  18            & 1;0;1          &   6            &  12            &  4.800000      &  6.7039106     & -1.9039106     & 125            & 179            & 0.6251592      & 1.0000000     \\\\\n",
       "\t chr1\\_3014600 & chr1           & 3014500        & 3014600        & AB             & 3              & 1              &  66.66667      &  28            & 1;1;0          &  12            &  16            &  9.600000      &  8.9385475     &  0.6614525     & 125            & 179            & 0.8442316      & 1.0000000     \\\\\n",
       "\\end{tabular}\n"
      ],
      "text/markdown": [
       "\n",
       "bin_id | chr | start | end | input_label | cpg_number | class_label | methylation | read_number | cpg_pattern | A | B | A_norm | B_norm | delta | A_sum | B_sum | p_val | p_adj | \n",
       "|---|---|---|---|---|---|---|---|---|---|\n",
       "| chr1_3003900 | chr1         | 3003800      | 3003900      | AB           | 2            | 0            | 100.00000    | 606          | 1;1          | 239          | 367          | 85.663082    | 87.5894988   | -1.9264164   | 279          | 419          | 0.8649280    | 0.8649280    | \n",
       "| chr1_3003900 | chr1         | 3003800      | 3003900      | AB           | 2            | 1            |  50.00000    |  35          | 0;1          |  17          |  18          |  6.093190    |  4.2959427   |  1.7972472   | 279          | 419          | 0.3777109    | 0.7150481    | \n",
       "| chr1_3003900 | chr1         | 3003800      | 3003900      | AB           | 2            | 2            |  50.00000    |  46          | 1;0          |  16          |  30          |  5.734767    |  7.1599045   | -1.4251375   | 279          | 419          | 0.5362861    | 0.7150481    | \n",
       "| chr1_3003900 | chr1         | 3003800      | 3003900      | AB           | 2            | 3            |   0.00000    |  11          | 0;0          |   7          |   4          |  2.508961    |  0.9546539   |  1.5543066   | 279          | 419          | 0.1296598    | 0.5186390    | \n",
       "| chr1_3007600 | chr1         | 3007500      | 3007600      | AB           | 2            | 0            | 100.00000    | 236          | 1;1          | 113          | 123          | 75.838926    | 64.3979058   | 11.4410204   | 149          | 191          | 0.3501966    | 0.4647530    | \n",
       "| chr1_3007600 | chr1         | 3007500      | 3007600      | AB           | 2            | 1            |  50.00000    |  53          | 0;1          |  19          |  34          | 12.751678    | 17.8010471   | -5.0493693   | 149          | 191          | 0.2990923    | 0.4647530    | \n",
       "| chr1_3007600 | chr1         | 3007500      | 3007600      | AB           | 2            | 2            |   0.00000    |  18          | 0;0          |   5          |  13          |  3.355705    |  6.8062827   | -3.4505780   | 149          | 191          | 0.2256397    | 0.4647530    | \n",
       "| chr1_3007600 | chr1         | 3007500      | 3007600      | AB           | 2            | 3            |  50.00000    |  33          | 1;0          |  12          |  21          |  8.053691    | 10.9947644   | -2.9410731   | 149          | 191          | 0.4647530    | 0.4647530    | \n",
       "| chr1_3014600 | chr1         | 3014500      | 3014600      | AB           | 3            | 0            |  66.66667    |  18          | 1;0;1        |   6          |  12          |  4.800000    |  6.7039106   | -1.9039106   | 125          | 179          | 0.6251592    | 1.0000000    | \n",
       "| chr1_3014600 | chr1         | 3014500      | 3014600      | AB           | 3            | 1            |  66.66667    |  28          | 1;1;0        |  12          |  16          |  9.600000    |  8.9385475   |  0.6614525   | 125          | 179          | 0.8442316    | 1.0000000    | \n",
       "\n",
       "\n"
      ],
      "text/plain": [
       "   bin_id       chr  start   end     input_label cpg_number class_label\n",
       "1  chr1_3003900 chr1 3003800 3003900 AB          2          0          \n",
       "2  chr1_3003900 chr1 3003800 3003900 AB          2          1          \n",
       "3  chr1_3003900 chr1 3003800 3003900 AB          2          2          \n",
       "4  chr1_3003900 chr1 3003800 3003900 AB          2          3          \n",
       "5  chr1_3007600 chr1 3007500 3007600 AB          2          0          \n",
       "6  chr1_3007600 chr1 3007500 3007600 AB          2          1          \n",
       "7  chr1_3007600 chr1 3007500 3007600 AB          2          2          \n",
       "8  chr1_3007600 chr1 3007500 3007600 AB          2          3          \n",
       "9  chr1_3014600 chr1 3014500 3014600 AB          3          0          \n",
       "10 chr1_3014600 chr1 3014500 3014600 AB          3          1          \n",
       "   methylation read_number cpg_pattern A   B   A_norm    B_norm     delta     \n",
       "1  100.00000   606         1;1         239 367 85.663082 87.5894988 -1.9264164\n",
       "2   50.00000    35         0;1          17  18  6.093190  4.2959427  1.7972472\n",
       "3   50.00000    46         1;0          16  30  5.734767  7.1599045 -1.4251375\n",
       "4    0.00000    11         0;0           7   4  2.508961  0.9546539  1.5543066\n",
       "5  100.00000   236         1;1         113 123 75.838926 64.3979058 11.4410204\n",
       "6   50.00000    53         0;1          19  34 12.751678 17.8010471 -5.0493693\n",
       "7    0.00000    18         0;0           5  13  3.355705  6.8062827 -3.4505780\n",
       "8   50.00000    33         1;0          12  21  8.053691 10.9947644 -2.9410731\n",
       "9   66.66667    18         1;0;1         6  12  4.800000  6.7039106 -1.9039106\n",
       "10  66.66667    28         1;1;0        12  16  9.600000  8.9385475  0.6614525\n",
       "   A_sum B_sum p_val     p_adj    \n",
       "1  279   419   0.8649280 0.8649280\n",
       "2  279   419   0.3777109 0.7150481\n",
       "3  279   419   0.5362861 0.7150481\n",
       "4  279   419   0.1296598 0.5186390\n",
       "5  149   191   0.3501966 0.4647530\n",
       "6  149   191   0.2990923 0.4647530\n",
       "7  149   191   0.2256397 0.4647530\n",
       "8  149   191   0.4647530 0.4647530\n",
       "9  125   179   0.6251592 1.0000000\n",
       "10 125   179   0.8442316 1.0000000"
      ]
     },
     "metadata": {},
     "output_type": "display_data"
    }
   ],
   "source": [
    "data <- read.table(\"chr1.csv\", col.names = c(\"bin_id\",\"chr\",\"start\",\"end\",\"input_label\",\"cpg_number\",\"class_label\",\"methylation\",\"read_number\",\"cpg_pattern\",\"A\",\"B\",\"A_norm\",\n",
    "                                           \"B_norm\",\"delta\",\"A_sum\",\"B_sum\",\"p_val\",\"p_adj\"), sep = \",\")\n",
    "\n",
    "\n",
    "head(data,10)\n",
    "# meth <- data$methylation\n",
    "# read_number <- data$read_number\n",
    "\n",
    "# methResult <- c()\n",
    "# readResult <- c()\n",
    "\n",
    "# for (i in 1: length(meth)){\n",
    "#   if (!meth[i] %in% methResult) {\n",
    "#     methResult <- append(methResult, meth[i])\n",
    "#     readResult <- append(readResult, read_number[i])\n",
    "#   } else {\n",
    "#     readResult[match(meth[i], methResult)] = readResult[match(meth[i], methResult)] + read_number[i]\n",
    "#   }\n",
    "# }"
   ]
  },
  {
   "cell_type": "code",
   "execution_count": 2,
   "metadata": {},
   "outputs": [],
   "source": [
    "#write.csv(data, \"new_chr_19.csv\")"
   ]
  },
  {
   "cell_type": "code",
   "execution_count": 3,
   "metadata": {},
   "outputs": [],
   "source": [
    "# Per Bin\n",
    "# Standard Settings\n",
    "lowStandard <- 35.0\n",
    "highStandard <- 70.0"
   ]
  },
  {
   "cell_type": "code",
   "execution_count": null,
   "metadata": {},
   "outputs": [
    {
     "data": {
      "text/html": [
       "<table>\n",
       "<thead><tr><th scope=col>binID</th><th scope=col>start</th><th scope=col>meth</th><th scope=col>aRead</th><th scope=col>bRead</th><th scope=col>aNorm</th><th scope=col>bNorm</th><th scope=col>cata</th></tr></thead>\n",
       "<tbody>\n",
       "\t<tr><td>chr1_3003900</td><td>3003800     </td><td>100         </td><td>239         </td><td>367         </td><td>85.663082   </td><td>87.5894988  </td><td>0           </td></tr>\n",
       "\t<tr><td>chr1_3003900</td><td>3003800     </td><td> 50         </td><td> 17         </td><td> 18         </td><td> 6.093190   </td><td> 4.2959427  </td><td>0           </td></tr>\n",
       "\t<tr><td>chr1_3003900</td><td>3003800     </td><td> 50         </td><td> 16         </td><td> 30         </td><td> 5.734767   </td><td> 7.1599045  </td><td>0           </td></tr>\n",
       "\t<tr><td>chr1_3003900</td><td>3003800     </td><td>  0         </td><td>  7         </td><td>  4         </td><td> 2.508961   </td><td> 0.9546539  </td><td>0           </td></tr>\n",
       "\t<tr><td>chr1_3007600</td><td>3007500     </td><td>100         </td><td>113         </td><td>123         </td><td>75.838926   </td><td>64.3979058  </td><td>0           </td></tr>\n",
       "\t<tr><td>chr1_3007600</td><td>3007500     </td><td> 50         </td><td> 19         </td><td> 34         </td><td>12.751678   </td><td>17.8010471  </td><td>0           </td></tr>\n",
       "</tbody>\n",
       "</table>\n"
      ],
      "text/latex": [
       "\\begin{tabular}{r|llllllll}\n",
       " binID & start & meth & aRead & bRead & aNorm & bNorm & cata\\\\\n",
       "\\hline\n",
       "\t chr1\\_3003900 & 3003800        & 100            & 239            & 367            & 85.663082      & 87.5894988     & 0             \\\\\n",
       "\t chr1\\_3003900 & 3003800        &  50            &  17            &  18            &  6.093190      &  4.2959427     & 0             \\\\\n",
       "\t chr1\\_3003900 & 3003800        &  50            &  16            &  30            &  5.734767      &  7.1599045     & 0             \\\\\n",
       "\t chr1\\_3003900 & 3003800        &   0            &   7            &   4            &  2.508961      &  0.9546539     & 0             \\\\\n",
       "\t chr1\\_3007600 & 3007500        & 100            & 113            & 123            & 75.838926      & 64.3979058     & 0             \\\\\n",
       "\t chr1\\_3007600 & 3007500        &  50            &  19            &  34            & 12.751678      & 17.8010471     & 0             \\\\\n",
       "\\end{tabular}\n"
      ],
      "text/markdown": [
       "\n",
       "binID | start | meth | aRead | bRead | aNorm | bNorm | cata | \n",
       "|---|---|---|---|---|---|\n",
       "| chr1_3003900 | 3003800      | 100          | 239          | 367          | 85.663082    | 87.5894988   | 0            | \n",
       "| chr1_3003900 | 3003800      |  50          |  17          |  18          |  6.093190    |  4.2959427   | 0            | \n",
       "| chr1_3003900 | 3003800      |  50          |  16          |  30          |  5.734767    |  7.1599045   | 0            | \n",
       "| chr1_3003900 | 3003800      |   0          |   7          |   4          |  2.508961    |  0.9546539   | 0            | \n",
       "| chr1_3007600 | 3007500      | 100          | 113          | 123          | 75.838926    | 64.3979058   | 0            | \n",
       "| chr1_3007600 | 3007500      |  50          |  19          |  34          | 12.751678    | 17.8010471   | 0            | \n",
       "\n",
       "\n"
      ],
      "text/plain": [
       "  binID        start   meth aRead bRead aNorm     bNorm      cata\n",
       "1 chr1_3003900 3003800 100  239   367   85.663082 87.5894988 0   \n",
       "2 chr1_3003900 3003800  50   17    18    6.093190  4.2959427 0   \n",
       "3 chr1_3003900 3003800  50   16    30    5.734767  7.1599045 0   \n",
       "4 chr1_3003900 3003800   0    7     4    2.508961  0.9546539 0   \n",
       "5 chr1_3007600 3007500 100  113   123   75.838926 64.3979058 0   \n",
       "6 chr1_3007600 3007500  50   19    34   12.751678 17.8010471 0   "
      ]
     },
     "metadata": {},
     "output_type": "display_data"
    }
   ],
   "source": [
    "binID <- data$bin_id\n",
    "start <- data$start\n",
    "meth <- data$methylation\n",
    "aNorm <- data$A_norm\n",
    "bNorm <- data$B_norm\n",
    "aRead <- data$A\n",
    "bRead <- data$B\n",
    "cata <- rep(0, length(binID))\n",
    "\n",
    "df <- data.frame(binID, start, meth, aRead, bRead, aNorm, bNorm, cata)\n",
    "\n",
    "head(df)\n",
    "\n",
    "# for (i in 1:length(meth)){\n",
    "#   if (meth[i] < lowStandard) {\n",
    "#     cata <- append(cata, 1)\n",
    "#   } else if(meth[i] < highStandard){\n",
    "#     cata <- append(cata, 2)\n",
    "#   } else {\n",
    "#     cata <- append(cata, 3)\n",
    "#   }\n",
    "# }\n",
    "\n",
    "f.cata <- function(row) {\n",
    "#     print(row)\n",
    "#     print(row[3])\n",
    "      if (as.numeric(row[3]) < lowStandard) {\n",
    "        row[\"cata\"] <- 1\n",
    "      } else if(as.numeric(row[3]) < highStandard){\n",
    "        row[\"cata\"] <- 2\n",
    "      } else {\n",
    "        row[\"cata\"] <- 3\n",
    "      }\n",
    "      return(row)\n",
    "}\n",
    "\n",
    "df <- apply(df, MARGIN = 1, FUN = f.cata)\n",
    "df <- t(df)\n",
    "df <- as.data.frame(df)\n",
    "head(df)"
   ]
  },
  {
   "cell_type": "code",
   "execution_count": null,
   "metadata": {},
   "outputs": [],
   "source": [
    "df$cata <- as.numeric(df$cata)\n",
    "df <- df[order(df$start, -df$cata),]\n",
    "df"
   ]
  },
  {
   "cell_type": "code",
   "execution_count": null,
   "metadata": {},
   "outputs": [],
   "source": [
    "df$aRead <- as.numeric(as.character(df[, \"aRead\"]))\n",
    "df$bRead <- as.numeric(as.character(df[, \"bRead\"]))\n",
    "df$aNorm <- as.numeric(as.character(df[, \"aNorm\"]))\n",
    "df$bNorm <- as.numeric(as.character(df[, \"bNorm\"]))"
   ]
  },
  {
   "cell_type": "code",
   "execution_count": null,
   "metadata": {},
   "outputs": [],
   "source": [
    "head(df)"
   ]
  },
  {
   "cell_type": "code",
   "execution_count": null,
   "metadata": {},
   "outputs": [],
   "source": [
    "testdf <- head(df, 100)\n",
    "testdf"
   ]
  },
  {
   "cell_type": "code",
   "execution_count": null,
   "metadata": {},
   "outputs": [],
   "source": [
    "library(ggplot2)"
   ]
  },
  {
   "cell_type": "code",
   "execution_count": null,
   "metadata": {},
   "outputs": [],
   "source": [
    "ggplot(data = testdf, aes(x = binID, y = aNorm, fill = factor(cata))) + \n",
    "  geom_bar(stat = \"identity\") + coord_flip() + scale_fill_manual(values = c(\"grey\", \"red\", \"black\"))"
   ]
  },
  {
   "cell_type": "code",
   "execution_count": null,
   "metadata": {},
   "outputs": [],
   "source": [
    "# A components\n",
    "ggplot(data = df, aes(x = binID, y = aNorm, fill = factor(cata))) + \n",
    "  geom_bar(stat = \"identity\", width = 2) + coord_flip() + scale_fill_manual(values = c(\"grey\", \"red\", \"black\"))"
   ]
  },
  {
   "cell_type": "code",
   "execution_count": null,
   "metadata": {},
   "outputs": [],
   "source": [
    "# B components\n",
    "ggplot(data = df, aes(x = binID, y = bNorm, fill = factor(cata))) + \n",
    "  geom_bar(stat = \"identity\", width = 2) + coord_flip() + scale_fill_manual(values = c(\"grey\", \"red\", \"black\"))"
   ]
  },
  {
   "cell_type": "code",
   "execution_count": null,
   "metadata": {},
   "outputs": [],
   "source": [
    "deltaAB <- df$aNorm - df$bNorm\n",
    "df <- cbind(df, deltaAB)\n"
   ]
  },
  {
   "cell_type": "code",
   "execution_count": null,
   "metadata": {},
   "outputs": [],
   "source": [
    "df <- df[,-7]\n",
    "df"
   ]
  },
  {
   "cell_type": "code",
   "execution_count": null,
   "metadata": {},
   "outputs": [],
   "source": [
    "# Delta component\n",
    "\n",
    "\n",
    "ggplot(data = df, aes(x = binID, y = deltaAB, fill = factor(cata))) + \n",
    "  geom_bar(stat = \"identity\", width = 2) + coord_flip() + scale_fill_manual(values = c(\"grey\", \"red\", \"black\"))"
   ]
  },
  {
   "cell_type": "code",
   "execution_count": null,
   "metadata": {},
   "outputs": [],
   "source": [
    "head(df)"
   ]
  },
  {
   "cell_type": "code",
   "execution_count": null,
   "metadata": {},
   "outputs": [],
   "source": [
    "library(reshape2)"
   ]
  },
  {
   "cell_type": "code",
   "execution_count": null,
   "metadata": {},
   "outputs": [],
   "source": [
    "# Stupid Version 1\n",
    "# classifiedData <- data.frame()\n",
    "\n",
    "# sumARead = as.numeric(as.character(df[1,]$aRead))\n",
    "# sumBRead = as.numeric(as.character(df[1,]$bRead))\n",
    "# sumANorm = as.numeric(as.character(df[1,]$aNorm))\n",
    "# sumBNorm = as.numeric(as.character(df[1,]$bNorm))\n",
    "\n",
    "# preRow = df[1,]\n",
    "\n",
    "# cluster.fun <- function(row) {\n",
    "#     if (row[\"binID\"] == preRow[\"binID\"] && row[\"cata\"] == preRow[\"cata\"]){\n",
    "#         sumARead <<- sumARead + as.numeric(row[\"aRead\"])\n",
    "#         sumBRead <<- sumBRead + as.numeric(row[\"bRead\"])\n",
    "#         sumANorm <<- sumANorm + as.numeric(row[\"aNorm\"])\n",
    "#         sumBNorm <<- sumBNorm + as.numeric(row[\"bNorm\"])\n",
    "#     } else {\n",
    "#         classifiedData <<- rbind(classifiedData, data.frame(binID = preRow[\"binID\"], start = preRow[\"start\"],\n",
    "#                                                            meth = preRow[\"meth\"], \n",
    "#                                                            aRead = sumARead, bRead = sumBRead,\n",
    "#                                                            aNorm = sumANorm, bNorm = sumBNorm, \n",
    "#                                                            cata = preRow[\"cata\"]))\n",
    "#         sumARead <<- as.numeric(row[\"aRead\"])\n",
    "#         sumBRead <<- as.numeric(row[\"bRead\"])\n",
    "#         sumANorm <<- as.numeric(row[\"aNorm\"])\n",
    "#         sumBNorm <<- as.numeric(row[\"bNorm\"])\n",
    "#     }\n",
    "#     preRow <<- row\n",
    "# }\n",
    "\n",
    "# invisible(apply(df[-1,], MARGIN = 1, FUN = cluster.fun))\n",
    "# head(df,20)\n",
    "# head(classifiedData,10)\n",
    "\n",
    "\n",
    "# Stupid Version 2\n",
    "\n",
    "\n",
    "# sumA = df[1,]$aNorm\n",
    "# sumB = df[1,]$bNorm\n",
    "\n",
    "# for (i in 2:nrow(df)) {\n",
    "#     if (df[i,]$binID == df[i - 1,]$binID && df[i,]$cata == df[i - 1,]$cata){\n",
    "#         sumA = sumA + df[i,]$aNorm\n",
    "#         sumB = sumB + df[i,]$bNorm\n",
    "#     } else {\n",
    "#         classifiedData <- rbind(classifiedData, data.frame(binID = df[i - 1, 1], start = df[i - 1, 2], meth = df[i - 1, 3], aNorm = sumA, \n",
    "#                                                            bNorm = sumB, cata = df[i - 1, 6]))\n",
    "#         sumA = df[i,]$aNorm\n",
    "#         sumB = df[i,]$bNorm\n",
    "#     }\n",
    "# }\n"
   ]
  },
  {
   "cell_type": "code",
   "execution_count": null,
   "metadata": {},
   "outputs": [],
   "source": [
    "classifiedData <- classifiedData[order(classifiedData$start, -classifiedData$cata),]"
   ]
  },
  {
   "cell_type": "code",
   "execution_count": null,
   "metadata": {},
   "outputs": [],
   "source": [
    "head(df, 20)\n",
    "head(classifiedData,10)"
   ]
  },
  {
   "cell_type": "code",
   "execution_count": null,
   "metadata": {},
   "outputs": [],
   "source": [
    "# classifiedData$cata <- factor(classifiedData$cata, levels = c(3,2,1), labels = c(\"high\", \"medium\", \"low\"))"
   ]
  },
  {
   "cell_type": "code",
   "execution_count": null,
   "metadata": {},
   "outputs": [],
   "source": [
    "write.csv(classifiedData, \"new_chr1_static_classified.csv\")"
   ]
  }
 ],
 "metadata": {
  "kernelspec": {
   "display_name": "R",
   "language": "R",
   "name": "ir"
  },
  "language_info": {
   "codemirror_mode": "r",
   "file_extension": ".r",
   "mimetype": "text/x-r-source",
   "name": "R",
   "pygments_lexer": "r",
   "version": "3.5.1"
  }
 },
 "nbformat": 4,
 "nbformat_minor": 2
}
